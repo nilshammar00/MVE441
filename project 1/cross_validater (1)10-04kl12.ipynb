{
 "cells": [
  {
   "cell_type": "code",
   "execution_count": 46,
   "id": "29948443",
   "metadata": {},
   "outputs": [],
   "source": [
    "import numpy as np\n",
    "import torch\n",
    "import deeplay as dl\n",
    "import torchvision\n",
    "import PIL\n",
    "from torchvision import transforms\n",
    "from PIL import Image\n",
    "from torch.utils.data import Dataset, DataLoader\n",
    "from sklearn.model_selection import train_test_split\n",
    "from sklearn.preprocessing import StandardScaler\n",
    "import numpy as np\n",
    "import matplotlib.pyplot as plt\n",
    "from sklearn.ensemble import RandomForestClassifier\n",
    "from sklearn.neural_network import MLPClassifier\n",
    "import sklearn \n",
    "import os\n",
    "import numpy as np\n",
    "from matplotlib import pyplot as plt\n",
    "from sklearn.decomposition import PCA\n",
    "from sklearn.neural_network import MLPClassifier\n",
    "import os\n",
    "\n"
   ]
  },
  {
   "cell_type": "code",
   "execution_count": 7,
   "id": "00dae315",
   "metadata": {},
   "outputs": [],
   "source": [
    "\n",
    "def read_mnist_txt(file_path):\n",
    "    \"\"\"Read MNIST-like data from text file\"\"\"\n",
    "    images = []\n",
    "    labels = []\n",
    "    \n",
    "    with open(file_path, 'r') as file:\n",
    "        for line in file:\n",
    "            if not line.strip():\n",
    "                continue\n",
    "            parts = line.strip().split()\n",
    "            image_num = parts[0].strip('\"')\n",
    "            label = int(parts[1])\n",
    "            \n",
    "            # Validate label range\n",
    "            if label < -9 or label > 9:\n",
    "                raise ValueError(f\"Invalid label {label} found in the dataset.\")\n",
    "            \n",
    "            pixels = list(map(float, parts[2:]))\n",
    "            pixel_array = np.array(pixels).reshape(16, 16)\n",
    "            images.append(pixel_array)\n",
    "            labels.append(label)\n",
    "    \n",
    "    return np.array(images), np.array(labels)"
   ]
  },
  {
   "cell_type": "code",
   "execution_count": 8,
   "id": "29e4732d",
   "metadata": {},
   "outputs": [
    {
     "ename": "NameError",
     "evalue": "name 'Dataset' is not defined",
     "output_type": "error",
     "traceback": [
      "\u001b[1;31m---------------------------------------------------------------------------\u001b[0m",
      "\u001b[1;31mNameError\u001b[0m                                 Traceback (most recent call last)",
      "Cell \u001b[1;32mIn[8], line 1\u001b[0m\n\u001b[1;32m----> 1\u001b[0m \u001b[38;5;28;01mclass\u001b[39;00m \u001b[38;5;21;01mMNISTDataset\u001b[39;00m(\u001b[43mDataset\u001b[49m):\n\u001b[0;32m      2\u001b[0m \u001b[38;5;250m    \u001b[39m\u001b[38;5;124;03m\"\"\"Custom Dataset for MNIST-like data\"\"\"\u001b[39;00m\n\u001b[0;32m      3\u001b[0m     \u001b[38;5;28;01mdef\u001b[39;00m \u001b[38;5;21m__init__\u001b[39m(\u001b[38;5;28mself\u001b[39m, images, labels, transform\u001b[38;5;241m=\u001b[39m\u001b[38;5;28;01mNone\u001b[39;00m):\n",
      "\u001b[1;31mNameError\u001b[0m: name 'Dataset' is not defined"
     ]
    }
   ],
   "source": [
    "\n",
    "class MNISTDataset(Dataset):\n",
    "    \"\"\"Custom Dataset for MNIST-like data\"\"\"\n",
    "    def __init__(self, images, labels, transform=None):\n",
    "        self.images = images\n",
    "        self.labels = labels\n",
    "        self.transform = transform\n",
    "        \n",
    "    def __len__(self):\n",
    "        return len(self.images)\n",
    "    \n",
    "    def __getitem__(self, idx):\n",
    "        image = self.images[idx]\n",
    "        label = self.labels[idx]\n",
    "        \n",
    "        # Convert to PIL Image for compatibility with torchvision transforms\n",
    "        image = Image.fromarray(image.astype('float32'))\n",
    "        \n",
    "        if self.transform:\n",
    "            image = self.transform(image)\n",
    "        \n",
    "        # Shift labels to zero-based indexing\n",
    "        label = torch.tensor(label + 9, dtype=torch.long)\n",
    "        \n",
    "        return image, label\n",
    "\n",
    "def create_cnn_model():\n",
    "    \"\"\"Create CNN model using deeplay\"\"\"\n",
    "    conv_base = dl.ConvolutionalNeuralNetwork(\n",
    "        in_channels=1, \n",
    "        hidden_channels=[16, 16, 32], \n",
    "        out_channels=32,\n",
    "    )\n",
    "    conv_base.blocks[2].pool.configure(torch.nn.MaxPool2d, kernel_size=2)\n",
    "\n",
    "    connector = dl.Layer(torch.nn.AdaptiveAvgPool2d, output_size=1)\n",
    "\n",
    "    # Update out_features to 19 for labels -9 to 9\n",
    "    dense_top = dl.MultiLayerPerceptron(\n",
    "        in_features=32,\n",
    "        hidden_features=[64],\n",
    "        out_features=19,  # Updated\n",
    "        out_activation=torch.nn.LogSoftmax(dim=1)\n",
    "    )\n",
    "\n",
    "    return dl.Sequential(conv_base, connector, dense_top)\n",
    "\n",
    "def train_cnn(train_images, train_labels,lr, epochs=20):\n",
    "    \"\"\"Train the CNN model and return the trained classifier.\"\"\"\n",
    "    # Define transforms\n",
    "    transform = transforms.Compose([\n",
    "        transforms.ToTensor(),\n",
    "        transforms.Normalize((0.5,), (0.5,))\n",
    "    ])\n",
    "\n",
    "    # Create dataset and dataloader\n",
    "    train_dataset = MNISTDataset(train_images, train_labels, transform=transform)\n",
    "    train_loader = DataLoader(train_dataset, batch_size=32, shuffle=True)\n",
    "\n",
    "    # Create model\n",
    "    cnn = create_cnn_model()\n",
    "\n",
    "    # Define classifier\n",
    "    class MNISTClassifier(dl.Classifier):\n",
    "        def __init__(self, model, optimizer):\n",
    "            super().__init__(model=model, optimizer=optimizer)\n",
    "            self.loss_fn = torch.nn.NLLLoss()\n",
    "        \n",
    "        def training_step(self, batch, batch_idx):\n",
    "            x, y = batch\n",
    "            y_hat = self.model(x)\n",
    "            loss = self.loss_fn(y_hat, y)\n",
    "            return loss\n",
    "\n",
    "    classifier = MNISTClassifier(\n",
    "        model=cnn,\n",
    "        optimizer=dl.RMSprop(lr)\n",
    "    ).create()\n",
    "\n",
    "    # Train the model\n",
    "    trainer = dl.Trainer(max_epochs=epochs, accelerator=\"auto\")\n",
    "    trainer.fit(classifier, train_loader)\n",
    "\n",
    "    return classifier\n",
    "\n",
    "\n",
    "# Prediction function\n",
    "def predict_with__cnn(classifier, test_images):\n",
    "    \"\"\"Use trained classifier to make predictions on test_images.\"\"\"\n",
    "    # Define transforms\n",
    "    transform = transforms.Compose([\n",
    "        transforms.ToTensor(),\n",
    "        transforms.Normalize((0.5,), (0.5,))\n",
    "    ])\n",
    "\n",
    "    # Dummy labels for test set\n",
    "    test_dataset = MNISTDataset(test_images, np.zeros(len(test_images)), transform=transform)\n",
    "    test_loader = DataLoader(test_dataset, batch_size=32, shuffle=False)\n",
    "\n",
    "    # Get predictions\n",
    "    test_labels = []\n",
    "    classifier.eval()\n",
    "    with torch.no_grad():\n",
    "        for x, _ in test_loader:\n",
    "            y_hat = classifier.model(x)\n",
    "            preds = torch.argmax(y_hat, dim=1)\n",
    "            test_labels.extend((preds - 9).cpu().numpy().tolist())  # Adjust if needed\n",
    "\n",
    "    return test_labels\n",
    "\n",
    "\n",
    "# Main execution\n",
    "if __name__ == \"__main__\":\n",
    "    images, labels = read_mnist_txt(\"Numbers.txt\")\n",
    "\n",
    "    train_images, test_images, train_labels, _ = train_test_split(\n",
    "        images, labels, test_size=0.2, random_state=42\n",
    "    )\n",
    "\n",
    "    classifier = train_cnn(train_images, train_labels)\n",
    "    predictions = predict_with__cnn(classifier, test_images)\n",
    "\n",
    "    print(\"First 10 test predictions:\", predictions[:10])"
   ]
  },
  {
   "cell_type": "code",
   "execution_count": 59,
   "id": "683f896b",
   "metadata": {},
   "outputs": [],
   "source": [
    "#modified PCA to work with cross-validator\n",
    "def dataPrep(images, labels, test_size=200):\n",
    "    \"\"\"Prepare and split data into train/test sets\"\"\"\n",
    "    randomIndices = np.random.permutation(len(images))\n",
    "    images = np.array(images)[randomIndices]\n",
    "    labels = np.array(labels)[randomIndices]\n",
    "\n",
    "    trainingSet = images[:len(images)-test_size]\n",
    "    trainingLabels = labels[:len(images)-test_size]\n",
    "    testSet = images[-test_size:]\n",
    "    testSetLabels = labels[-test_size:]\n",
    "    \n",
    "    print('Shape of training set:', trainingSet.shape)\n",
    "    print('Shape of test set:', testSet.shape)\n",
    "    \n",
    "    return trainingSet, trainingLabels, testSet, testSetLabels\n",
    "\n",
    "# Only these 2 functions need to change:\n",
    "\n",
    "def dimRedPCA(trainingSet, testSet=None, trainVariance=.95):\n",
    "    \"\"\"Modified to consistently return (data, pca) or (train_data, test_data, pca)\"\"\"\n",
    "    xTrain = trainingSet.reshape(len(trainingSet), -1)\n",
    "    pca = PCA(n_components=trainVariance)\n",
    "    trainPCA = pca.fit_transform(xTrain)\n",
    "    \n",
    "    if testSet is None:\n",
    "        return trainPCA, pca  # Return PCA object when no test set\n",
    "    else:\n",
    "        xTest = testSet.reshape(len(testSet), -1)\n",
    "        return trainPCA, pca.transform(xTest), pca\n",
    "\n",
    "def train_PCA(train_images, train_labels, max_iter=5000):\n",
    "    \"\"\"Training function that handles PCA\"\"\"\n",
    "    train_flat = train_images.reshape(len(train_images), -1)\n",
    "    train_pca, pca = dimRedPCA(train_flat)  # Now correctly unpacks 2 values\n",
    "    \n",
    "    clf = MLPClassifier(solver='sgd', activation='logistic', max_iter = max_iter)\n",
    "    clf.fit(train_pca, train_labels)\n",
    "    return clf, pca  # Return both classifier and PCA object\n",
    "\n",
    "def predict_with_PCA(model_tuple, test_images):\n",
    "    \"\"\"Prediction function that applies PCA\"\"\"\n",
    "    clf, pca = model_tuple\n",
    "    test_flat = test_images.reshape(len(test_images), -1)\n",
    "    test_pca = pca.transform(test_flat)\n",
    "    return clf.predict(test_pca)\n",
    "\n",
    "def logisticNNPCA(filePath='Numbers.txt', trainVariance=.95):\n",
    "    \"\"\"Original pipeline function\"\"\"\n",
    "    images, labels = read_mnist_txt(filePath)\n",
    "    trainingSet, trainingLabels, testSet, testSetLabels = dataPrep(images, labels)\n",
    "    trainPCA, testPCA = dimRedPCA(trainingSet, testSet, trainVariance)\n",
    "    \n",
    "    model = train_PCA(trainPCA, trainingLabels)\n",
    "    predictedLabels = predict_with_PCA(model, testPCA, testSetLabels)\n",
    "    \n",
    "    print(predictedLabels)\n",
    "    return predictedLabels"
   ]
  },
  {
   "cell_type": "code",
   "execution_count": 33,
   "id": "0aded7a3",
   "metadata": {},
   "outputs": [],
   "source": [
    "#random forest for cross-validation\n",
    "from sklearn.metrics import accuracy_score\n",
    "\n",
    "def train_RandomForest(trainingSet, trainingLabels, n_estimators=100):\n",
    "    \"\"\"Train Random Forest classifier and return the trained model\"\"\"\n",
    "    # Flatten images to 1D arrays\n",
    "    X_train = [img.flatten() for img in trainingSet]\n",
    "    \n",
    "    # Initialize and train Random Forest\n",
    "    rf = RandomForestClassifier(n_estimators=n_estimators, random_state=42)\n",
    "    rf.fit(X_train, trainingLabels)\n",
    "    \n",
    "    return rf\n",
    "\n",
    "def predict_with_RandomForest(model, testSet):\n",
    "    \"\"\"Make predictions using trained Random Forest model\"\"\"\n",
    "    # Flatten test images to 1D arrays\n",
    "    X_test = [img.flatten() for img in testSet]\n",
    "    \n",
    "    # Return predictions\n",
    "    return model.predict(X_test)\n",
    "\n",
    "def randomForestClassifier(trainingSet, trainingLabels, testSet, n_estimators=100):\n",
    "    \"\"\"Original function maintained for backward compatibility\"\"\"\n",
    "    rf = train_RandomForest(trainingSet, trainingLabels, n_estimators)\n",
    "    return predict_with_RandomForest(rf, testSet)"
   ]
  },
  {
   "cell_type": "code",
   "execution_count": 4,
   "id": "ab0318a1",
   "metadata": {},
   "outputs": [],
   "source": [
    "# \"Training\" function for k-NN (just returns training data and labels)\n",
    "def train_knn_model(train_images, train_labels, k=3, norm=2):\n",
    "    return {\n",
    "        'train_images': train_images,\n",
    "        'train_labels': train_labels,\n",
    "        'k': k,\n",
    "        'norm': norm\n",
    "    }\n",
    "\n",
    "# Prediction function for k-NN\n",
    "def predict_knn(model, test_images):\n",
    "    train_images = model['train_images']\n",
    "    train_labels = model['train_labels']\n",
    "    k = model['k']\n",
    "    norm = model['norm']\n",
    "    \n",
    "    predictions = []\n",
    "    for image in test_images:\n",
    "        distances = [(\n",
    "            np.linalg.norm(train_image - image, ord=norm), label\n",
    "        ) for train_image, label in zip(train_images, train_labels)]\n",
    "        \n",
    "        neighbors = sorted(distances, key=lambda x: x[0])[:k]\n",
    "        labels = [label for _, label in neighbors]\n",
    "        predicted = max(labels, key=labels.count)\n",
    "        predictions.append(predicted)\n",
    "    \n",
    "    return predictions\n"
   ]
  },
  {
   "cell_type": "code",
   "execution_count": 44,
   "id": "02e15677",
   "metadata": {},
   "outputs": [],
   "source": [
    "from sklearn.model_selection import KFold\n",
    "from sklearn.metrics import accuracy_score\n",
    "\n",
    "def cross_validate(images, labels, train_fn, predict_fn, k_folds=5, metric_fn=accuracy_score):\n",
    "    \"\"\"\n",
    "    Generic cross-validation.\n",
    "\n",
    "    Args:\n",
    "        images (np.ndarray): Image data.\n",
    "        labels (np.ndarray): Corresponding labels.\n",
    "        train_fn (callable): Function to train a model. Signature: (train_images, train_labels) -> model\n",
    "        predict_fn (callable): Function to predict. Signature: (model, test_images) -> predictions\n",
    "        k_folds (int): Number of folds (default 5).\n",
    "        metric_fn (callable): Evaluation metric function. Signature: (true_labels, predicted_labels) -> float\n",
    "\n",
    "    Returns:\n",
    "        List of scores for each fold.\n",
    "    \"\"\"\n",
    "    all_scores = []\n",
    "    kf = KFold(n_splits=k_folds, shuffle=True, )#random_state=42)\n",
    "\n",
    "    for fold, (train_idx, val_idx) in enumerate(kf.split(images)):\n",
    "        print(f\"\\nFold {fold + 1}/{k_folds}\")\n",
    "\n",
    "        train_images, val_images = images[train_idx], images[val_idx]\n",
    "        train_labels, val_labels = labels[train_idx], labels[val_idx]\n",
    "\n",
    "        # Train and predict\n",
    "        model = train_fn(train_images, train_labels)\n",
    "        predictions = predict_fn(model, val_images)\n",
    "\n",
    "        # Score\n",
    "        score = metric_fn(val_labels, predictions)\n",
    "        print(f\"Fold {fold + 1} Score: {score:.4f}\")\n",
    "        all_scores.append(score)\n",
    "\n",
    "    print(\"\\nCross-validation results:\")\n",
    "    print(f\"Mean score: {np.mean(all_scores):.4f}\")\n",
    "    print(f\"Std deviation: {np.std(all_scores):.4f}\")\n",
    "\n",
    "    return all_scores\n"
   ]
  },
  {
   "cell_type": "code",
   "execution_count": 57,
   "id": "6e46880a",
   "metadata": {},
   "outputs": [
    {
     "name": "stdout",
     "output_type": "stream",
     "text": [
      "Testing n_estimators = 5\n",
      "  Repeat 1/3\n",
      "    Accuracy: 0.8550  =>  Error: 0.1450\n",
      "  Repeat 2/3\n",
      "    Accuracy: 0.8575  =>  Error: 0.1425\n",
      "  Repeat 3/3\n",
      "    Accuracy: 0.8125  =>  Error: 0.1875\n",
      "Testing n_estimators = 10\n",
      "  Repeat 1/3\n",
      "    Accuracy: 0.8925  =>  Error: 0.1075\n",
      "  Repeat 2/3\n",
      "    Accuracy: 0.8925  =>  Error: 0.1075\n",
      "  Repeat 3/3\n",
      "    Accuracy: 0.8775  =>  Error: 0.1225\n",
      "Testing n_estimators = 20\n",
      "  Repeat 1/3\n",
      "    Accuracy: 0.9125  =>  Error: 0.0875\n",
      "  Repeat 2/3\n",
      "    Accuracy: 0.9100  =>  Error: 0.0900\n",
      "  Repeat 3/3\n",
      "    Accuracy: 0.9125  =>  Error: 0.0875\n",
      "Testing n_estimators = 50\n",
      "  Repeat 1/3\n",
      "    Accuracy: 0.9250  =>  Error: 0.0750\n",
      "  Repeat 2/3\n",
      "    Accuracy: 0.9300  =>  Error: 0.0700\n",
      "  Repeat 3/3\n",
      "    Accuracy: 0.9300  =>  Error: 0.0700\n",
      "Testing n_estimators = 100\n",
      "  Repeat 1/3\n",
      "    Accuracy: 0.9250  =>  Error: 0.0750\n",
      "  Repeat 2/3\n",
      "    Accuracy: 0.9250  =>  Error: 0.0750\n",
      "  Repeat 3/3\n",
      "    Accuracy: 0.9425  =>  Error: 0.0575\n",
      "Testing n_estimators = 150\n",
      "  Repeat 1/3\n",
      "    Accuracy: 0.9200  =>  Error: 0.0800\n",
      "  Repeat 2/3\n",
      "    Accuracy: 0.9300  =>  Error: 0.0700\n",
      "  Repeat 3/3\n",
      "    Accuracy: 0.9375  =>  Error: 0.0625\n",
      "Testing n_estimators = 200\n",
      "  Repeat 1/3\n",
      "    Accuracy: 0.9250  =>  Error: 0.0750\n",
      "  Repeat 2/3\n",
      "    Accuracy: 0.9350  =>  Error: 0.0650\n",
      "  Repeat 3/3\n",
      "    Accuracy: 0.9425  =>  Error: 0.0575\n"
     ]
    },
    {
     "name": "stderr",
     "output_type": "stream",
     "text": [
      "C:\\Users\\Nils\\AppData\\Local\\Temp\\ipykernel_24980\\1701069328.py:43: MatplotlibDeprecationWarning: The 'labels' parameter of boxplot() has been renamed 'tick_labels' since Matplotlib 3.9; support for the old name will be dropped in 3.11.\n",
      "  plt.boxplot(errors_by_estimators, labels=[str(n) for n in estimator_values], patch_artist=True)\n"
     ]
    },
    {
     "data": {
      "image/png": "[encoded data removed]",
      "text/plain": [
       "<Figure size 1000x600 with 1 Axes>"
      ]
     },
     "metadata": {},
     "output_type": "display_data"
    },
    {
     "name": "stdout",
     "output_type": "stream",
     "text": [
      "\n",
      "n_estimators = 5, Sorted Errors (3 values):\n",
      "[0.14249999999999996, 0.14500000000000002, 0.1875]\n",
      "\n",
      "n_estimators = 10, Sorted Errors (3 values):\n",
      "[0.10750000000000004, 0.10750000000000004, 0.12250000000000005]\n",
      "\n",
      "n_estimators = 20, Sorted Errors (3 values):\n",
      "[0.08750000000000002, 0.08750000000000002, 0.08999999999999997]\n",
      "\n",
      "n_estimators = 50, Sorted Errors (3 values):\n",
      "[0.06999999999999995, 0.06999999999999995, 0.07499999999999996]\n",
      "\n",
      "n_estimators = 100, Sorted Errors (3 values):\n",
      "[0.057499999999999996, 0.07499999999999996, 0.07499999999999996]\n",
      "\n",
      "n_estimators = 150, Sorted Errors (3 values):\n",
      "[0.0625, 0.06999999999999995, 0.07999999999999996]\n",
      "\n",
      "n_estimators = 200, Sorted Errors (3 values):\n",
      "[0.057499999999999996, 0.06499999999999995, 0.07499999999999996]\n"
     ]
    }
   ],
   "source": [
    "#tune random forest with Cv\n",
    "import numpy as np\n",
    "import matplotlib.pyplot as plt\n",
    "from sklearn.model_selection import train_test_split\n",
    "from sklearn.metrics import accuracy_score\n",
    "from sklearn.ensemble import RandomForestClassifier\n",
    "\n",
    "# Define estimator values to test\n",
    "estimator_values = [5, 10, 20, 50, 100, 150, 200]\n",
    "repeats = 3\n",
    "errors_by_estimators = []\n",
    "\n",
    "# Load and flatten images\n",
    "images, labels = read_mnist_txt(\"Numbers.txt\")\n",
    "images = images.reshape(len(images), -1)  # Flatten for Random Forest\n",
    "images = StandardScaler().fit_transform(images)\n",
    "\n",
    "for n in estimator_values:\n",
    "    print(f\"Testing n_estimators = {n}\")\n",
    "    error_list = []\n",
    "\n",
    "    for repeat in range(repeats):\n",
    "        print(f\"  Repeat {repeat + 1}/{repeats}\")\n",
    "        \n",
    "        X_train, X_test, y_train, y_test = train_test_split(\n",
    "            images, labels, test_size=0.2, random_state=42 + repeat\n",
    "        )\n",
    "\n",
    "        # Train and evaluate Random Forest\n",
    "        rf = RandomForestClassifier(n_estimators=n, random_state=42)\n",
    "        rf.fit(X_train, y_train)\n",
    "        predictions = rf.predict(X_test)\n",
    "\n",
    "        acc = accuracy_score(y_test, predictions)\n",
    "        error = 1 - acc\n",
    "        print(f\"    Accuracy: {acc:.4f}  =>  Error: {error:.4f}\")\n",
    "        error_list.append(error)\n",
    "\n",
    "    errors_by_estimators.append(error_list)\n",
    "\n",
    "# Plotting error vs n_estimators\n",
    "plt.figure(figsize=(10, 6))\n",
    "plt.boxplot(errors_by_estimators, labels=[str(n) for n in estimator_values], patch_artist=True)\n",
    "plt.title(\"Random Forest Classification Error vs Number of Estimators\")\n",
    "plt.xlabel(\"Number of Estimators (Trees)\")\n",
    "plt.ylabel(\"Classification Error (1 - Accuracy)\")\n",
    "plt.grid(True)\n",
    "plt.show()\n",
    "\n",
    "# Print sorted errors\n",
    "for i, n in enumerate(estimator_values):\n",
    "    sorted_errors = sorted(errors_by_estimators[i])\n",
    "    print(f\"\\nn_estimators = {n}, Sorted Errors ({len(sorted_errors)} values):\")\n",
    "    print(sorted_errors)\n"
   ]
  },
  {
   "cell_type": "code",
   "execution_count": 5,
   "id": "744f55aa",
   "metadata": {},
   "outputs": [
    {
     "ename": "NameError",
     "evalue": "name 'read_mnist_txt' is not defined",
     "output_type": "error",
     "traceback": [
      "\u001b[1;31m---------------------------------------------------------------------------\u001b[0m",
      "\u001b[1;31mNameError\u001b[0m                                 Traceback (most recent call last)",
      "Cell \u001b[1;32mIn[5], line 10\u001b[0m\n\u001b[0;32m      6\u001b[0m \u001b[38;5;28;01mfrom\u001b[39;00m \u001b[38;5;21;01mfunctools\u001b[39;00m \u001b[38;5;28;01mimport\u001b[39;00m partial\n\u001b[0;32m      8\u001b[0m \u001b[38;5;28;01mif\u001b[39;00m \u001b[38;5;18m__name__\u001b[39m \u001b[38;5;241m==\u001b[39m \u001b[38;5;124m\"\u001b[39m\u001b[38;5;124m__main__\u001b[39m\u001b[38;5;124m\"\u001b[39m:\n\u001b[0;32m      9\u001b[0m     \u001b[38;5;66;03m# Load and preprocess\u001b[39;00m\n\u001b[1;32m---> 10\u001b[0m     images, labels \u001b[38;5;241m=\u001b[39m \u001b[43mread_mnist_txt\u001b[49m(\u001b[38;5;124m\"\u001b[39m\u001b[38;5;124mNumbers.txt\u001b[39m\u001b[38;5;124m\"\u001b[39m)\n\u001b[0;32m     11\u001b[0m     flat_images \u001b[38;5;241m=\u001b[39m images\u001b[38;5;241m.\u001b[39mreshape(\u001b[38;5;28mlen\u001b[39m(images), \u001b[38;5;241m-\u001b[39m\u001b[38;5;241m1\u001b[39m)\n\u001b[0;32m     12\u001b[0m     flat_images \u001b[38;5;241m=\u001b[39m StandardScaler()\u001b[38;5;241m.\u001b[39mfit_transform(flat_images)\n",
      "\u001b[1;31mNameError\u001b[0m: name 'read_mnist_txt' is not defined"
     ]
    }
   ],
   "source": [
    "#tune knn with CV\n",
    "import numpy as np\n",
    "import matplotlib.pyplot as plt\n",
    "from sklearn.preprocessing import StandardScaler\n",
    "from sklearn.metrics import accuracy_score\n",
    "from functools import partial\n",
    "\n",
    "if __name__ == \"__main__\":\n",
    "    # Load and preprocess\n",
    "    images, labels = read_mnist_txt(\"Numbers.txt\")\n",
    "    flat_images = images.reshape(len(images), -1)\n",
    "    flat_images = StandardScaler().fit_transform(flat_images)\n",
    "\n",
    "    # k values to test\n",
    "    k_values = [1, 3, 5, 7, 10, 15, 25, 40]\n",
    "    repeats = 8\n",
    "    all_results = []\n",
    "\n",
    "    print(\"Starting cross-validation...\\n\")\n",
    "\n",
    "    for k in k_values:\n",
    "        print(f\"Testing k = {k}\")\n",
    "        scores_k = []\n",
    "        train_fn = partial(train_knn_model, k=k, norm=2)\n",
    "\n",
    "        for rep in range(repeats):\n",
    "            print(f\"  Repeat {rep + 1}/{repeats}\")\n",
    "            scores = cross_validate(\n",
    "                images=flat_images,\n",
    "                labels=labels,\n",
    "                train_fn=train_fn,\n",
    "                predict_fn=predict_knn,\n",
    "                k_folds=5,\n",
    "                metric_fn=accuracy_score\n",
    "            )\n",
    "            scores_k.extend(scores)\n",
    "\n",
    "        all_results.append(scores_k)\n",
    "\n",
    "    # Compute mean classification error for each k\n",
    "knn_mean_errors = [1 - np.mean(scores) for scores in all_results]\n",
    "\n",
    "plt.figure(figsize=(8, 5))\n",
    "plt.plot(k_values, knn_mean_errors, marker='o', linestyle='-', color='purple')\n",
    "plt.title(\"Mean Classification Error vs. k (k-NN)\")\n",
    "plt.xlabel(\"Number of Neighbors (k)\")\n",
    "plt.ylabel(\"Mean Classification Error\")\n",
    "plt.grid(True)\n",
    "plt.show()\n",
    "\n",
    "for i, k in enumerate(k_values):\n",
    "    sorted_scores = sorted(all_results[i])\n",
    "    print(f\"\\nk = {k}, Sorted Accuracy Scores ({len(sorted_scores)} values):\")\n",
    "    print(sorted_scores)\n"
   ]
  },
  {
   "cell_type": "code",
   "execution_count": 52,
   "id": "c91ca980",
   "metadata": {},
   "outputs": [
    {
     "data": {
      "image/png": "[encoded data removed]",
      "text/plain": [
       "<Figure size 800x500 with 1 Axes>"
      ]
     },
     "metadata": {},
     "output_type": "display_data"
    }
   ],
   "source": [
    "# Compute mean cross-validation error for each k\n",
    "mean_errors = [1 - np.mean(scores_k) for scores_k in all_results]\n",
    "\n",
    "# Plot k vs. R_cv(k)\n",
    "plt.figure(figsize=(8, 5))\n",
    "plt.plot(k_values, mean_errors, marker='o', linestyle='-', color='red')\n",
    "plt.title(\"Mean Cross-Validation Error vs. k\")\n",
    "plt.xlabel(\"Number of Neighbors (k)\")\n",
    "plt.ylabel(\"Cross-Validation Error (R_cv)\")\n",
    "plt.grid(True)\n",
    "plt.show()\n"
   ]
  },
  {
   "cell_type": "code",
   "execution_count": 6,
   "id": "e16ad255",
   "metadata": {},
   "outputs": [
    {
     "ename": "NameError",
     "evalue": "name 'all_results' is not defined",
     "output_type": "error",
     "traceback": [
      "\u001b[1;31m---------------------------------------------------------------------------\u001b[0m",
      "\u001b[1;31mNameError\u001b[0m                                 Traceback (most recent call last)",
      "Cell \u001b[1;32mIn[6], line 2\u001b[0m\n\u001b[0;32m      1\u001b[0m \u001b[38;5;66;03m# Compute mean classification error for each k\u001b[39;00m\n\u001b[1;32m----> 2\u001b[0m knn_mean_errors \u001b[38;5;241m=\u001b[39m [\u001b[38;5;241m1\u001b[39m \u001b[38;5;241m-\u001b[39m np\u001b[38;5;241m.\u001b[39mmean(scores) \u001b[38;5;28;01mfor\u001b[39;00m scores \u001b[38;5;129;01min\u001b[39;00m \u001b[43mall_results\u001b[49m]\n\u001b[0;32m      4\u001b[0m plt\u001b[38;5;241m.\u001b[39mfigure(figsize\u001b[38;5;241m=\u001b[39m(\u001b[38;5;241m8\u001b[39m, \u001b[38;5;241m5\u001b[39m))\n\u001b[0;32m      5\u001b[0m plt\u001b[38;5;241m.\u001b[39mplot(k_values, knn_mean_errors, marker\u001b[38;5;241m=\u001b[39m\u001b[38;5;124m'\u001b[39m\u001b[38;5;124mo\u001b[39m\u001b[38;5;124m'\u001b[39m, linestyle\u001b[38;5;241m=\u001b[39m\u001b[38;5;124m'\u001b[39m\u001b[38;5;124m-\u001b[39m\u001b[38;5;124m'\u001b[39m, color\u001b[38;5;241m=\u001b[39m\u001b[38;5;124m'\u001b[39m\u001b[38;5;124mpurple\u001b[39m\u001b[38;5;124m'\u001b[39m)\n",
      "\u001b[1;31mNameError\u001b[0m: name 'all_results' is not defined"
     ]
    }
   ],
   "source": [
    "# Compute mean classification error for each k\n",
    "knn_mean_errors = [1 - np.mean(scores) for scores in all_results]\n",
    "\n",
    "plt.figure(figsize=(8, 5))\n",
    "plt.plot(k_values, knn_mean_errors, marker='o', linestyle='-', color='purple')\n",
    "plt.title(\"Mean Classification Error vs. k (k-NN)\")\n",
    "plt.xlabel(\"Number of Neighbors (k)\")\n",
    "plt.ylabel(\"Mean Classification Error\")\n",
    "plt.grid(True)\n",
    "plt.show()\n"
   ]
  },
  {
   "cell_type": "code",
   "execution_count": 32,
   "id": "92e031ee",
   "metadata": {},
   "outputs": [
    {
     "name": "stdout",
     "output_type": "stream",
     "text": [
      "\n",
      "Fold 1/5\n",
      "Fold 1 Score: 0.9075\n",
      "\n",
      "Fold 2/5\n",
      "Fold 2 Score: 0.9300\n",
      "\n",
      "Fold 3/5\n",
      "Fold 3 Score: 0.9150\n",
      "\n",
      "Fold 4/5\n",
      "Fold 4 Score: 0.9525\n",
      "\n",
      "Fold 5/5\n",
      "Fold 5 Score: 0.9225\n",
      "\n",
      "Cross-validation results:\n",
      "Mean score: 0.9255\n",
      "Std deviation: 0.0154\n"
     ]
    }
   ],
   "source": [
    "#perform PCA classification with cross-validation\n",
    "if __name__ == \"__main__\":\n",
    "    images, labels = read_mnist_txt(\"Numbers.txt\")\n",
    "\n",
    "    scores = cross_validate(\n",
    "        images=images,\n",
    "        labels=labels,\n",
    "        train_fn=train_PCA,\n",
    "        predict_fn=predict_with_PCA,\n",
    "        k_folds=5,\n",
    "        metric_fn=accuracy_score  # Optional, default already\n",
    "    )\n"
   ]
  },
  {
   "cell_type": "code",
   "execution_count": 60,
   "id": "e9a0119c",
   "metadata": {},
   "outputs": [
    {
     "name": "stdout",
     "output_type": "stream",
     "text": [
      "Starting cross-validation...\n",
      "\n",
      "Testing max_iter = 100\n",
      "  Repeat 1/5\n",
      "\n",
      "Fold 1/5\n"
     ]
    },
    {
     "name": "stderr",
     "output_type": "stream",
     "text": [
      "C:\\Users\\Nils\\AppData\\Local\\Packages\\PythonSoftwareFoundation.Python.3.12_qbz5n2kfra8p0\\LocalCache\\local-packages\\Python312\\site-packages\\sklearn\\neural_network\\_multilayer_perceptron.py:690: ConvergenceWarning: Stochastic Optimizer: Maximum iterations (100) reached and the optimization hasn't converged yet.\n",
      "  warnings.warn(\n"
     ]
    },
    {
     "name": "stdout",
     "output_type": "stream",
     "text": [
      "Fold 1 Score: 0.8600\n",
      "\n",
      "Fold 2/5\n"
     ]
    },
    {
     "name": "stderr",
     "output_type": "stream",
     "text": [
      "C:\\Users\\Nils\\AppData\\Local\\Packages\\PythonSoftwareFoundation.Python.3.12_qbz5n2kfra8p0\\LocalCache\\local-packages\\Python312\\site-packages\\sklearn\\neural_network\\_multilayer_perceptron.py:690: ConvergenceWarning: Stochastic Optimizer: Maximum iterations (100) reached and the optimization hasn't converged yet.\n",
      "  warnings.warn(\n"
     ]
    },
    {
     "name": "stdout",
     "output_type": "stream",
     "text": [
      "Fold 2 Score: 0.8025\n",
      "\n",
      "Fold 3/5\n"
     ]
    },
    {
     "name": "stderr",
     "output_type": "stream",
     "text": [
      "C:\\Users\\Nils\\AppData\\Local\\Packages\\PythonSoftwareFoundation.Python.3.12_qbz5n2kfra8p0\\LocalCache\\local-packages\\Python312\\site-packages\\sklearn\\neural_network\\_multilayer_perceptron.py:690: ConvergenceWarning: Stochastic Optimizer: Maximum iterations (100) reached and the optimization hasn't converged yet.\n",
      "  warnings.warn(\n"
     ]
    },
    {
     "name": "stdout",
     "output_type": "stream",
     "text": [
      "Fold 3 Score: 0.8025\n",
      "\n",
      "Fold 4/5\n"
     ]
    },
    {
     "name": "stderr",
     "output_type": "stream",
     "text": [
      "C:\\Users\\Nils\\AppData\\Local\\Packages\\PythonSoftwareFoundation.Python.3.12_qbz5n2kfra8p0\\LocalCache\\local-packages\\Python312\\site-packages\\sklearn\\neural_network\\_multilayer_perceptron.py:690: ConvergenceWarning: Stochastic Optimizer: Maximum iterations (100) reached and the optimization hasn't converged yet.\n",
      "  warnings.warn(\n"
     ]
    },
    {
     "name": "stdout",
     "output_type": "stream",
     "text": [
      "Fold 4 Score: 0.8250\n",
      "\n",
      "Fold 5/5\n"
     ]
    },
    {
     "name": "stderr",
     "output_type": "stream",
     "text": [
      "C:\\Users\\Nils\\AppData\\Local\\Packages\\PythonSoftwareFoundation.Python.3.12_qbz5n2kfra8p0\\LocalCache\\local-packages\\Python312\\site-packages\\sklearn\\neural_network\\_multilayer_perceptron.py:690: ConvergenceWarning: Stochastic Optimizer: Maximum iterations (100) reached and the optimization hasn't converged yet.\n",
      "  warnings.warn(\n"
     ]
    },
    {
     "name": "stdout",
     "output_type": "stream",
     "text": [
      "Fold 5 Score: 0.7825\n",
      "\n",
      "Cross-validation results:\n",
      "Mean score: 0.8145\n",
      "Std deviation: 0.0264\n",
      "  Repeat 2/5\n",
      "\n",
      "Fold 1/5\n"
     ]
    },
    {
     "name": "stderr",
     "output_type": "stream",
     "text": [
      "C:\\Users\\Nils\\AppData\\Local\\Packages\\PythonSoftwareFoundation.Python.3.12_qbz5n2kfra8p0\\LocalCache\\local-packages\\Python312\\site-packages\\sklearn\\neural_network\\_multilayer_perceptron.py:690: ConvergenceWarning: Stochastic Optimizer: Maximum iterations (100) reached and the optimization hasn't converged yet.\n",
      "  warnings.warn(\n"
     ]
    },
    {
     "name": "stdout",
     "output_type": "stream",
     "text": [
      "Fold 1 Score: 0.8300\n",
      "\n",
      "Fold 2/5\n"
     ]
    },
    {
     "name": "stderr",
     "output_type": "stream",
     "text": [
      "C:\\Users\\Nils\\AppData\\Local\\Packages\\PythonSoftwareFoundation.Python.3.12_qbz5n2kfra8p0\\LocalCache\\local-packages\\Python312\\site-packages\\sklearn\\neural_network\\_multilayer_perceptron.py:690: ConvergenceWarning: Stochastic Optimizer: Maximum iterations (100) reached and the optimization hasn't converged yet.\n",
      "  warnings.warn(\n"
     ]
    },
    {
     "name": "stdout",
     "output_type": "stream",
     "text": [
      "Fold 2 Score: 0.8100\n",
      "\n",
      "Fold 3/5\n"
     ]
    },
    {
     "name": "stderr",
     "output_type": "stream",
     "text": [
      "C:\\Users\\Nils\\AppData\\Local\\Packages\\PythonSoftwareFoundation.Python.3.12_qbz5n2kfra8p0\\LocalCache\\local-packages\\Python312\\site-packages\\sklearn\\neural_network\\_multilayer_perceptron.py:690: ConvergenceWarning: Stochastic Optimizer: Maximum iterations (100) reached and the optimization hasn't converged yet.\n",
      "  warnings.warn(\n"
     ]
    },
    {
     "name": "stdout",
     "output_type": "stream",
     "text": [
      "Fold 3 Score: 0.7975\n",
      "\n",
      "Fold 4/5\n"
     ]
    },
    {
     "name": "stderr",
     "output_type": "stream",
     "text": [
      "C:\\Users\\Nils\\AppData\\Local\\Packages\\PythonSoftwareFoundation.Python.3.12_qbz5n2kfra8p0\\LocalCache\\local-packages\\Python312\\site-packages\\sklearn\\neural_network\\_multilayer_perceptron.py:690: ConvergenceWarning: Stochastic Optimizer: Maximum iterations (100) reached and the optimization hasn't converged yet.\n",
      "  warnings.warn(\n"
     ]
    },
    {
     "name": "stdout",
     "output_type": "stream",
     "text": [
      "Fold 4 Score: 0.7850\n",
      "\n",
      "Fold 5/5\n"
     ]
    },
    {
     "name": "stderr",
     "output_type": "stream",
     "text": [
      "C:\\Users\\Nils\\AppData\\Local\\Packages\\PythonSoftwareFoundation.Python.3.12_qbz5n2kfra8p0\\LocalCache\\local-packages\\Python312\\site-packages\\sklearn\\neural_network\\_multilayer_perceptron.py:690: ConvergenceWarning: Stochastic Optimizer: Maximum iterations (100) reached and the optimization hasn't converged yet.\n",
      "  warnings.warn(\n"
     ]
    },
    {
     "name": "stdout",
     "output_type": "stream",
     "text": [
      "Fold 5 Score: 0.8275\n",
      "\n",
      "Cross-validation results:\n",
      "Mean score: 0.8100\n",
      "Std deviation: 0.0172\n",
      "  Repeat 3/5\n",
      "\n",
      "Fold 1/5\n"
     ]
    },
    {
     "name": "stderr",
     "output_type": "stream",
     "text": [
      "C:\\Users\\Nils\\AppData\\Local\\Packages\\PythonSoftwareFoundation.Python.3.12_qbz5n2kfra8p0\\LocalCache\\local-packages\\Python312\\site-packages\\sklearn\\neural_network\\_multilayer_perceptron.py:690: ConvergenceWarning: Stochastic Optimizer: Maximum iterations (100) reached and the optimization hasn't converged yet.\n",
      "  warnings.warn(\n"
     ]
    },
    {
     "name": "stdout",
     "output_type": "stream",
     "text": [
      "Fold 1 Score: 0.7875\n",
      "\n",
      "Fold 2/5\n"
     ]
    },
    {
     "name": "stderr",
     "output_type": "stream",
     "text": [
      "C:\\Users\\Nils\\AppData\\Local\\Packages\\PythonSoftwareFoundation.Python.3.12_qbz5n2kfra8p0\\LocalCache\\local-packages\\Python312\\site-packages\\sklearn\\neural_network\\_multilayer_perceptron.py:690: ConvergenceWarning: Stochastic Optimizer: Maximum iterations (100) reached and the optimization hasn't converged yet.\n",
      "  warnings.warn(\n"
     ]
    },
    {
     "name": "stdout",
     "output_type": "stream",
     "text": [
      "Fold 2 Score: 0.7925\n",
      "\n",
      "Fold 3/5\n"
     ]
    },
    {
     "name": "stderr",
     "output_type": "stream",
     "text": [
      "C:\\Users\\Nils\\AppData\\Local\\Packages\\PythonSoftwareFoundation.Python.3.12_qbz5n2kfra8p0\\LocalCache\\local-packages\\Python312\\site-packages\\sklearn\\neural_network\\_multilayer_perceptron.py:690: ConvergenceWarning: Stochastic Optimizer: Maximum iterations (100) reached and the optimization hasn't converged yet.\n",
      "  warnings.warn(\n"
     ]
    },
    {
     "name": "stdout",
     "output_type": "stream",
     "text": [
      "Fold 3 Score: 0.8125\n",
      "\n",
      "Fold 4/5\n"
     ]
    },
    {
     "name": "stderr",
     "output_type": "stream",
     "text": [
      "C:\\Users\\Nils\\AppData\\Local\\Packages\\PythonSoftwareFoundation.Python.3.12_qbz5n2kfra8p0\\LocalCache\\local-packages\\Python312\\site-packages\\sklearn\\neural_network\\_multilayer_perceptron.py:690: ConvergenceWarning: Stochastic Optimizer: Maximum iterations (100) reached and the optimization hasn't converged yet.\n",
      "  warnings.warn(\n"
     ]
    },
    {
     "name": "stdout",
     "output_type": "stream",
     "text": [
      "Fold 4 Score: 0.8300\n",
      "\n",
      "Fold 5/5\n"
     ]
    },
    {
     "name": "stderr",
     "output_type": "stream",
     "text": [
      "C:\\Users\\Nils\\AppData\\Local\\Packages\\PythonSoftwareFoundation.Python.3.12_qbz5n2kfra8p0\\LocalCache\\local-packages\\Python312\\site-packages\\sklearn\\neural_network\\_multilayer_perceptron.py:690: ConvergenceWarning: Stochastic Optimizer: Maximum iterations (100) reached and the optimization hasn't converged yet.\n",
      "  warnings.warn(\n"
     ]
    },
    {
     "name": "stdout",
     "output_type": "stream",
     "text": [
      "Fold 5 Score: 0.8100\n",
      "\n",
      "Cross-validation results:\n",
      "Mean score: 0.8065\n",
      "Std deviation: 0.0152\n",
      "  Repeat 4/5\n",
      "\n",
      "Fold 1/5\n"
     ]
    },
    {
     "name": "stderr",
     "output_type": "stream",
     "text": [
      "C:\\Users\\Nils\\AppData\\Local\\Packages\\PythonSoftwareFoundation.Python.3.12_qbz5n2kfra8p0\\LocalCache\\local-packages\\Python312\\site-packages\\sklearn\\neural_network\\_multilayer_perceptron.py:690: ConvergenceWarning: Stochastic Optimizer: Maximum iterations (100) reached and the optimization hasn't converged yet.\n",
      "  warnings.warn(\n"
     ]
    },
    {
     "name": "stdout",
     "output_type": "stream",
     "text": [
      "Fold 1 Score: 0.7875\n",
      "\n",
      "Fold 2/5\n"
     ]
    },
    {
     "name": "stderr",
     "output_type": "stream",
     "text": [
      "C:\\Users\\Nils\\AppData\\Local\\Packages\\PythonSoftwareFoundation.Python.3.12_qbz5n2kfra8p0\\LocalCache\\local-packages\\Python312\\site-packages\\sklearn\\neural_network\\_multilayer_perceptron.py:690: ConvergenceWarning: Stochastic Optimizer: Maximum iterations (100) reached and the optimization hasn't converged yet.\n",
      "  warnings.warn(\n"
     ]
    },
    {
     "name": "stdout",
     "output_type": "stream",
     "text": [
      "Fold 2 Score: 0.8100\n",
      "\n",
      "Fold 3/5\n"
     ]
    },
    {
     "name": "stderr",
     "output_type": "stream",
     "text": [
      "C:\\Users\\Nils\\AppData\\Local\\Packages\\PythonSoftwareFoundation.Python.3.12_qbz5n2kfra8p0\\LocalCache\\local-packages\\Python312\\site-packages\\sklearn\\neural_network\\_multilayer_perceptron.py:690: ConvergenceWarning: Stochastic Optimizer: Maximum iterations (100) reached and the optimization hasn't converged yet.\n",
      "  warnings.warn(\n"
     ]
    },
    {
     "name": "stdout",
     "output_type": "stream",
     "text": [
      "Fold 3 Score: 0.8225\n",
      "\n",
      "Fold 4/5\n"
     ]
    },
    {
     "name": "stderr",
     "output_type": "stream",
     "text": [
      "C:\\Users\\Nils\\AppData\\Local\\Packages\\PythonSoftwareFoundation.Python.3.12_qbz5n2kfra8p0\\LocalCache\\local-packages\\Python312\\site-packages\\sklearn\\neural_network\\_multilayer_perceptron.py:690: ConvergenceWarning: Stochastic Optimizer: Maximum iterations (100) reached and the optimization hasn't converged yet.\n",
      "  warnings.warn(\n"
     ]
    },
    {
     "name": "stdout",
     "output_type": "stream",
     "text": [
      "Fold 4 Score: 0.8050\n",
      "\n",
      "Fold 5/5\n"
     ]
    },
    {
     "name": "stderr",
     "output_type": "stream",
     "text": [
      "C:\\Users\\Nils\\AppData\\Local\\Packages\\PythonSoftwareFoundation.Python.3.12_qbz5n2kfra8p0\\LocalCache\\local-packages\\Python312\\site-packages\\sklearn\\neural_network\\_multilayer_perceptron.py:690: ConvergenceWarning: Stochastic Optimizer: Maximum iterations (100) reached and the optimization hasn't converged yet.\n",
      "  warnings.warn(\n"
     ]
    },
    {
     "name": "stdout",
     "output_type": "stream",
     "text": [
      "Fold 5 Score: 0.8150\n",
      "\n",
      "Cross-validation results:\n",
      "Mean score: 0.8080\n",
      "Std deviation: 0.0118\n",
      "  Repeat 5/5\n",
      "\n",
      "Fold 1/5\n"
     ]
    },
    {
     "name": "stderr",
     "output_type": "stream",
     "text": [
      "C:\\Users\\Nils\\AppData\\Local\\Packages\\PythonSoftwareFoundation.Python.3.12_qbz5n2kfra8p0\\LocalCache\\local-packages\\Python312\\site-packages\\sklearn\\neural_network\\_multilayer_perceptron.py:690: ConvergenceWarning: Stochastic Optimizer: Maximum iterations (100) reached and the optimization hasn't converged yet.\n",
      "  warnings.warn(\n"
     ]
    },
    {
     "name": "stdout",
     "output_type": "stream",
     "text": [
      "Fold 1 Score: 0.7925\n",
      "\n",
      "Fold 2/5\n"
     ]
    },
    {
     "name": "stderr",
     "output_type": "stream",
     "text": [
      "C:\\Users\\Nils\\AppData\\Local\\Packages\\PythonSoftwareFoundation.Python.3.12_qbz5n2kfra8p0\\LocalCache\\local-packages\\Python312\\site-packages\\sklearn\\neural_network\\_multilayer_perceptron.py:690: ConvergenceWarning: Stochastic Optimizer: Maximum iterations (100) reached and the optimization hasn't converged yet.\n",
      "  warnings.warn(\n"
     ]
    },
    {
     "name": "stdout",
     "output_type": "stream",
     "text": [
      "Fold 2 Score: 0.8225\n",
      "\n",
      "Fold 3/5\n"
     ]
    },
    {
     "name": "stderr",
     "output_type": "stream",
     "text": [
      "C:\\Users\\Nils\\AppData\\Local\\Packages\\PythonSoftwareFoundation.Python.3.12_qbz5n2kfra8p0\\LocalCache\\local-packages\\Python312\\site-packages\\sklearn\\neural_network\\_multilayer_perceptron.py:690: ConvergenceWarning: Stochastic Optimizer: Maximum iterations (100) reached and the optimization hasn't converged yet.\n",
      "  warnings.warn(\n"
     ]
    },
    {
     "name": "stdout",
     "output_type": "stream",
     "text": [
      "Fold 3 Score: 0.8300\n",
      "\n",
      "Fold 4/5\n"
     ]
    },
    {
     "name": "stderr",
     "output_type": "stream",
     "text": [
      "C:\\Users\\Nils\\AppData\\Local\\Packages\\PythonSoftwareFoundation.Python.3.12_qbz5n2kfra8p0\\LocalCache\\local-packages\\Python312\\site-packages\\sklearn\\neural_network\\_multilayer_perceptron.py:690: ConvergenceWarning: Stochastic Optimizer: Maximum iterations (100) reached and the optimization hasn't converged yet.\n",
      "  warnings.warn(\n"
     ]
    },
    {
     "name": "stdout",
     "output_type": "stream",
     "text": [
      "Fold 4 Score: 0.7950\n",
      "\n",
      "Fold 5/5\n"
     ]
    },
    {
     "name": "stderr",
     "output_type": "stream",
     "text": [
      "C:\\Users\\Nils\\AppData\\Local\\Packages\\PythonSoftwareFoundation.Python.3.12_qbz5n2kfra8p0\\LocalCache\\local-packages\\Python312\\site-packages\\sklearn\\neural_network\\_multilayer_perceptron.py:690: ConvergenceWarning: Stochastic Optimizer: Maximum iterations (100) reached and the optimization hasn't converged yet.\n",
      "  warnings.warn(\n"
     ]
    },
    {
     "name": "stdout",
     "output_type": "stream",
     "text": [
      "Fold 5 Score: 0.7975\n",
      "\n",
      "Cross-validation results:\n",
      "Mean score: 0.8075\n",
      "Std deviation: 0.0156\n",
      "Testing max_iter = 500\n",
      "  Repeat 1/5\n",
      "\n",
      "Fold 1/5\n"
     ]
    },
    {
     "name": "stderr",
     "output_type": "stream",
     "text": [
      "C:\\Users\\Nils\\AppData\\Local\\Packages\\PythonSoftwareFoundation.Python.3.12_qbz5n2kfra8p0\\LocalCache\\local-packages\\Python312\\site-packages\\sklearn\\neural_network\\_multilayer_perceptron.py:690: ConvergenceWarning: Stochastic Optimizer: Maximum iterations (500) reached and the optimization hasn't converged yet.\n",
      "  warnings.warn(\n"
     ]
    },
    {
     "name": "stdout",
     "output_type": "stream",
     "text": [
      "Fold 1 Score: 0.9250\n",
      "\n",
      "Fold 2/5\n"
     ]
    },
    {
     "name": "stderr",
     "output_type": "stream",
     "text": [
      "C:\\Users\\Nils\\AppData\\Local\\Packages\\PythonSoftwareFoundation.Python.3.12_qbz5n2kfra8p0\\LocalCache\\local-packages\\Python312\\site-packages\\sklearn\\neural_network\\_multilayer_perceptron.py:690: ConvergenceWarning: Stochastic Optimizer: Maximum iterations (500) reached and the optimization hasn't converged yet.\n",
      "  warnings.warn(\n"
     ]
    },
    {
     "name": "stdout",
     "output_type": "stream",
     "text": [
      "Fold 2 Score: 0.9000\n",
      "\n",
      "Fold 3/5\n"
     ]
    },
    {
     "name": "stderr",
     "output_type": "stream",
     "text": [
      "C:\\Users\\Nils\\AppData\\Local\\Packages\\PythonSoftwareFoundation.Python.3.12_qbz5n2kfra8p0\\LocalCache\\local-packages\\Python312\\site-packages\\sklearn\\neural_network\\_multilayer_perceptron.py:690: ConvergenceWarning: Stochastic Optimizer: Maximum iterations (500) reached and the optimization hasn't converged yet.\n",
      "  warnings.warn(\n"
     ]
    },
    {
     "name": "stdout",
     "output_type": "stream",
     "text": [
      "Fold 3 Score: 0.9150\n",
      "\n",
      "Fold 4/5\n"
     ]
    },
    {
     "name": "stderr",
     "output_type": "stream",
     "text": [
      "C:\\Users\\Nils\\AppData\\Local\\Packages\\PythonSoftwareFoundation.Python.3.12_qbz5n2kfra8p0\\LocalCache\\local-packages\\Python312\\site-packages\\sklearn\\neural_network\\_multilayer_perceptron.py:690: ConvergenceWarning: Stochastic Optimizer: Maximum iterations (500) reached and the optimization hasn't converged yet.\n",
      "  warnings.warn(\n"
     ]
    },
    {
     "name": "stdout",
     "output_type": "stream",
     "text": [
      "Fold 4 Score: 0.8700\n",
      "\n",
      "Fold 5/5\n"
     ]
    },
    {
     "name": "stderr",
     "output_type": "stream",
     "text": [
      "C:\\Users\\Nils\\AppData\\Local\\Packages\\PythonSoftwareFoundation.Python.3.12_qbz5n2kfra8p0\\LocalCache\\local-packages\\Python312\\site-packages\\sklearn\\neural_network\\_multilayer_perceptron.py:690: ConvergenceWarning: Stochastic Optimizer: Maximum iterations (500) reached and the optimization hasn't converged yet.\n",
      "  warnings.warn(\n"
     ]
    },
    {
     "name": "stdout",
     "output_type": "stream",
     "text": [
      "Fold 5 Score: 0.9100\n",
      "\n",
      "Cross-validation results:\n",
      "Mean score: 0.9040\n",
      "Std deviation: 0.0188\n",
      "  Repeat 2/5\n",
      "\n",
      "Fold 1/5\n"
     ]
    },
    {
     "name": "stderr",
     "output_type": "stream",
     "text": [
      "C:\\Users\\Nils\\AppData\\Local\\Packages\\PythonSoftwareFoundation.Python.3.12_qbz5n2kfra8p0\\LocalCache\\local-packages\\Python312\\site-packages\\sklearn\\neural_network\\_multilayer_perceptron.py:690: ConvergenceWarning: Stochastic Optimizer: Maximum iterations (500) reached and the optimization hasn't converged yet.\n",
      "  warnings.warn(\n"
     ]
    },
    {
     "name": "stdout",
     "output_type": "stream",
     "text": [
      "Fold 1 Score: 0.8725\n",
      "\n",
      "Fold 2/5\n"
     ]
    },
    {
     "name": "stderr",
     "output_type": "stream",
     "text": [
      "C:\\Users\\Nils\\AppData\\Local\\Packages\\PythonSoftwareFoundation.Python.3.12_qbz5n2kfra8p0\\LocalCache\\local-packages\\Python312\\site-packages\\sklearn\\neural_network\\_multilayer_perceptron.py:690: ConvergenceWarning: Stochastic Optimizer: Maximum iterations (500) reached and the optimization hasn't converged yet.\n",
      "  warnings.warn(\n"
     ]
    },
    {
     "name": "stdout",
     "output_type": "stream",
     "text": [
      "Fold 2 Score: 0.9200\n",
      "\n",
      "Fold 3/5\n"
     ]
    },
    {
     "name": "stderr",
     "output_type": "stream",
     "text": [
      "C:\\Users\\Nils\\AppData\\Local\\Packages\\PythonSoftwareFoundation.Python.3.12_qbz5n2kfra8p0\\LocalCache\\local-packages\\Python312\\site-packages\\sklearn\\neural_network\\_multilayer_perceptron.py:690: ConvergenceWarning: Stochastic Optimizer: Maximum iterations (500) reached and the optimization hasn't converged yet.\n",
      "  warnings.warn(\n"
     ]
    },
    {
     "name": "stdout",
     "output_type": "stream",
     "text": [
      "Fold 3 Score: 0.9125\n",
      "\n",
      "Fold 4/5\n"
     ]
    },
    {
     "name": "stderr",
     "output_type": "stream",
     "text": [
      "C:\\Users\\Nils\\AppData\\Local\\Packages\\PythonSoftwareFoundation.Python.3.12_qbz5n2kfra8p0\\LocalCache\\local-packages\\Python312\\site-packages\\sklearn\\neural_network\\_multilayer_perceptron.py:690: ConvergenceWarning: Stochastic Optimizer: Maximum iterations (500) reached and the optimization hasn't converged yet.\n",
      "  warnings.warn(\n"
     ]
    },
    {
     "name": "stdout",
     "output_type": "stream",
     "text": [
      "Fold 4 Score: 0.9050\n",
      "\n",
      "Fold 5/5\n"
     ]
    },
    {
     "name": "stderr",
     "output_type": "stream",
     "text": [
      "C:\\Users\\Nils\\AppData\\Local\\Packages\\PythonSoftwareFoundation.Python.3.12_qbz5n2kfra8p0\\LocalCache\\local-packages\\Python312\\site-packages\\sklearn\\neural_network\\_multilayer_perceptron.py:690: ConvergenceWarning: Stochastic Optimizer: Maximum iterations (500) reached and the optimization hasn't converged yet.\n",
      "  warnings.warn(\n"
     ]
    },
    {
     "name": "stdout",
     "output_type": "stream",
     "text": [
      "Fold 5 Score: 0.9250\n",
      "\n",
      "Cross-validation results:\n",
      "Mean score: 0.9070\n",
      "Std deviation: 0.0185\n",
      "  Repeat 3/5\n",
      "\n",
      "Fold 1/5\n"
     ]
    },
    {
     "name": "stderr",
     "output_type": "stream",
     "text": [
      "C:\\Users\\Nils\\AppData\\Local\\Packages\\PythonSoftwareFoundation.Python.3.12_qbz5n2kfra8p0\\LocalCache\\local-packages\\Python312\\site-packages\\sklearn\\neural_network\\_multilayer_perceptron.py:690: ConvergenceWarning: Stochastic Optimizer: Maximum iterations (500) reached and the optimization hasn't converged yet.\n",
      "  warnings.warn(\n"
     ]
    },
    {
     "name": "stdout",
     "output_type": "stream",
     "text": [
      "Fold 1 Score: 0.9175\n",
      "\n",
      "Fold 2/5\n"
     ]
    },
    {
     "name": "stderr",
     "output_type": "stream",
     "text": [
      "C:\\Users\\Nils\\AppData\\Local\\Packages\\PythonSoftwareFoundation.Python.3.12_qbz5n2kfra8p0\\LocalCache\\local-packages\\Python312\\site-packages\\sklearn\\neural_network\\_multilayer_perceptron.py:690: ConvergenceWarning: Stochastic Optimizer: Maximum iterations (500) reached and the optimization hasn't converged yet.\n",
      "  warnings.warn(\n"
     ]
    },
    {
     "name": "stdout",
     "output_type": "stream",
     "text": [
      "Fold 2 Score: 0.8950\n",
      "\n",
      "Fold 3/5\n"
     ]
    },
    {
     "name": "stderr",
     "output_type": "stream",
     "text": [
      "C:\\Users\\Nils\\AppData\\Local\\Packages\\PythonSoftwareFoundation.Python.3.12_qbz5n2kfra8p0\\LocalCache\\local-packages\\Python312\\site-packages\\sklearn\\neural_network\\_multilayer_perceptron.py:690: ConvergenceWarning: Stochastic Optimizer: Maximum iterations (500) reached and the optimization hasn't converged yet.\n",
      "  warnings.warn(\n"
     ]
    },
    {
     "name": "stdout",
     "output_type": "stream",
     "text": [
      "Fold 3 Score: 0.9150\n",
      "\n",
      "Fold 4/5\n"
     ]
    },
    {
     "name": "stderr",
     "output_type": "stream",
     "text": [
      "C:\\Users\\Nils\\AppData\\Local\\Packages\\PythonSoftwareFoundation.Python.3.12_qbz5n2kfra8p0\\LocalCache\\local-packages\\Python312\\site-packages\\sklearn\\neural_network\\_multilayer_perceptron.py:690: ConvergenceWarning: Stochastic Optimizer: Maximum iterations (500) reached and the optimization hasn't converged yet.\n",
      "  warnings.warn(\n"
     ]
    },
    {
     "name": "stdout",
     "output_type": "stream",
     "text": [
      "Fold 4 Score: 0.9025\n",
      "\n",
      "Fold 5/5\n"
     ]
    },
    {
     "name": "stderr",
     "output_type": "stream",
     "text": [
      "C:\\Users\\Nils\\AppData\\Local\\Packages\\PythonSoftwareFoundation.Python.3.12_qbz5n2kfra8p0\\LocalCache\\local-packages\\Python312\\site-packages\\sklearn\\neural_network\\_multilayer_perceptron.py:690: ConvergenceWarning: Stochastic Optimizer: Maximum iterations (500) reached and the optimization hasn't converged yet.\n",
      "  warnings.warn(\n"
     ]
    },
    {
     "name": "stdout",
     "output_type": "stream",
     "text": [
      "Fold 5 Score: 0.9050\n",
      "\n",
      "Cross-validation results:\n",
      "Mean score: 0.9070\n",
      "Std deviation: 0.0083\n",
      "  Repeat 4/5\n",
      "\n",
      "Fold 1/5\n"
     ]
    },
    {
     "name": "stderr",
     "output_type": "stream",
     "text": [
      "C:\\Users\\Nils\\AppData\\Local\\Packages\\PythonSoftwareFoundation.Python.3.12_qbz5n2kfra8p0\\LocalCache\\local-packages\\Python312\\site-packages\\sklearn\\neural_network\\_multilayer_perceptron.py:690: ConvergenceWarning: Stochastic Optimizer: Maximum iterations (500) reached and the optimization hasn't converged yet.\n",
      "  warnings.warn(\n"
     ]
    },
    {
     "name": "stdout",
     "output_type": "stream",
     "text": [
      "Fold 1 Score: 0.8825\n",
      "\n",
      "Fold 2/5\n"
     ]
    },
    {
     "name": "stderr",
     "output_type": "stream",
     "text": [
      "C:\\Users\\Nils\\AppData\\Local\\Packages\\PythonSoftwareFoundation.Python.3.12_qbz5n2kfra8p0\\LocalCache\\local-packages\\Python312\\site-packages\\sklearn\\neural_network\\_multilayer_perceptron.py:690: ConvergenceWarning: Stochastic Optimizer: Maximum iterations (500) reached and the optimization hasn't converged yet.\n",
      "  warnings.warn(\n"
     ]
    },
    {
     "name": "stdout",
     "output_type": "stream",
     "text": [
      "Fold 2 Score: 0.9000\n",
      "\n",
      "Fold 3/5\n"
     ]
    },
    {
     "name": "stderr",
     "output_type": "stream",
     "text": [
      "C:\\Users\\Nils\\AppData\\Local\\Packages\\PythonSoftwareFoundation.Python.3.12_qbz5n2kfra8p0\\LocalCache\\local-packages\\Python312\\site-packages\\sklearn\\neural_network\\_multilayer_perceptron.py:690: ConvergenceWarning: Stochastic Optimizer: Maximum iterations (500) reached and the optimization hasn't converged yet.\n",
      "  warnings.warn(\n"
     ]
    },
    {
     "name": "stdout",
     "output_type": "stream",
     "text": [
      "Fold 3 Score: 0.9200\n",
      "\n",
      "Fold 4/5\n"
     ]
    },
    {
     "name": "stderr",
     "output_type": "stream",
     "text": [
      "C:\\Users\\Nils\\AppData\\Local\\Packages\\PythonSoftwareFoundation.Python.3.12_qbz5n2kfra8p0\\LocalCache\\local-packages\\Python312\\site-packages\\sklearn\\neural_network\\_multilayer_perceptron.py:690: ConvergenceWarning: Stochastic Optimizer: Maximum iterations (500) reached and the optimization hasn't converged yet.\n",
      "  warnings.warn(\n"
     ]
    },
    {
     "name": "stdout",
     "output_type": "stream",
     "text": [
      "Fold 4 Score: 0.8975\n",
      "\n",
      "Fold 5/5\n"
     ]
    },
    {
     "name": "stderr",
     "output_type": "stream",
     "text": [
      "C:\\Users\\Nils\\AppData\\Local\\Packages\\PythonSoftwareFoundation.Python.3.12_qbz5n2kfra8p0\\LocalCache\\local-packages\\Python312\\site-packages\\sklearn\\neural_network\\_multilayer_perceptron.py:690: ConvergenceWarning: Stochastic Optimizer: Maximum iterations (500) reached and the optimization hasn't converged yet.\n",
      "  warnings.warn(\n"
     ]
    },
    {
     "name": "stdout",
     "output_type": "stream",
     "text": [
      "Fold 5 Score: 0.9200\n",
      "\n",
      "Cross-validation results:\n",
      "Mean score: 0.9040\n",
      "Std deviation: 0.0144\n",
      "  Repeat 5/5\n",
      "\n",
      "Fold 1/5\n"
     ]
    },
    {
     "name": "stderr",
     "output_type": "stream",
     "text": [
      "C:\\Users\\Nils\\AppData\\Local\\Packages\\PythonSoftwareFoundation.Python.3.12_qbz5n2kfra8p0\\LocalCache\\local-packages\\Python312\\site-packages\\sklearn\\neural_network\\_multilayer_perceptron.py:690: ConvergenceWarning: Stochastic Optimizer: Maximum iterations (500) reached and the optimization hasn't converged yet.\n",
      "  warnings.warn(\n"
     ]
    },
    {
     "name": "stdout",
     "output_type": "stream",
     "text": [
      "Fold 1 Score: 0.8900\n",
      "\n",
      "Fold 2/5\n"
     ]
    },
    {
     "name": "stderr",
     "output_type": "stream",
     "text": [
      "C:\\Users\\Nils\\AppData\\Local\\Packages\\PythonSoftwareFoundation.Python.3.12_qbz5n2kfra8p0\\LocalCache\\local-packages\\Python312\\site-packages\\sklearn\\neural_network\\_multilayer_perceptron.py:690: ConvergenceWarning: Stochastic Optimizer: Maximum iterations (500) reached and the optimization hasn't converged yet.\n",
      "  warnings.warn(\n"
     ]
    },
    {
     "name": "stdout",
     "output_type": "stream",
     "text": [
      "Fold 2 Score: 0.9250\n",
      "\n",
      "Fold 3/5\n"
     ]
    },
    {
     "name": "stderr",
     "output_type": "stream",
     "text": [
      "C:\\Users\\Nils\\AppData\\Local\\Packages\\PythonSoftwareFoundation.Python.3.12_qbz5n2kfra8p0\\LocalCache\\local-packages\\Python312\\site-packages\\sklearn\\neural_network\\_multilayer_perceptron.py:690: ConvergenceWarning: Stochastic Optimizer: Maximum iterations (500) reached and the optimization hasn't converged yet.\n",
      "  warnings.warn(\n"
     ]
    },
    {
     "name": "stdout",
     "output_type": "stream",
     "text": [
      "Fold 3 Score: 0.9275\n",
      "\n",
      "Fold 4/5\n"
     ]
    },
    {
     "name": "stderr",
     "output_type": "stream",
     "text": [
      "C:\\Users\\Nils\\AppData\\Local\\Packages\\PythonSoftwareFoundation.Python.3.12_qbz5n2kfra8p0\\LocalCache\\local-packages\\Python312\\site-packages\\sklearn\\neural_network\\_multilayer_perceptron.py:690: ConvergenceWarning: Stochastic Optimizer: Maximum iterations (500) reached and the optimization hasn't converged yet.\n",
      "  warnings.warn(\n"
     ]
    },
    {
     "name": "stdout",
     "output_type": "stream",
     "text": [
      "Fold 4 Score: 0.8925\n",
      "\n",
      "Fold 5/5\n"
     ]
    },
    {
     "name": "stderr",
     "output_type": "stream",
     "text": [
      "C:\\Users\\Nils\\AppData\\Local\\Packages\\PythonSoftwareFoundation.Python.3.12_qbz5n2kfra8p0\\LocalCache\\local-packages\\Python312\\site-packages\\sklearn\\neural_network\\_multilayer_perceptron.py:690: ConvergenceWarning: Stochastic Optimizer: Maximum iterations (500) reached and the optimization hasn't converged yet.\n",
      "  warnings.warn(\n"
     ]
    },
    {
     "name": "stdout",
     "output_type": "stream",
     "text": [
      "Fold 5 Score: 0.9100\n",
      "\n",
      "Cross-validation results:\n",
      "Mean score: 0.9090\n",
      "Std deviation: 0.0157\n",
      "Testing max_iter = 1000\n",
      "  Repeat 1/5\n",
      "\n",
      "Fold 1/5\n"
     ]
    },
    {
     "name": "stderr",
     "output_type": "stream",
     "text": [
      "C:\\Users\\Nils\\AppData\\Local\\Packages\\PythonSoftwareFoundation.Python.3.12_qbz5n2kfra8p0\\LocalCache\\local-packages\\Python312\\site-packages\\sklearn\\neural_network\\_multilayer_perceptron.py:690: ConvergenceWarning: Stochastic Optimizer: Maximum iterations (1000) reached and the optimization hasn't converged yet.\n",
      "  warnings.warn(\n"
     ]
    },
    {
     "name": "stdout",
     "output_type": "stream",
     "text": [
      "Fold 1 Score: 0.9350\n",
      "\n",
      "Fold 2/5\n"
     ]
    },
    {
     "name": "stderr",
     "output_type": "stream",
     "text": [
      "C:\\Users\\Nils\\AppData\\Local\\Packages\\PythonSoftwareFoundation.Python.3.12_qbz5n2kfra8p0\\LocalCache\\local-packages\\Python312\\site-packages\\sklearn\\neural_network\\_multilayer_perceptron.py:690: ConvergenceWarning: Stochastic Optimizer: Maximum iterations (1000) reached and the optimization hasn't converged yet.\n",
      "  warnings.warn(\n"
     ]
    },
    {
     "name": "stdout",
     "output_type": "stream",
     "text": [
      "Fold 2 Score: 0.9175\n",
      "\n",
      "Fold 3/5\n"
     ]
    },
    {
     "name": "stderr",
     "output_type": "stream",
     "text": [
      "C:\\Users\\Nils\\AppData\\Local\\Packages\\PythonSoftwareFoundation.Python.3.12_qbz5n2kfra8p0\\LocalCache\\local-packages\\Python312\\site-packages\\sklearn\\neural_network\\_multilayer_perceptron.py:690: ConvergenceWarning: Stochastic Optimizer: Maximum iterations (1000) reached and the optimization hasn't converged yet.\n",
      "  warnings.warn(\n"
     ]
    },
    {
     "name": "stdout",
     "output_type": "stream",
     "text": [
      "Fold 3 Score: 0.9300\n",
      "\n",
      "Fold 4/5\n"
     ]
    },
    {
     "name": "stderr",
     "output_type": "stream",
     "text": [
      "C:\\Users\\Nils\\AppData\\Local\\Packages\\PythonSoftwareFoundation.Python.3.12_qbz5n2kfra8p0\\LocalCache\\local-packages\\Python312\\site-packages\\sklearn\\neural_network\\_multilayer_perceptron.py:690: ConvergenceWarning: Stochastic Optimizer: Maximum iterations (1000) reached and the optimization hasn't converged yet.\n",
      "  warnings.warn(\n"
     ]
    },
    {
     "name": "stdout",
     "output_type": "stream",
     "text": [
      "Fold 4 Score: 0.9075\n",
      "\n",
      "Fold 5/5\n"
     ]
    },
    {
     "name": "stderr",
     "output_type": "stream",
     "text": [
      "C:\\Users\\Nils\\AppData\\Local\\Packages\\PythonSoftwareFoundation.Python.3.12_qbz5n2kfra8p0\\LocalCache\\local-packages\\Python312\\site-packages\\sklearn\\neural_network\\_multilayer_perceptron.py:690: ConvergenceWarning: Stochastic Optimizer: Maximum iterations (1000) reached and the optimization hasn't converged yet.\n",
      "  warnings.warn(\n"
     ]
    },
    {
     "name": "stdout",
     "output_type": "stream",
     "text": [
      "Fold 5 Score: 0.9125\n",
      "\n",
      "Cross-validation results:\n",
      "Mean score: 0.9205\n",
      "Std deviation: 0.0104\n",
      "  Repeat 2/5\n",
      "\n",
      "Fold 1/5\n"
     ]
    },
    {
     "name": "stderr",
     "output_type": "stream",
     "text": [
      "C:\\Users\\Nils\\AppData\\Local\\Packages\\PythonSoftwareFoundation.Python.3.12_qbz5n2kfra8p0\\LocalCache\\local-packages\\Python312\\site-packages\\sklearn\\neural_network\\_multilayer_perceptron.py:690: ConvergenceWarning: Stochastic Optimizer: Maximum iterations (1000) reached and the optimization hasn't converged yet.\n",
      "  warnings.warn(\n"
     ]
    },
    {
     "name": "stdout",
     "output_type": "stream",
     "text": [
      "Fold 1 Score: 0.9175\n",
      "\n",
      "Fold 2/5\n"
     ]
    },
    {
     "name": "stderr",
     "output_type": "stream",
     "text": [
      "C:\\Users\\Nils\\AppData\\Local\\Packages\\PythonSoftwareFoundation.Python.3.12_qbz5n2kfra8p0\\LocalCache\\local-packages\\Python312\\site-packages\\sklearn\\neural_network\\_multilayer_perceptron.py:690: ConvergenceWarning: Stochastic Optimizer: Maximum iterations (1000) reached and the optimization hasn't converged yet.\n",
      "  warnings.warn(\n"
     ]
    },
    {
     "name": "stdout",
     "output_type": "stream",
     "text": [
      "Fold 2 Score: 0.9150\n",
      "\n",
      "Fold 3/5\n"
     ]
    },
    {
     "name": "stderr",
     "output_type": "stream",
     "text": [
      "C:\\Users\\Nils\\AppData\\Local\\Packages\\PythonSoftwareFoundation.Python.3.12_qbz5n2kfra8p0\\LocalCache\\local-packages\\Python312\\site-packages\\sklearn\\neural_network\\_multilayer_perceptron.py:690: ConvergenceWarning: Stochastic Optimizer: Maximum iterations (1000) reached and the optimization hasn't converged yet.\n",
      "  warnings.warn(\n"
     ]
    },
    {
     "name": "stdout",
     "output_type": "stream",
     "text": [
      "Fold 3 Score: 0.9125\n",
      "\n",
      "Fold 4/5\n"
     ]
    },
    {
     "name": "stderr",
     "output_type": "stream",
     "text": [
      "C:\\Users\\Nils\\AppData\\Local\\Packages\\PythonSoftwareFoundation.Python.3.12_qbz5n2kfra8p0\\LocalCache\\local-packages\\Python312\\site-packages\\sklearn\\neural_network\\_multilayer_perceptron.py:690: ConvergenceWarning: Stochastic Optimizer: Maximum iterations (1000) reached and the optimization hasn't converged yet.\n",
      "  warnings.warn(\n"
     ]
    },
    {
     "name": "stdout",
     "output_type": "stream",
     "text": [
      "Fold 4 Score: 0.9150\n",
      "\n",
      "Fold 5/5\n"
     ]
    },
    {
     "name": "stderr",
     "output_type": "stream",
     "text": [
      "C:\\Users\\Nils\\AppData\\Local\\Packages\\PythonSoftwareFoundation.Python.3.12_qbz5n2kfra8p0\\LocalCache\\local-packages\\Python312\\site-packages\\sklearn\\neural_network\\_multilayer_perceptron.py:690: ConvergenceWarning: Stochastic Optimizer: Maximum iterations (1000) reached and the optimization hasn't converged yet.\n",
      "  warnings.warn(\n"
     ]
    },
    {
     "name": "stdout",
     "output_type": "stream",
     "text": [
      "Fold 5 Score: 0.9125\n",
      "\n",
      "Cross-validation results:\n",
      "Mean score: 0.9145\n",
      "Std deviation: 0.0019\n",
      "  Repeat 3/5\n",
      "\n",
      "Fold 1/5\n"
     ]
    },
    {
     "name": "stderr",
     "output_type": "stream",
     "text": [
      "C:\\Users\\Nils\\AppData\\Local\\Packages\\PythonSoftwareFoundation.Python.3.12_qbz5n2kfra8p0\\LocalCache\\local-packages\\Python312\\site-packages\\sklearn\\neural_network\\_multilayer_perceptron.py:690: ConvergenceWarning: Stochastic Optimizer: Maximum iterations (1000) reached and the optimization hasn't converged yet.\n",
      "  warnings.warn(\n"
     ]
    },
    {
     "name": "stdout",
     "output_type": "stream",
     "text": [
      "Fold 1 Score: 0.9075\n",
      "\n",
      "Fold 2/5\n"
     ]
    },
    {
     "name": "stderr",
     "output_type": "stream",
     "text": [
      "C:\\Users\\Nils\\AppData\\Local\\Packages\\PythonSoftwareFoundation.Python.3.12_qbz5n2kfra8p0\\LocalCache\\local-packages\\Python312\\site-packages\\sklearn\\neural_network\\_multilayer_perceptron.py:690: ConvergenceWarning: Stochastic Optimizer: Maximum iterations (1000) reached and the optimization hasn't converged yet.\n",
      "  warnings.warn(\n"
     ]
    },
    {
     "name": "stdout",
     "output_type": "stream",
     "text": [
      "Fold 2 Score: 0.9125\n",
      "\n",
      "Fold 3/5\n"
     ]
    },
    {
     "name": "stderr",
     "output_type": "stream",
     "text": [
      "C:\\Users\\Nils\\AppData\\Local\\Packages\\PythonSoftwareFoundation.Python.3.12_qbz5n2kfra8p0\\LocalCache\\local-packages\\Python312\\site-packages\\sklearn\\neural_network\\_multilayer_perceptron.py:690: ConvergenceWarning: Stochastic Optimizer: Maximum iterations (1000) reached and the optimization hasn't converged yet.\n",
      "  warnings.warn(\n"
     ]
    },
    {
     "name": "stdout",
     "output_type": "stream",
     "text": [
      "Fold 3 Score: 0.9250\n",
      "\n",
      "Fold 4/5\n"
     ]
    },
    {
     "name": "stderr",
     "output_type": "stream",
     "text": [
      "C:\\Users\\Nils\\AppData\\Local\\Packages\\PythonSoftwareFoundation.Python.3.12_qbz5n2kfra8p0\\LocalCache\\local-packages\\Python312\\site-packages\\sklearn\\neural_network\\_multilayer_perceptron.py:690: ConvergenceWarning: Stochastic Optimizer: Maximum iterations (1000) reached and the optimization hasn't converged yet.\n",
      "  warnings.warn(\n"
     ]
    },
    {
     "name": "stdout",
     "output_type": "stream",
     "text": [
      "Fold 4 Score: 0.9350\n",
      "\n",
      "Fold 5/5\n"
     ]
    },
    {
     "name": "stderr",
     "output_type": "stream",
     "text": [
      "C:\\Users\\Nils\\AppData\\Local\\Packages\\PythonSoftwareFoundation.Python.3.12_qbz5n2kfra8p0\\LocalCache\\local-packages\\Python312\\site-packages\\sklearn\\neural_network\\_multilayer_perceptron.py:690: ConvergenceWarning: Stochastic Optimizer: Maximum iterations (1000) reached and the optimization hasn't converged yet.\n",
      "  warnings.warn(\n"
     ]
    },
    {
     "name": "stdout",
     "output_type": "stream",
     "text": [
      "Fold 5 Score: 0.9450\n",
      "\n",
      "Cross-validation results:\n",
      "Mean score: 0.9250\n",
      "Std deviation: 0.0139\n",
      "  Repeat 4/5\n",
      "\n",
      "Fold 1/5\n"
     ]
    },
    {
     "name": "stderr",
     "output_type": "stream",
     "text": [
      "C:\\Users\\Nils\\AppData\\Local\\Packages\\PythonSoftwareFoundation.Python.3.12_qbz5n2kfra8p0\\LocalCache\\local-packages\\Python312\\site-packages\\sklearn\\neural_network\\_multilayer_perceptron.py:690: ConvergenceWarning: Stochastic Optimizer: Maximum iterations (1000) reached and the optimization hasn't converged yet.\n",
      "  warnings.warn(\n"
     ]
    },
    {
     "name": "stdout",
     "output_type": "stream",
     "text": [
      "Fold 1 Score: 0.9050\n",
      "\n",
      "Fold 2/5\n"
     ]
    },
    {
     "name": "stderr",
     "output_type": "stream",
     "text": [
      "C:\\Users\\Nils\\AppData\\Local\\Packages\\PythonSoftwareFoundation.Python.3.12_qbz5n2kfra8p0\\LocalCache\\local-packages\\Python312\\site-packages\\sklearn\\neural_network\\_multilayer_perceptron.py:690: ConvergenceWarning: Stochastic Optimizer: Maximum iterations (1000) reached and the optimization hasn't converged yet.\n",
      "  warnings.warn(\n"
     ]
    },
    {
     "name": "stdout",
     "output_type": "stream",
     "text": [
      "Fold 2 Score: 0.9275\n",
      "\n",
      "Fold 3/5\n"
     ]
    },
    {
     "name": "stderr",
     "output_type": "stream",
     "text": [
      "C:\\Users\\Nils\\AppData\\Local\\Packages\\PythonSoftwareFoundation.Python.3.12_qbz5n2kfra8p0\\LocalCache\\local-packages\\Python312\\site-packages\\sklearn\\neural_network\\_multilayer_perceptron.py:690: ConvergenceWarning: Stochastic Optimizer: Maximum iterations (1000) reached and the optimization hasn't converged yet.\n",
      "  warnings.warn(\n"
     ]
    },
    {
     "name": "stdout",
     "output_type": "stream",
     "text": [
      "Fold 3 Score: 0.9300\n",
      "\n",
      "Fold 4/5\n"
     ]
    },
    {
     "name": "stderr",
     "output_type": "stream",
     "text": [
      "C:\\Users\\Nils\\AppData\\Local\\Packages\\PythonSoftwareFoundation.Python.3.12_qbz5n2kfra8p0\\LocalCache\\local-packages\\Python312\\site-packages\\sklearn\\neural_network\\_multilayer_perceptron.py:690: ConvergenceWarning: Stochastic Optimizer: Maximum iterations (1000) reached and the optimization hasn't converged yet.\n",
      "  warnings.warn(\n"
     ]
    },
    {
     "name": "stdout",
     "output_type": "stream",
     "text": [
      "Fold 4 Score: 0.9300\n",
      "\n",
      "Fold 5/5\n"
     ]
    },
    {
     "name": "stderr",
     "output_type": "stream",
     "text": [
      "C:\\Users\\Nils\\AppData\\Local\\Packages\\PythonSoftwareFoundation.Python.3.12_qbz5n2kfra8p0\\LocalCache\\local-packages\\Python312\\site-packages\\sklearn\\neural_network\\_multilayer_perceptron.py:690: ConvergenceWarning: Stochastic Optimizer: Maximum iterations (1000) reached and the optimization hasn't converged yet.\n",
      "  warnings.warn(\n"
     ]
    },
    {
     "name": "stdout",
     "output_type": "stream",
     "text": [
      "Fold 5 Score: 0.9200\n",
      "\n",
      "Cross-validation results:\n",
      "Mean score: 0.9225\n",
      "Std deviation: 0.0095\n",
      "  Repeat 5/5\n",
      "\n",
      "Fold 1/5\n"
     ]
    },
    {
     "name": "stderr",
     "output_type": "stream",
     "text": [
      "C:\\Users\\Nils\\AppData\\Local\\Packages\\PythonSoftwareFoundation.Python.3.12_qbz5n2kfra8p0\\LocalCache\\local-packages\\Python312\\site-packages\\sklearn\\neural_network\\_multilayer_perceptron.py:690: ConvergenceWarning: Stochastic Optimizer: Maximum iterations (1000) reached and the optimization hasn't converged yet.\n",
      "  warnings.warn(\n"
     ]
    },
    {
     "name": "stdout",
     "output_type": "stream",
     "text": [
      "Fold 1 Score: 0.8975\n",
      "\n",
      "Fold 2/5\n"
     ]
    },
    {
     "name": "stderr",
     "output_type": "stream",
     "text": [
      "C:\\Users\\Nils\\AppData\\Local\\Packages\\PythonSoftwareFoundation.Python.3.12_qbz5n2kfra8p0\\LocalCache\\local-packages\\Python312\\site-packages\\sklearn\\neural_network\\_multilayer_perceptron.py:690: ConvergenceWarning: Stochastic Optimizer: Maximum iterations (1000) reached and the optimization hasn't converged yet.\n",
      "  warnings.warn(\n"
     ]
    },
    {
     "name": "stdout",
     "output_type": "stream",
     "text": [
      "Fold 2 Score: 0.8950\n",
      "\n",
      "Fold 3/5\n"
     ]
    },
    {
     "name": "stderr",
     "output_type": "stream",
     "text": [
      "C:\\Users\\Nils\\AppData\\Local\\Packages\\PythonSoftwareFoundation.Python.3.12_qbz5n2kfra8p0\\LocalCache\\local-packages\\Python312\\site-packages\\sklearn\\neural_network\\_multilayer_perceptron.py:690: ConvergenceWarning: Stochastic Optimizer: Maximum iterations (1000) reached and the optimization hasn't converged yet.\n",
      "  warnings.warn(\n"
     ]
    },
    {
     "name": "stdout",
     "output_type": "stream",
     "text": [
      "Fold 3 Score: 0.9025\n",
      "\n",
      "Fold 4/5\n"
     ]
    },
    {
     "name": "stderr",
     "output_type": "stream",
     "text": [
      "C:\\Users\\Nils\\AppData\\Local\\Packages\\PythonSoftwareFoundation.Python.3.12_qbz5n2kfra8p0\\LocalCache\\local-packages\\Python312\\site-packages\\sklearn\\neural_network\\_multilayer_perceptron.py:690: ConvergenceWarning: Stochastic Optimizer: Maximum iterations (1000) reached and the optimization hasn't converged yet.\n",
      "  warnings.warn(\n"
     ]
    },
    {
     "name": "stdout",
     "output_type": "stream",
     "text": [
      "Fold 4 Score: 0.9450\n",
      "\n",
      "Fold 5/5\n"
     ]
    },
    {
     "name": "stderr",
     "output_type": "stream",
     "text": [
      "C:\\Users\\Nils\\AppData\\Local\\Packages\\PythonSoftwareFoundation.Python.3.12_qbz5n2kfra8p0\\LocalCache\\local-packages\\Python312\\site-packages\\sklearn\\neural_network\\_multilayer_perceptron.py:690: ConvergenceWarning: Stochastic Optimizer: Maximum iterations (1000) reached and the optimization hasn't converged yet.\n",
      "  warnings.warn(\n"
     ]
    },
    {
     "name": "stdout",
     "output_type": "stream",
     "text": [
      "Fold 5 Score: 0.9400\n",
      "\n",
      "Cross-validation results:\n",
      "Mean score: 0.9160\n",
      "Std deviation: 0.0218\n",
      "Testing max_iter = 3000\n",
      "  Repeat 1/5\n",
      "\n",
      "Fold 1/5\n",
      "Fold 1 Score: 0.9200\n",
      "\n",
      "Fold 2/5\n",
      "Fold 2 Score: 0.9325\n",
      "\n",
      "Fold 3/5\n",
      "Fold 3 Score: 0.9200\n",
      "\n",
      "Fold 4/5\n",
      "Fold 4 Score: 0.9300\n",
      "\n",
      "Fold 5/5\n",
      "Fold 5 Score: 0.9050\n",
      "\n",
      "Cross-validation results:\n",
      "Mean score: 0.9215\n",
      "Std deviation: 0.0097\n",
      "  Repeat 2/5\n",
      "\n",
      "Fold 1/5\n",
      "Fold 1 Score: 0.9350\n",
      "\n",
      "Fold 2/5\n",
      "Fold 2 Score: 0.9350\n",
      "\n",
      "Fold 3/5\n",
      "Fold 3 Score: 0.9200\n",
      "\n",
      "Fold 4/5\n",
      "Fold 4 Score: 0.9300\n",
      "\n",
      "Fold 5/5\n",
      "Fold 5 Score: 0.8950\n",
      "\n",
      "Cross-validation results:\n",
      "Mean score: 0.9230\n",
      "Std deviation: 0.0150\n",
      "  Repeat 3/5\n",
      "\n",
      "Fold 1/5\n",
      "Fold 1 Score: 0.9425\n",
      "\n",
      "Fold 2/5\n",
      "Fold 2 Score: 0.9225\n",
      "\n",
      "Fold 3/5\n",
      "Fold 3 Score: 0.8975\n",
      "\n",
      "Fold 4/5\n",
      "Fold 4 Score: 0.9175\n",
      "\n",
      "Fold 5/5\n",
      "Fold 5 Score: 0.9250\n",
      "\n",
      "Cross-validation results:\n",
      "Mean score: 0.9210\n",
      "Std deviation: 0.0145\n",
      "  Repeat 4/5\n",
      "\n",
      "Fold 1/5\n",
      "Fold 1 Score: 0.9350\n",
      "\n",
      "Fold 2/5\n",
      "Fold 2 Score: 0.9275\n",
      "\n",
      "Fold 3/5\n",
      "Fold 3 Score: 0.9225\n",
      "\n",
      "Fold 4/5\n",
      "Fold 4 Score: 0.9150\n",
      "\n",
      "Fold 5/5\n",
      "Fold 5 Score: 0.9100\n",
      "\n",
      "Cross-validation results:\n",
      "Mean score: 0.9220\n",
      "Std deviation: 0.0089\n",
      "  Repeat 5/5\n",
      "\n",
      "Fold 1/5\n",
      "Fold 1 Score: 0.9100\n",
      "\n",
      "Fold 2/5\n",
      "Fold 2 Score: 0.9325\n",
      "\n",
      "Fold 3/5\n",
      "Fold 3 Score: 0.9175\n",
      "\n",
      "Fold 4/5\n",
      "Fold 4 Score: 0.9175\n",
      "\n",
      "Fold 5/5\n",
      "Fold 5 Score: 0.9225\n",
      "\n",
      "Cross-validation results:\n",
      "Mean score: 0.9200\n",
      "Std deviation: 0.0074\n",
      "Testing max_iter = 5000\n",
      "  Repeat 1/5\n",
      "\n",
      "Fold 1/5\n",
      "Fold 1 Score: 0.9325\n",
      "\n",
      "Fold 2/5\n",
      "Fold 2 Score: 0.9125\n",
      "\n",
      "Fold 3/5\n",
      "Fold 3 Score: 0.9350\n",
      "\n",
      "Fold 4/5\n",
      "Fold 4 Score: 0.9325\n",
      "\n",
      "Fold 5/5\n",
      "Fold 5 Score: 0.9400\n",
      "\n",
      "Cross-validation results:\n",
      "Mean score: 0.9305\n",
      "Std deviation: 0.0094\n",
      "  Repeat 2/5\n",
      "\n",
      "Fold 1/5\n",
      "Fold 1 Score: 0.9175\n",
      "\n",
      "Fold 2/5\n",
      "Fold 2 Score: 0.9175\n",
      "\n",
      "Fold 3/5\n",
      "Fold 3 Score: 0.9100\n",
      "\n",
      "Fold 4/5\n",
      "Fold 4 Score: 0.9275\n",
      "\n",
      "Fold 5/5\n",
      "Fold 5 Score: 0.9450\n",
      "\n",
      "Cross-validation results:\n",
      "Mean score: 0.9235\n",
      "Std deviation: 0.0121\n",
      "  Repeat 3/5\n",
      "\n",
      "Fold 1/5\n",
      "Fold 1 Score: 0.9375\n",
      "\n",
      "Fold 2/5\n",
      "Fold 2 Score: 0.9075\n",
      "\n",
      "Fold 3/5\n",
      "Fold 3 Score: 0.9100\n",
      "\n",
      "Fold 4/5\n",
      "Fold 4 Score: 0.9350\n",
      "\n",
      "Fold 5/5\n",
      "Fold 5 Score: 0.9300\n",
      "\n",
      "Cross-validation results:\n",
      "Mean score: 0.9240\n",
      "Std deviation: 0.0127\n",
      "  Repeat 4/5\n",
      "\n",
      "Fold 1/5\n",
      "Fold 1 Score: 0.9275\n",
      "\n",
      "Fold 2/5\n",
      "Fold 2 Score: 0.9250\n",
      "\n",
      "Fold 3/5\n",
      "Fold 3 Score: 0.9325\n",
      "\n",
      "Fold 4/5\n",
      "Fold 4 Score: 0.9200\n",
      "\n",
      "Fold 5/5\n",
      "Fold 5 Score: 0.9275\n",
      "\n",
      "Cross-validation results:\n",
      "Mean score: 0.9265\n",
      "Std deviation: 0.0041\n",
      "  Repeat 5/5\n",
      "\n",
      "Fold 1/5\n",
      "Fold 1 Score: 0.9225\n",
      "\n",
      "Fold 2/5\n",
      "Fold 2 Score: 0.9350\n",
      "\n",
      "Fold 3/5\n",
      "Fold 3 Score: 0.9100\n",
      "\n",
      "Fold 4/5\n",
      "Fold 4 Score: 0.9175\n",
      "\n",
      "Fold 5/5\n",
      "Fold 5 Score: 0.9150\n",
      "\n",
      "Cross-validation results:\n",
      "Mean score: 0.9200\n",
      "Std deviation: 0.0085\n"
     ]
    },
    {
     "name": "stderr",
     "output_type": "stream",
     "text": [
      "C:\\Users\\Nils\\AppData\\Local\\Temp\\ipykernel_24980\\4165643004.py:37: MatplotlibDeprecationWarning: The 'labels' parameter of boxplot() has been renamed 'tick_labels' since Matplotlib 3.9; support for the old name will be dropped in 3.11.\n",
      "  plt.boxplot(all_results, labels=[f\"max_iter={mi}\" for mi in max_iter_values], patch_artist=True)\n"
     ]
    },
    {
     "data": {
      "image/png": "[encoded data removed]",
      "text/plain": [
       "<Figure size 1000x600 with 1 Axes>"
      ]
     },
     "metadata": {},
     "output_type": "display_data"
    },
    {
     "name": "stdout",
     "output_type": "stream",
     "text": [
      "\n",
      "max_iter = 100, Sorted Accuracy Scores (25 values):\n",
      "[0.7825, 0.785, 0.7875, 0.7875, 0.7925, 0.7925, 0.795, 0.7975, 0.7975, 0.8025, 0.8025, 0.805, 0.81, 0.81, 0.81, 0.8125, 0.815, 0.8225, 0.8225, 0.825, 0.8275, 0.83, 0.83, 0.83, 0.86]\n",
      "\n",
      "max_iter = 500, Sorted Accuracy Scores (25 values):\n",
      "[0.87, 0.8725, 0.8825, 0.89, 0.8925, 0.895, 0.8975, 0.9, 0.9, 0.9025, 0.905, 0.905, 0.91, 0.91, 0.9125, 0.915, 0.915, 0.9175, 0.92, 0.92, 0.92, 0.925, 0.925, 0.925, 0.9275]\n",
      "\n",
      "max_iter = 1000, Sorted Accuracy Scores (25 values):\n",
      "[0.895, 0.8975, 0.9025, 0.905, 0.9075, 0.9075, 0.9125, 0.9125, 0.9125, 0.9125, 0.915, 0.915, 0.9175, 0.9175, 0.92, 0.925, 0.9275, 0.93, 0.93, 0.93, 0.935, 0.935, 0.94, 0.945, 0.945]\n",
      "\n",
      "max_iter = 3000, Sorted Accuracy Scores (25 values):\n",
      "[0.895, 0.8975, 0.905, 0.91, 0.91, 0.915, 0.9175, 0.9175, 0.9175, 0.92, 0.92, 0.92, 0.9225, 0.9225, 0.9225, 0.925, 0.9275, 0.93, 0.93, 0.9325, 0.9325, 0.935, 0.935, 0.935, 0.9425]\n",
      "\n",
      "max_iter = 5000, Sorted Accuracy Scores (25 values):\n",
      "[0.9075, 0.91, 0.91, 0.91, 0.9125, 0.915, 0.9175, 0.9175, 0.9175, 0.92, 0.9225, 0.925, 0.9275, 0.9275, 0.9275, 0.93, 0.9325, 0.9325, 0.9325, 0.935, 0.935, 0.935, 0.9375, 0.94, 0.945]\n"
     ]
    }
   ],
   "source": [
    "#tune parameters for PCA classifier with cross-validation\n",
    "import numpy as np\n",
    "import matplotlib.pyplot as plt\n",
    "from sklearn.metrics import accuracy_score\n",
    "from sklearn.model_selection import cross_val_score\n",
    "from sklearn.model_selection import KFold\n",
    "\n",
    "# k values for cross-validation\n",
    "max_iter_values = [100, 500, 1000, 3000, 5000]\n",
    "repeats = 5\n",
    "all_results = []\n",
    "\n",
    "print(\"Starting cross-validation...\\n\")\n",
    "\n",
    "for max_iter in max_iter_values:\n",
    "    print(f\"Testing max_iter = {max_iter}\")\n",
    "    scores_max_iter = []\n",
    "\n",
    "    for rep in range(repeats):\n",
    "        print(f\"  Repeat {rep + 1}/{repeats}\")\n",
    "        \n",
    "        # Cross-validation with PCA classifier\n",
    "        scores = cross_validate(\n",
    "            images=images,\n",
    "            labels=labels,\n",
    "            train_fn=lambda train_images, train_labels: train_PCA(train_images, train_labels, max_iter=max_iter),\n",
    "            predict_fn=predict_with_PCA,\n",
    "            k_folds=5,\n",
    "            metric_fn=accuracy_score\n",
    "        )\n",
    "        scores_max_iter.extend(scores)\n",
    "\n",
    "    all_results.append(scores_max_iter)\n",
    "\n",
    "# Plotting\n",
    "plt.figure(figsize=(10, 6))\n",
    "plt.boxplot(all_results, labels=[f\"max_iter={mi}\" for mi in max_iter_values], patch_artist=True)\n",
    "plt.title(\"PCA Classifier Cross-Validation Accuracy for Different max_iter Values\")\n",
    "plt.ylabel(\"Accuracy\")\n",
    "plt.xlabel(\"max_iter\")\n",
    "plt.grid(True)\n",
    "plt.show()\n",
    "\n",
    "# Print sorted accuracy scores for each max_iter\n",
    "for i, max_iter in enumerate(max_iter_values):\n",
    "    sorted_scores = sorted(all_results[i])\n",
    "    print(f\"\\nmax_iter = {max_iter}, Sorted Accuracy Scores ({len(sorted_scores)} values):\")\n",
    "    print(sorted_scores)\n"
   ]
  },
  {
   "cell_type": "code",
   "execution_count": null,
   "id": "78e519d8",
   "metadata": {},
   "outputs": [
    {
     "name": "stderr",
     "output_type": "stream",
     "text": [
      "C:\\Users\\Nils\\AppData\\Local\\Packages\\PythonSoftwareFoundation.Python.3.12_qbz5n2kfra8p0\\LocalCache\\local-packages\\Python312\\site-packages\\lightning\\pytorch\\trainer\\configuration_validator.py:70: You defined a `validation_step` but have no `val_dataloader`. Skipping val loop.\n",
      "\n",
      "  | Name          | Type             | Params | Mode \n",
      "-----------------------------------------------------------\n",
      "0 | loss          | CrossEntropyLoss | 0      | eval \n",
      "1 | train_metrics | MetricCollection | 0      | train\n",
      "2 | val_metrics   | MetricCollection | 0      | train\n",
      "3 | test_metrics  | MetricCollection | 0      | train\n",
      "4 | model         | Sequential       | 19.7 K | train\n",
      "5 | loss_fn       | NLLLoss          | 0      | train\n",
      "6 | optimizer     | RMSprop          | 0      | train\n",
      "-----------------------------------------------------------\n",
      "19.7 K    Trainable params\n",
      "0         Non-trainable params\n",
      "19.7 K    Total params\n",
      "0.079     Total estimated model params size (MB)\n",
      "30        Modules in train mode\n",
      "1         Modules in eval mode\n"
     ]
    },
    {
     "name": "stdout",
     "output_type": "stream",
     "text": [
      "Testing epochs = 1\n",
      "  Repeat 1/8\n"
     ]
    },
    {
     "name": "stderr",
     "output_type": "stream",
     "text": [
      "C:\\Users\\Nils\\AppData\\Local\\Packages\\PythonSoftwareFoundation.Python.3.12_qbz5n2kfra8p0\\LocalCache\\local-packages\\Python312\\site-packages\\lightning\\pytorch\\trainer\\connectors\\data_connector.py:425: The 'train_dataloader' does not have many workers which may be a bottleneck. Consider increasing the value of the `num_workers` argument` to `num_workers=11` in the `DataLoader` to improve performance.\n"
     ]
    },
    {
     "name": "stdout",
     "output_type": "stream",
     "text": [
      "Epoch 0: 100%|██████████| 50/50 [00:00<00:00, 56.34it/s, v_num=95]\n",
      "    Accuracy: 0.1675  =>  Error: 0.8325\n",
      "  Repeat 2/8\n"
     ]
    },
    {
     "name": "stderr",
     "output_type": "stream",
     "text": [
      "C:\\Users\\Nils\\AppData\\Local\\Packages\\PythonSoftwareFoundation.Python.3.12_qbz5n2kfra8p0\\LocalCache\\local-packages\\Python312\\site-packages\\lightning\\pytorch\\trainer\\configuration_validator.py:70: You defined a `validation_step` but have no `val_dataloader`. Skipping val loop.\n",
      "\n",
      "  | Name          | Type             | Params | Mode \n",
      "-----------------------------------------------------------\n",
      "0 | loss          | CrossEntropyLoss | 0      | eval \n",
      "1 | train_metrics | MetricCollection | 0      | train\n",
      "2 | val_metrics   | MetricCollection | 0      | train\n",
      "3 | test_metrics  | MetricCollection | 0      | train\n",
      "4 | model         | Sequential       | 19.7 K | train\n",
      "5 | loss_fn       | NLLLoss          | 0      | train\n",
      "6 | optimizer     | RMSprop          | 0      | train\n",
      "-----------------------------------------------------------\n",
      "19.7 K    Trainable params\n",
      "0         Non-trainable params\n",
      "19.7 K    Total params\n",
      "0.079     Total estimated model params size (MB)\n",
      "30        Modules in train mode\n",
      "1         Modules in eval mode\n",
      "C:\\Users\\Nils\\AppData\\Local\\Packages\\PythonSoftwareFoundation.Python.3.12_qbz5n2kfra8p0\\LocalCache\\local-packages\\Python312\\site-packages\\lightning\\pytorch\\trainer\\connectors\\data_connector.py:425: The 'train_dataloader' does not have many workers which may be a bottleneck. Consider increasing the value of the `num_workers` argument` to `num_workers=11` in the `DataLoader` to improve performance.\n"
     ]
    },
    {
     "name": "stdout",
     "output_type": "stream",
     "text": [
      "Epoch 0: 100%|██████████| 50/50 [00:00<00:00, 65.88it/s, v_num=96]\n",
      "    Accuracy: 0.1650  =>  Error: 0.8350\n",
      "  Repeat 3/8\n"
     ]
    },
    {
     "name": "stderr",
     "output_type": "stream",
     "text": [
      "C:\\Users\\Nils\\AppData\\Local\\Packages\\PythonSoftwareFoundation.Python.3.12_qbz5n2kfra8p0\\LocalCache\\local-packages\\Python312\\site-packages\\lightning\\pytorch\\trainer\\configuration_validator.py:70: You defined a `validation_step` but have no `val_dataloader`. Skipping val loop.\n",
      "\n",
      "  | Name          | Type             | Params | Mode \n",
      "-----------------------------------------------------------\n",
      "0 | loss          | CrossEntropyLoss | 0      | eval \n",
      "1 | train_metrics | MetricCollection | 0      | train\n",
      "2 | val_metrics   | MetricCollection | 0      | train\n",
      "3 | test_metrics  | MetricCollection | 0      | train\n",
      "4 | model         | Sequential       | 19.7 K | train\n",
      "5 | loss_fn       | NLLLoss          | 0      | train\n",
      "6 | optimizer     | RMSprop          | 0      | train\n",
      "-----------------------------------------------------------\n",
      "19.7 K    Trainable params\n",
      "0         Non-trainable params\n",
      "19.7 K    Total params\n",
      "0.079     Total estimated model params size (MB)\n",
      "30        Modules in train mode\n",
      "1         Modules in eval mode\n",
      "C:\\Users\\Nils\\AppData\\Local\\Packages\\PythonSoftwareFoundation.Python.3.12_qbz5n2kfra8p0\\LocalCache\\local-packages\\Python312\\site-packages\\lightning\\pytorch\\trainer\\connectors\\data_connector.py:425: The 'train_dataloader' does not have many workers which may be a bottleneck. Consider increasing the value of the `num_workers` argument` to `num_workers=11` in the `DataLoader` to improve performance.\n"
     ]
    },
    {
     "name": "stdout",
     "output_type": "stream",
     "text": [
      "Epoch 0: 100%|██████████| 50/50 [00:00<00:00, 65.78it/s, v_num=97]\n",
      "    Accuracy: 0.1775  =>  Error: 0.8225\n",
      "  Repeat 4/8\n"
     ]
    },
    {
     "name": "stderr",
     "output_type": "stream",
     "text": [
      "C:\\Users\\Nils\\AppData\\Local\\Packages\\PythonSoftwareFoundation.Python.3.12_qbz5n2kfra8p0\\LocalCache\\local-packages\\Python312\\site-packages\\lightning\\pytorch\\trainer\\configuration_validator.py:70: You defined a `validation_step` but have no `val_dataloader`. Skipping val loop.\n",
      "\n",
      "  | Name          | Type             | Params | Mode \n",
      "-----------------------------------------------------------\n",
      "0 | loss          | CrossEntropyLoss | 0      | eval \n",
      "1 | train_metrics | MetricCollection | 0      | train\n",
      "2 | val_metrics   | MetricCollection | 0      | train\n",
      "3 | test_metrics  | MetricCollection | 0      | train\n",
      "4 | model         | Sequential       | 19.7 K | train\n",
      "5 | loss_fn       | NLLLoss          | 0      | train\n",
      "6 | optimizer     | RMSprop          | 0      | train\n",
      "-----------------------------------------------------------\n",
      "19.7 K    Trainable params\n",
      "0         Non-trainable params\n",
      "19.7 K    Total params\n",
      "0.079     Total estimated model params size (MB)\n",
      "30        Modules in train mode\n",
      "1         Modules in eval mode\n",
      "C:\\Users\\Nils\\AppData\\Local\\Packages\\PythonSoftwareFoundation.Python.3.12_qbz5n2kfra8p0\\LocalCache\\local-packages\\Python312\\site-packages\\lightning\\pytorch\\trainer\\connectors\\data_connector.py:425: The 'train_dataloader' does not have many workers which may be a bottleneck. Consider increasing the value of the `num_workers` argument` to `num_workers=11` in the `DataLoader` to improve performance.\n"
     ]
    },
    {
     "name": "stdout",
     "output_type": "stream",
     "text": [
      "Epoch 0: 100%|██████████| 50/50 [00:00<00:00, 58.91it/s, v_num=98]\n",
      "    Accuracy: 0.1650  =>  Error: 0.8350\n",
      "  Repeat 5/8\n"
     ]
    },
    {
     "name": "stderr",
     "output_type": "stream",
     "text": [
      "C:\\Users\\Nils\\AppData\\Local\\Packages\\PythonSoftwareFoundation.Python.3.12_qbz5n2kfra8p0\\LocalCache\\local-packages\\Python312\\site-packages\\lightning\\pytorch\\trainer\\configuration_validator.py:70: You defined a `validation_step` but have no `val_dataloader`. Skipping val loop.\n",
      "\n",
      "  | Name          | Type             | Params | Mode \n",
      "-----------------------------------------------------------\n",
      "0 | loss          | CrossEntropyLoss | 0      | eval \n",
      "1 | train_metrics | MetricCollection | 0      | train\n",
      "2 | val_metrics   | MetricCollection | 0      | train\n",
      "3 | test_metrics  | MetricCollection | 0      | train\n",
      "4 | model         | Sequential       | 19.7 K | train\n",
      "5 | loss_fn       | NLLLoss          | 0      | train\n",
      "6 | optimizer     | RMSprop          | 0      | train\n",
      "-----------------------------------------------------------\n",
      "19.7 K    Trainable params\n",
      "0         Non-trainable params\n",
      "19.7 K    Total params\n",
      "0.079     Total estimated model params size (MB)\n",
      "30        Modules in train mode\n",
      "1         Modules in eval mode\n",
      "C:\\Users\\Nils\\AppData\\Local\\Packages\\PythonSoftwareFoundation.Python.3.12_qbz5n2kfra8p0\\LocalCache\\local-packages\\Python312\\site-packages\\lightning\\pytorch\\trainer\\connectors\\data_connector.py:425: The 'train_dataloader' does not have many workers which may be a bottleneck. Consider increasing the value of the `num_workers` argument` to `num_workers=11` in the `DataLoader` to improve performance.\n"
     ]
    },
    {
     "name": "stdout",
     "output_type": "stream",
     "text": [
      "Epoch 0: 100%|██████████| 50/50 [00:00<00:00, 67.32it/s, v_num=99]\n",
      "    Accuracy: 0.2900  =>  Error: 0.7100\n",
      "  Repeat 6/8\n"
     ]
    },
    {
     "name": "stderr",
     "output_type": "stream",
     "text": [
      "C:\\Users\\Nils\\AppData\\Local\\Packages\\PythonSoftwareFoundation.Python.3.12_qbz5n2kfra8p0\\LocalCache\\local-packages\\Python312\\site-packages\\lightning\\pytorch\\trainer\\configuration_validator.py:70: You defined a `validation_step` but have no `val_dataloader`. Skipping val loop.\n",
      "\n",
      "  | Name          | Type             | Params | Mode \n",
      "-----------------------------------------------------------\n",
      "0 | loss          | CrossEntropyLoss | 0      | eval \n",
      "1 | train_metrics | MetricCollection | 0      | train\n",
      "2 | val_metrics   | MetricCollection | 0      | train\n",
      "3 | test_metrics  | MetricCollection | 0      | train\n",
      "4 | model         | Sequential       | 19.7 K | train\n",
      "5 | loss_fn       | NLLLoss          | 0      | train\n",
      "6 | optimizer     | RMSprop          | 0      | train\n",
      "-----------------------------------------------------------\n",
      "19.7 K    Trainable params\n",
      "0         Non-trainable params\n",
      "19.7 K    Total params\n",
      "0.079     Total estimated model params size (MB)\n",
      "30        Modules in train mode\n",
      "1         Modules in eval mode\n",
      "C:\\Users\\Nils\\AppData\\Local\\Packages\\PythonSoftwareFoundation.Python.3.12_qbz5n2kfra8p0\\LocalCache\\local-packages\\Python312\\site-packages\\lightning\\pytorch\\trainer\\connectors\\data_connector.py:425: The 'train_dataloader' does not have many workers which may be a bottleneck. Consider increasing the value of the `num_workers` argument` to `num_workers=11` in the `DataLoader` to improve performance.\n"
     ]
    },
    {
     "name": "stdout",
     "output_type": "stream",
     "text": [
      "Epoch 0: 100%|██████████| 50/50 [00:00<00:00, 68.55it/s, v_num=100]\n",
      "    Accuracy: 0.2500  =>  Error: 0.7500\n",
      "  Repeat 7/8\n"
     ]
    },
    {
     "name": "stderr",
     "output_type": "stream",
     "text": [
      "C:\\Users\\Nils\\AppData\\Local\\Packages\\PythonSoftwareFoundation.Python.3.12_qbz5n2kfra8p0\\LocalCache\\local-packages\\Python312\\site-packages\\lightning\\pytorch\\trainer\\configuration_validator.py:70: You defined a `validation_step` but have no `val_dataloader`. Skipping val loop.\n",
      "\n",
      "  | Name          | Type             | Params | Mode \n",
      "-----------------------------------------------------------\n",
      "0 | loss          | CrossEntropyLoss | 0      | eval \n",
      "1 | train_metrics | MetricCollection | 0      | train\n",
      "2 | val_metrics   | MetricCollection | 0      | train\n",
      "3 | test_metrics  | MetricCollection | 0      | train\n",
      "4 | model         | Sequential       | 19.7 K | train\n",
      "5 | loss_fn       | NLLLoss          | 0      | train\n",
      "6 | optimizer     | RMSprop          | 0      | train\n",
      "-----------------------------------------------------------\n",
      "19.7 K    Trainable params\n",
      "0         Non-trainable params\n",
      "19.7 K    Total params\n",
      "0.079     Total estimated model params size (MB)\n",
      "30        Modules in train mode\n",
      "1         Modules in eval mode\n",
      "C:\\Users\\Nils\\AppData\\Local\\Packages\\PythonSoftwareFoundation.Python.3.12_qbz5n2kfra8p0\\LocalCache\\local-packages\\Python312\\site-packages\\lightning\\pytorch\\trainer\\connectors\\data_connector.py:425: The 'train_dataloader' does not have many workers which may be a bottleneck. Consider increasing the value of the `num_workers` argument` to `num_workers=11` in the `DataLoader` to improve performance.\n"
     ]
    },
    {
     "name": "stdout",
     "output_type": "stream",
     "text": [
      "Epoch 0: 100%|██████████| 50/50 [00:00<00:00, 67.93it/s, v_num=101]\n",
      "    Accuracy: 0.2100  =>  Error: 0.7900\n",
      "  Repeat 8/8\n"
     ]
    },
    {
     "name": "stderr",
     "output_type": "stream",
     "text": [
      "C:\\Users\\Nils\\AppData\\Local\\Packages\\PythonSoftwareFoundation.Python.3.12_qbz5n2kfra8p0\\LocalCache\\local-packages\\Python312\\site-packages\\lightning\\pytorch\\trainer\\configuration_validator.py:70: You defined a `validation_step` but have no `val_dataloader`. Skipping val loop.\n",
      "\n",
      "  | Name          | Type             | Params | Mode \n",
      "-----------------------------------------------------------\n",
      "0 | loss          | CrossEntropyLoss | 0      | eval \n",
      "1 | train_metrics | MetricCollection | 0      | train\n",
      "2 | val_metrics   | MetricCollection | 0      | train\n",
      "3 | test_metrics  | MetricCollection | 0      | train\n",
      "4 | model         | Sequential       | 19.7 K | train\n",
      "5 | loss_fn       | NLLLoss          | 0      | train\n",
      "6 | optimizer     | RMSprop          | 0      | train\n",
      "-----------------------------------------------------------\n",
      "19.7 K    Trainable params\n",
      "0         Non-trainable params\n",
      "19.7 K    Total params\n",
      "0.079     Total estimated model params size (MB)\n",
      "30        Modules in train mode\n",
      "1         Modules in eval mode\n",
      "C:\\Users\\Nils\\AppData\\Local\\Packages\\PythonSoftwareFoundation.Python.3.12_qbz5n2kfra8p0\\LocalCache\\local-packages\\Python312\\site-packages\\lightning\\pytorch\\trainer\\connectors\\data_connector.py:425: The 'train_dataloader' does not have many workers which may be a bottleneck. Consider increasing the value of the `num_workers` argument` to `num_workers=11` in the `DataLoader` to improve performance.\n"
     ]
    },
    {
     "name": "stdout",
     "output_type": "stream",
     "text": [
      "Epoch 0: 100%|██████████| 50/50 [00:00<00:00, 75.28it/s, v_num=102]\n",
      "    Accuracy: 0.1575  =>  Error: 0.8425\n",
      "Testing epochs = 3\n",
      "  Repeat 1/8\n"
     ]
    },
    {
     "name": "stderr",
     "output_type": "stream",
     "text": [
      "C:\\Users\\Nils\\AppData\\Local\\Packages\\PythonSoftwareFoundation.Python.3.12_qbz5n2kfra8p0\\LocalCache\\local-packages\\Python312\\site-packages\\lightning\\pytorch\\trainer\\configuration_validator.py:70: You defined a `validation_step` but have no `val_dataloader`. Skipping val loop.\n",
      "\n",
      "  | Name          | Type             | Params | Mode \n",
      "-----------------------------------------------------------\n",
      "0 | loss          | CrossEntropyLoss | 0      | eval \n",
      "1 | train_metrics | MetricCollection | 0      | train\n",
      "2 | val_metrics   | MetricCollection | 0      | train\n",
      "3 | test_metrics  | MetricCollection | 0      | train\n",
      "4 | model         | Sequential       | 19.7 K | train\n",
      "5 | loss_fn       | NLLLoss          | 0      | train\n",
      "6 | optimizer     | RMSprop          | 0      | train\n",
      "-----------------------------------------------------------\n",
      "19.7 K    Trainable params\n",
      "0         Non-trainable params\n",
      "19.7 K    Total params\n",
      "0.079     Total estimated model params size (MB)\n",
      "30        Modules in train mode\n",
      "1         Modules in eval mode\n",
      "C:\\Users\\Nils\\AppData\\Local\\Packages\\PythonSoftwareFoundation.Python.3.12_qbz5n2kfra8p0\\LocalCache\\local-packages\\Python312\\site-packages\\lightning\\pytorch\\trainer\\connectors\\data_connector.py:425: The 'train_dataloader' does not have many workers which may be a bottleneck. Consider increasing the value of the `num_workers` argument` to `num_workers=11` in the `DataLoader` to improve performance.\n"
     ]
    },
    {
     "name": "stdout",
     "output_type": "stream",
     "text": [
      "Epoch 2: 100%|██████████| 50/50 [00:00<00:00, 68.67it/s, v_num=103]\n",
      "    Accuracy: 0.2825  =>  Error: 0.7175\n",
      "  Repeat 2/8\n"
     ]
    },
    {
     "name": "stderr",
     "output_type": "stream",
     "text": [
      "C:\\Users\\Nils\\AppData\\Local\\Packages\\PythonSoftwareFoundation.Python.3.12_qbz5n2kfra8p0\\LocalCache\\local-packages\\Python312\\site-packages\\lightning\\pytorch\\trainer\\configuration_validator.py:70: You defined a `validation_step` but have no `val_dataloader`. Skipping val loop.\n",
      "\n",
      "  | Name          | Type             | Params | Mode \n",
      "-----------------------------------------------------------\n",
      "0 | loss          | CrossEntropyLoss | 0      | eval \n",
      "1 | train_metrics | MetricCollection | 0      | train\n",
      "2 | val_metrics   | MetricCollection | 0      | train\n",
      "3 | test_metrics  | MetricCollection | 0      | train\n",
      "4 | model         | Sequential       | 19.7 K | train\n",
      "5 | loss_fn       | NLLLoss          | 0      | train\n",
      "6 | optimizer     | RMSprop          | 0      | train\n",
      "-----------------------------------------------------------\n",
      "19.7 K    Trainable params\n",
      "0         Non-trainable params\n",
      "19.7 K    Total params\n",
      "0.079     Total estimated model params size (MB)\n",
      "30        Modules in train mode\n",
      "1         Modules in eval mode\n",
      "C:\\Users\\Nils\\AppData\\Local\\Packages\\PythonSoftwareFoundation.Python.3.12_qbz5n2kfra8p0\\LocalCache\\local-packages\\Python312\\site-packages\\lightning\\pytorch\\trainer\\connectors\\data_connector.py:425: The 'train_dataloader' does not have many workers which may be a bottleneck. Consider increasing the value of the `num_workers` argument` to `num_workers=11` in the `DataLoader` to improve performance.\n"
     ]
    },
    {
     "name": "stdout",
     "output_type": "stream",
     "text": [
      "Epoch 2: 100%|██████████| 50/50 [00:00<00:00, 67.44it/s, v_num=104]\n",
      "    Accuracy: 0.1650  =>  Error: 0.8350\n",
      "  Repeat 3/8\n"
     ]
    },
    {
     "name": "stderr",
     "output_type": "stream",
     "text": [
      "C:\\Users\\Nils\\AppData\\Local\\Packages\\PythonSoftwareFoundation.Python.3.12_qbz5n2kfra8p0\\LocalCache\\local-packages\\Python312\\site-packages\\lightning\\pytorch\\trainer\\configuration_validator.py:70: You defined a `validation_step` but have no `val_dataloader`. Skipping val loop.\n",
      "\n",
      "  | Name          | Type             | Params | Mode \n",
      "-----------------------------------------------------------\n",
      "0 | loss          | CrossEntropyLoss | 0      | eval \n",
      "1 | train_metrics | MetricCollection | 0      | train\n",
      "2 | val_metrics   | MetricCollection | 0      | train\n",
      "3 | test_metrics  | MetricCollection | 0      | train\n",
      "4 | model         | Sequential       | 19.7 K | train\n",
      "5 | loss_fn       | NLLLoss          | 0      | train\n",
      "6 | optimizer     | RMSprop          | 0      | train\n",
      "-----------------------------------------------------------\n",
      "19.7 K    Trainable params\n",
      "0         Non-trainable params\n",
      "19.7 K    Total params\n",
      "0.079     Total estimated model params size (MB)\n",
      "30        Modules in train mode\n",
      "1         Modules in eval mode\n",
      "C:\\Users\\Nils\\AppData\\Local\\Packages\\PythonSoftwareFoundation.Python.3.12_qbz5n2kfra8p0\\LocalCache\\local-packages\\Python312\\site-packages\\lightning\\pytorch\\trainer\\connectors\\data_connector.py:425: The 'train_dataloader' does not have many workers which may be a bottleneck. Consider increasing the value of the `num_workers` argument` to `num_workers=11` in the `DataLoader` to improve performance.\n"
     ]
    },
    {
     "name": "stdout",
     "output_type": "stream",
     "text": [
      "Epoch 2: 100%|██████████| 50/50 [00:00<00:00, 73.72it/s, v_num=105]\n",
      "    Accuracy: 0.1775  =>  Error: 0.8225\n",
      "  Repeat 4/8\n"
     ]
    },
    {
     "name": "stderr",
     "output_type": "stream",
     "text": [
      "C:\\Users\\Nils\\AppData\\Local\\Packages\\PythonSoftwareFoundation.Python.3.12_qbz5n2kfra8p0\\LocalCache\\local-packages\\Python312\\site-packages\\lightning\\pytorch\\trainer\\configuration_validator.py:70: You defined a `validation_step` but have no `val_dataloader`. Skipping val loop.\n",
      "\n",
      "  | Name          | Type             | Params | Mode \n",
      "-----------------------------------------------------------\n",
      "0 | loss          | CrossEntropyLoss | 0      | eval \n",
      "1 | train_metrics | MetricCollection | 0      | train\n",
      "2 | val_metrics   | MetricCollection | 0      | train\n",
      "3 | test_metrics  | MetricCollection | 0      | train\n",
      "4 | model         | Sequential       | 19.7 K | train\n",
      "5 | loss_fn       | NLLLoss          | 0      | train\n",
      "6 | optimizer     | RMSprop          | 0      | train\n",
      "-----------------------------------------------------------\n",
      "19.7 K    Trainable params\n",
      "0         Non-trainable params\n",
      "19.7 K    Total params\n",
      "0.079     Total estimated model params size (MB)\n",
      "30        Modules in train mode\n",
      "1         Modules in eval mode\n",
      "C:\\Users\\Nils\\AppData\\Local\\Packages\\PythonSoftwareFoundation.Python.3.12_qbz5n2kfra8p0\\LocalCache\\local-packages\\Python312\\site-packages\\lightning\\pytorch\\trainer\\connectors\\data_connector.py:425: The 'train_dataloader' does not have many workers which may be a bottleneck. Consider increasing the value of the `num_workers` argument` to `num_workers=11` in the `DataLoader` to improve performance.\n"
     ]
    },
    {
     "name": "stdout",
     "output_type": "stream",
     "text": [
      "Epoch 2: 100%|██████████| 50/50 [00:00<00:00, 69.15it/s, v_num=106]\n",
      "    Accuracy: 0.2775  =>  Error: 0.7225\n",
      "  Repeat 5/8\n"
     ]
    },
    {
     "name": "stderr",
     "output_type": "stream",
     "text": [
      "C:\\Users\\Nils\\AppData\\Local\\Packages\\PythonSoftwareFoundation.Python.3.12_qbz5n2kfra8p0\\LocalCache\\local-packages\\Python312\\site-packages\\lightning\\pytorch\\trainer\\configuration_validator.py:70: You defined a `validation_step` but have no `val_dataloader`. Skipping val loop.\n",
      "\n",
      "  | Name          | Type             | Params | Mode \n",
      "-----------------------------------------------------------\n",
      "0 | loss          | CrossEntropyLoss | 0      | eval \n",
      "1 | train_metrics | MetricCollection | 0      | train\n",
      "2 | val_metrics   | MetricCollection | 0      | train\n",
      "3 | test_metrics  | MetricCollection | 0      | train\n",
      "4 | model         | Sequential       | 19.7 K | train\n",
      "5 | loss_fn       | NLLLoss          | 0      | train\n",
      "6 | optimizer     | RMSprop          | 0      | train\n",
      "-----------------------------------------------------------\n",
      "19.7 K    Trainable params\n",
      "0         Non-trainable params\n",
      "19.7 K    Total params\n",
      "0.079     Total estimated model params size (MB)\n",
      "30        Modules in train mode\n",
      "1         Modules in eval mode\n",
      "C:\\Users\\Nils\\AppData\\Local\\Packages\\PythonSoftwareFoundation.Python.3.12_qbz5n2kfra8p0\\LocalCache\\local-packages\\Python312\\site-packages\\lightning\\pytorch\\trainer\\connectors\\data_connector.py:425: The 'train_dataloader' does not have many workers which may be a bottleneck. Consider increasing the value of the `num_workers` argument` to `num_workers=11` in the `DataLoader` to improve performance.\n"
     ]
    },
    {
     "name": "stdout",
     "output_type": "stream",
     "text": [
      "Epoch 2: 100%|██████████| 50/50 [00:00<00:00, 71.01it/s, v_num=107]\n",
      "    Accuracy: 0.1900  =>  Error: 0.8100\n",
      "  Repeat 6/8\n"
     ]
    },
    {
     "name": "stderr",
     "output_type": "stream",
     "text": [
      "C:\\Users\\Nils\\AppData\\Local\\Packages\\PythonSoftwareFoundation.Python.3.12_qbz5n2kfra8p0\\LocalCache\\local-packages\\Python312\\site-packages\\lightning\\pytorch\\trainer\\configuration_validator.py:70: You defined a `validation_step` but have no `val_dataloader`. Skipping val loop.\n",
      "\n",
      "  | Name          | Type             | Params | Mode \n",
      "-----------------------------------------------------------\n",
      "0 | loss          | CrossEntropyLoss | 0      | eval \n",
      "1 | train_metrics | MetricCollection | 0      | train\n",
      "2 | val_metrics   | MetricCollection | 0      | train\n",
      "3 | test_metrics  | MetricCollection | 0      | train\n",
      "4 | model         | Sequential       | 19.7 K | train\n",
      "5 | loss_fn       | NLLLoss          | 0      | train\n",
      "6 | optimizer     | RMSprop          | 0      | train\n",
      "-----------------------------------------------------------\n",
      "19.7 K    Trainable params\n",
      "0         Non-trainable params\n",
      "19.7 K    Total params\n",
      "0.079     Total estimated model params size (MB)\n",
      "30        Modules in train mode\n",
      "1         Modules in eval mode\n",
      "C:\\Users\\Nils\\AppData\\Local\\Packages\\PythonSoftwareFoundation.Python.3.12_qbz5n2kfra8p0\\LocalCache\\local-packages\\Python312\\site-packages\\lightning\\pytorch\\trainer\\connectors\\data_connector.py:425: The 'train_dataloader' does not have many workers which may be a bottleneck. Consider increasing the value of the `num_workers` argument` to `num_workers=11` in the `DataLoader` to improve performance.\n"
     ]
    },
    {
     "name": "stdout",
     "output_type": "stream",
     "text": [
      "Epoch 2: 100%|██████████| 50/50 [00:00<00:00, 67.02it/s, v_num=108]\n",
      "    Accuracy: 0.2975  =>  Error: 0.7025\n",
      "  Repeat 7/8\n"
     ]
    },
    {
     "name": "stderr",
     "output_type": "stream",
     "text": [
      "C:\\Users\\Nils\\AppData\\Local\\Packages\\PythonSoftwareFoundation.Python.3.12_qbz5n2kfra8p0\\LocalCache\\local-packages\\Python312\\site-packages\\lightning\\pytorch\\trainer\\configuration_validator.py:70: You defined a `validation_step` but have no `val_dataloader`. Skipping val loop.\n",
      "\n",
      "  | Name          | Type             | Params | Mode \n",
      "-----------------------------------------------------------\n",
      "0 | loss          | CrossEntropyLoss | 0      | eval \n",
      "1 | train_metrics | MetricCollection | 0      | train\n",
      "2 | val_metrics   | MetricCollection | 0      | train\n",
      "3 | test_metrics  | MetricCollection | 0      | train\n",
      "4 | model         | Sequential       | 19.7 K | train\n",
      "5 | loss_fn       | NLLLoss          | 0      | train\n",
      "6 | optimizer     | RMSprop          | 0      | train\n",
      "-----------------------------------------------------------\n",
      "19.7 K    Trainable params\n",
      "0         Non-trainable params\n",
      "19.7 K    Total params\n",
      "0.079     Total estimated model params size (MB)\n",
      "30        Modules in train mode\n",
      "1         Modules in eval mode\n",
      "C:\\Users\\Nils\\AppData\\Local\\Packages\\PythonSoftwareFoundation.Python.3.12_qbz5n2kfra8p0\\LocalCache\\local-packages\\Python312\\site-packages\\lightning\\pytorch\\trainer\\connectors\\data_connector.py:425: The 'train_dataloader' does not have many workers which may be a bottleneck. Consider increasing the value of the `num_workers` argument` to `num_workers=11` in the `DataLoader` to improve performance.\n"
     ]
    },
    {
     "name": "stdout",
     "output_type": "stream",
     "text": [
      "Epoch 2: 100%|██████████| 50/50 [00:00<00:00, 70.33it/s, v_num=109]\n",
      "    Accuracy: 0.1500  =>  Error: 0.8500\n",
      "  Repeat 8/8\n"
     ]
    },
    {
     "name": "stderr",
     "output_type": "stream",
     "text": [
      "C:\\Users\\Nils\\AppData\\Local\\Packages\\PythonSoftwareFoundation.Python.3.12_qbz5n2kfra8p0\\LocalCache\\local-packages\\Python312\\site-packages\\lightning\\pytorch\\trainer\\configuration_validator.py:70: You defined a `validation_step` but have no `val_dataloader`. Skipping val loop.\n",
      "\n",
      "  | Name          | Type             | Params | Mode \n",
      "-----------------------------------------------------------\n",
      "0 | loss          | CrossEntropyLoss | 0      | eval \n",
      "1 | train_metrics | MetricCollection | 0      | train\n",
      "2 | val_metrics   | MetricCollection | 0      | train\n",
      "3 | test_metrics  | MetricCollection | 0      | train\n",
      "4 | model         | Sequential       | 19.7 K | train\n",
      "5 | loss_fn       | NLLLoss          | 0      | train\n",
      "6 | optimizer     | RMSprop          | 0      | train\n",
      "-----------------------------------------------------------\n",
      "19.7 K    Trainable params\n",
      "0         Non-trainable params\n",
      "19.7 K    Total params\n",
      "0.079     Total estimated model params size (MB)\n",
      "30        Modules in train mode\n",
      "1         Modules in eval mode\n",
      "C:\\Users\\Nils\\AppData\\Local\\Packages\\PythonSoftwareFoundation.Python.3.12_qbz5n2kfra8p0\\LocalCache\\local-packages\\Python312\\site-packages\\lightning\\pytorch\\trainer\\connectors\\data_connector.py:425: The 'train_dataloader' does not have many workers which may be a bottleneck. Consider increasing the value of the `num_workers` argument` to `num_workers=11` in the `DataLoader` to improve performance.\n"
     ]
    },
    {
     "name": "stdout",
     "output_type": "stream",
     "text": [
      "Epoch 2: 100%|██████████| 50/50 [00:00<00:00, 63.86it/s, v_num=110]\n",
      "    Accuracy: 0.1575  =>  Error: 0.8425\n",
      "Testing epochs = 5\n",
      "  Repeat 1/8\n"
     ]
    },
    {
     "name": "stderr",
     "output_type": "stream",
     "text": [
      "C:\\Users\\Nils\\AppData\\Local\\Packages\\PythonSoftwareFoundation.Python.3.12_qbz5n2kfra8p0\\LocalCache\\local-packages\\Python312\\site-packages\\lightning\\pytorch\\trainer\\configuration_validator.py:70: You defined a `validation_step` but have no `val_dataloader`. Skipping val loop.\n",
      "\n",
      "  | Name          | Type             | Params | Mode \n",
      "-----------------------------------------------------------\n",
      "0 | loss          | CrossEntropyLoss | 0      | eval \n",
      "1 | train_metrics | MetricCollection | 0      | train\n",
      "2 | val_metrics   | MetricCollection | 0      | train\n",
      "3 | test_metrics  | MetricCollection | 0      | train\n",
      "4 | model         | Sequential       | 19.7 K | train\n",
      "5 | loss_fn       | NLLLoss          | 0      | train\n",
      "6 | optimizer     | RMSprop          | 0      | train\n",
      "-----------------------------------------------------------\n",
      "19.7 K    Trainable params\n",
      "0         Non-trainable params\n",
      "19.7 K    Total params\n",
      "0.079     Total estimated model params size (MB)\n",
      "30        Modules in train mode\n",
      "1         Modules in eval mode\n",
      "C:\\Users\\Nils\\AppData\\Local\\Packages\\PythonSoftwareFoundation.Python.3.12_qbz5n2kfra8p0\\LocalCache\\local-packages\\Python312\\site-packages\\lightning\\pytorch\\trainer\\connectors\\data_connector.py:425: The 'train_dataloader' does not have many workers which may be a bottleneck. Consider increasing the value of the `num_workers` argument` to `num_workers=11` in the `DataLoader` to improve performance.\n"
     ]
    },
    {
     "name": "stdout",
     "output_type": "stream",
     "text": [
      "Epoch 4: 100%|██████████| 50/50 [00:00<00:00, 73.19it/s, v_num=111]\n",
      "    Accuracy: 0.4950  =>  Error: 0.5050\n",
      "  Repeat 2/8\n"
     ]
    },
    {
     "name": "stderr",
     "output_type": "stream",
     "text": [
      "C:\\Users\\Nils\\AppData\\Local\\Packages\\PythonSoftwareFoundation.Python.3.12_qbz5n2kfra8p0\\LocalCache\\local-packages\\Python312\\site-packages\\lightning\\pytorch\\trainer\\configuration_validator.py:70: You defined a `validation_step` but have no `val_dataloader`. Skipping val loop.\n",
      "\n",
      "  | Name          | Type             | Params | Mode \n",
      "-----------------------------------------------------------\n",
      "0 | loss          | CrossEntropyLoss | 0      | eval \n",
      "1 | train_metrics | MetricCollection | 0      | train\n",
      "2 | val_metrics   | MetricCollection | 0      | train\n",
      "3 | test_metrics  | MetricCollection | 0      | train\n",
      "4 | model         | Sequential       | 19.7 K | train\n",
      "5 | loss_fn       | NLLLoss          | 0      | train\n",
      "6 | optimizer     | RMSprop          | 0      | train\n",
      "-----------------------------------------------------------\n",
      "19.7 K    Trainable params\n",
      "0         Non-trainable params\n",
      "19.7 K    Total params\n",
      "0.079     Total estimated model params size (MB)\n",
      "30        Modules in train mode\n",
      "1         Modules in eval mode\n",
      "C:\\Users\\Nils\\AppData\\Local\\Packages\\PythonSoftwareFoundation.Python.3.12_qbz5n2kfra8p0\\LocalCache\\local-packages\\Python312\\site-packages\\lightning\\pytorch\\trainer\\connectors\\data_connector.py:425: The 'train_dataloader' does not have many workers which may be a bottleneck. Consider increasing the value of the `num_workers` argument` to `num_workers=11` in the `DataLoader` to improve performance.\n"
     ]
    },
    {
     "name": "stdout",
     "output_type": "stream",
     "text": [
      "Epoch 4: 100%|██████████| 50/50 [00:00<00:00, 64.52it/s, v_num=112]\n",
      "    Accuracy: 0.2950  =>  Error: 0.7050\n",
      "  Repeat 3/8\n"
     ]
    },
    {
     "name": "stderr",
     "output_type": "stream",
     "text": [
      "C:\\Users\\Nils\\AppData\\Local\\Packages\\PythonSoftwareFoundation.Python.3.12_qbz5n2kfra8p0\\LocalCache\\local-packages\\Python312\\site-packages\\lightning\\pytorch\\trainer\\configuration_validator.py:70: You defined a `validation_step` but have no `val_dataloader`. Skipping val loop.\n",
      "\n",
      "  | Name          | Type             | Params | Mode \n",
      "-----------------------------------------------------------\n",
      "0 | loss          | CrossEntropyLoss | 0      | eval \n",
      "1 | train_metrics | MetricCollection | 0      | train\n",
      "2 | val_metrics   | MetricCollection | 0      | train\n",
      "3 | test_metrics  | MetricCollection | 0      | train\n",
      "4 | model         | Sequential       | 19.7 K | train\n",
      "5 | loss_fn       | NLLLoss          | 0      | train\n",
      "6 | optimizer     | RMSprop          | 0      | train\n",
      "-----------------------------------------------------------\n",
      "19.7 K    Trainable params\n",
      "0         Non-trainable params\n",
      "19.7 K    Total params\n",
      "0.079     Total estimated model params size (MB)\n",
      "30        Modules in train mode\n",
      "1         Modules in eval mode\n",
      "C:\\Users\\Nils\\AppData\\Local\\Packages\\PythonSoftwareFoundation.Python.3.12_qbz5n2kfra8p0\\LocalCache\\local-packages\\Python312\\site-packages\\lightning\\pytorch\\trainer\\connectors\\data_connector.py:425: The 'train_dataloader' does not have many workers which may be a bottleneck. Consider increasing the value of the `num_workers` argument` to `num_workers=11` in the `DataLoader` to improve performance.\n"
     ]
    },
    {
     "name": "stdout",
     "output_type": "stream",
     "text": [
      "Epoch 4: 100%|██████████| 50/50 [00:00<00:00, 72.55it/s, v_num=113]\n",
      "    Accuracy: 0.1775  =>  Error: 0.8225\n",
      "  Repeat 4/8\n"
     ]
    },
    {
     "name": "stderr",
     "output_type": "stream",
     "text": [
      "C:\\Users\\Nils\\AppData\\Local\\Packages\\PythonSoftwareFoundation.Python.3.12_qbz5n2kfra8p0\\LocalCache\\local-packages\\Python312\\site-packages\\lightning\\pytorch\\trainer\\configuration_validator.py:70: You defined a `validation_step` but have no `val_dataloader`. Skipping val loop.\n",
      "\n",
      "  | Name          | Type             | Params | Mode \n",
      "-----------------------------------------------------------\n",
      "0 | loss          | CrossEntropyLoss | 0      | eval \n",
      "1 | train_metrics | MetricCollection | 0      | train\n",
      "2 | val_metrics   | MetricCollection | 0      | train\n",
      "3 | test_metrics  | MetricCollection | 0      | train\n",
      "4 | model         | Sequential       | 19.7 K | train\n",
      "5 | loss_fn       | NLLLoss          | 0      | train\n",
      "6 | optimizer     | RMSprop          | 0      | train\n",
      "-----------------------------------------------------------\n",
      "19.7 K    Trainable params\n",
      "0         Non-trainable params\n",
      "19.7 K    Total params\n",
      "0.079     Total estimated model params size (MB)\n",
      "30        Modules in train mode\n",
      "1         Modules in eval mode\n",
      "C:\\Users\\Nils\\AppData\\Local\\Packages\\PythonSoftwareFoundation.Python.3.12_qbz5n2kfra8p0\\LocalCache\\local-packages\\Python312\\site-packages\\lightning\\pytorch\\trainer\\connectors\\data_connector.py:425: The 'train_dataloader' does not have many workers which may be a bottleneck. Consider increasing the value of the `num_workers` argument` to `num_workers=11` in the `DataLoader` to improve performance.\n"
     ]
    },
    {
     "name": "stdout",
     "output_type": "stream",
     "text": [
      "Epoch 4: 100%|██████████| 50/50 [00:00<00:00, 61.67it/s, v_num=114]\n",
      "    Accuracy: 0.1650  =>  Error: 0.8350\n",
      "  Repeat 5/8\n"
     ]
    },
    {
     "name": "stderr",
     "output_type": "stream",
     "text": [
      "C:\\Users\\Nils\\AppData\\Local\\Packages\\PythonSoftwareFoundation.Python.3.12_qbz5n2kfra8p0\\LocalCache\\local-packages\\Python312\\site-packages\\lightning\\pytorch\\trainer\\configuration_validator.py:70: You defined a `validation_step` but have no `val_dataloader`. Skipping val loop.\n",
      "\n",
      "  | Name          | Type             | Params | Mode \n",
      "-----------------------------------------------------------\n",
      "0 | loss          | CrossEntropyLoss | 0      | eval \n",
      "1 | train_metrics | MetricCollection | 0      | train\n",
      "2 | val_metrics   | MetricCollection | 0      | train\n",
      "3 | test_metrics  | MetricCollection | 0      | train\n",
      "4 | model         | Sequential       | 19.7 K | train\n",
      "5 | loss_fn       | NLLLoss          | 0      | train\n",
      "6 | optimizer     | RMSprop          | 0      | train\n",
      "-----------------------------------------------------------\n",
      "19.7 K    Trainable params\n",
      "0         Non-trainable params\n",
      "19.7 K    Total params\n",
      "0.079     Total estimated model params size (MB)\n",
      "30        Modules in train mode\n",
      "1         Modules in eval mode\n",
      "C:\\Users\\Nils\\AppData\\Local\\Packages\\PythonSoftwareFoundation.Python.3.12_qbz5n2kfra8p0\\LocalCache\\local-packages\\Python312\\site-packages\\lightning\\pytorch\\trainer\\connectors\\data_connector.py:425: The 'train_dataloader' does not have many workers which may be a bottleneck. Consider increasing the value of the `num_workers` argument` to `num_workers=11` in the `DataLoader` to improve performance.\n"
     ]
    },
    {
     "name": "stdout",
     "output_type": "stream",
     "text": [
      "Epoch 4: 100%|██████████| 50/50 [00:00<00:00, 71.42it/s, v_num=115]\n",
      "    Accuracy: 0.1750  =>  Error: 0.8250\n",
      "  Repeat 6/8\n"
     ]
    },
    {
     "name": "stderr",
     "output_type": "stream",
     "text": [
      "C:\\Users\\Nils\\AppData\\Local\\Packages\\PythonSoftwareFoundation.Python.3.12_qbz5n2kfra8p0\\LocalCache\\local-packages\\Python312\\site-packages\\lightning\\pytorch\\trainer\\configuration_validator.py:70: You defined a `validation_step` but have no `val_dataloader`. Skipping val loop.\n",
      "\n",
      "  | Name          | Type             | Params | Mode \n",
      "-----------------------------------------------------------\n",
      "0 | loss          | CrossEntropyLoss | 0      | eval \n",
      "1 | train_metrics | MetricCollection | 0      | train\n",
      "2 | val_metrics   | MetricCollection | 0      | train\n",
      "3 | test_metrics  | MetricCollection | 0      | train\n",
      "4 | model         | Sequential       | 19.7 K | train\n",
      "5 | loss_fn       | NLLLoss          | 0      | train\n",
      "6 | optimizer     | RMSprop          | 0      | train\n",
      "-----------------------------------------------------------\n",
      "19.7 K    Trainable params\n",
      "0         Non-trainable params\n",
      "19.7 K    Total params\n",
      "0.079     Total estimated model params size (MB)\n",
      "30        Modules in train mode\n",
      "1         Modules in eval mode\n",
      "C:\\Users\\Nils\\AppData\\Local\\Packages\\PythonSoftwareFoundation.Python.3.12_qbz5n2kfra8p0\\LocalCache\\local-packages\\Python312\\site-packages\\lightning\\pytorch\\trainer\\connectors\\data_connector.py:425: The 'train_dataloader' does not have many workers which may be a bottleneck. Consider increasing the value of the `num_workers` argument` to `num_workers=11` in the `DataLoader` to improve performance.\n"
     ]
    },
    {
     "name": "stdout",
     "output_type": "stream",
     "text": [
      "Epoch 4: 100%|██████████| 50/50 [00:00<00:00, 71.93it/s, v_num=116]\n",
      "    Accuracy: 0.1800  =>  Error: 0.8200\n",
      "  Repeat 7/8\n"
     ]
    },
    {
     "name": "stderr",
     "output_type": "stream",
     "text": [
      "C:\\Users\\Nils\\AppData\\Local\\Packages\\PythonSoftwareFoundation.Python.3.12_qbz5n2kfra8p0\\LocalCache\\local-packages\\Python312\\site-packages\\lightning\\pytorch\\trainer\\configuration_validator.py:70: You defined a `validation_step` but have no `val_dataloader`. Skipping val loop.\n",
      "\n",
      "  | Name          | Type             | Params | Mode \n",
      "-----------------------------------------------------------\n",
      "0 | loss          | CrossEntropyLoss | 0      | eval \n",
      "1 | train_metrics | MetricCollection | 0      | train\n",
      "2 | val_metrics   | MetricCollection | 0      | train\n",
      "3 | test_metrics  | MetricCollection | 0      | train\n",
      "4 | model         | Sequential       | 19.7 K | train\n",
      "5 | loss_fn       | NLLLoss          | 0      | train\n",
      "6 | optimizer     | RMSprop          | 0      | train\n",
      "-----------------------------------------------------------\n",
      "19.7 K    Trainable params\n",
      "0         Non-trainable params\n",
      "19.7 K    Total params\n",
      "0.079     Total estimated model params size (MB)\n",
      "30        Modules in train mode\n",
      "1         Modules in eval mode\n",
      "C:\\Users\\Nils\\AppData\\Local\\Packages\\PythonSoftwareFoundation.Python.3.12_qbz5n2kfra8p0\\LocalCache\\local-packages\\Python312\\site-packages\\lightning\\pytorch\\trainer\\connectors\\data_connector.py:425: The 'train_dataloader' does not have many workers which may be a bottleneck. Consider increasing the value of the `num_workers` argument` to `num_workers=11` in the `DataLoader` to improve performance.\n"
     ]
    },
    {
     "name": "stdout",
     "output_type": "stream",
     "text": [
      "Epoch 4: 100%|██████████| 50/50 [00:00<00:00, 68.12it/s, v_num=117]\n",
      "    Accuracy: 0.4925  =>  Error: 0.5075\n",
      "  Repeat 8/8\n"
     ]
    },
    {
     "name": "stderr",
     "output_type": "stream",
     "text": [
      "C:\\Users\\Nils\\AppData\\Local\\Packages\\PythonSoftwareFoundation.Python.3.12_qbz5n2kfra8p0\\LocalCache\\local-packages\\Python312\\site-packages\\lightning\\pytorch\\trainer\\configuration_validator.py:70: You defined a `validation_step` but have no `val_dataloader`. Skipping val loop.\n",
      "\n",
      "  | Name          | Type             | Params | Mode \n",
      "-----------------------------------------------------------\n",
      "0 | loss          | CrossEntropyLoss | 0      | eval \n",
      "1 | train_metrics | MetricCollection | 0      | train\n",
      "2 | val_metrics   | MetricCollection | 0      | train\n",
      "3 | test_metrics  | MetricCollection | 0      | train\n",
      "4 | model         | Sequential       | 19.7 K | train\n",
      "5 | loss_fn       | NLLLoss          | 0      | train\n",
      "6 | optimizer     | RMSprop          | 0      | train\n",
      "-----------------------------------------------------------\n",
      "19.7 K    Trainable params\n",
      "0         Non-trainable params\n",
      "19.7 K    Total params\n",
      "0.079     Total estimated model params size (MB)\n",
      "30        Modules in train mode\n",
      "1         Modules in eval mode\n",
      "C:\\Users\\Nils\\AppData\\Local\\Packages\\PythonSoftwareFoundation.Python.3.12_qbz5n2kfra8p0\\LocalCache\\local-packages\\Python312\\site-packages\\lightning\\pytorch\\trainer\\connectors\\data_connector.py:425: The 'train_dataloader' does not have many workers which may be a bottleneck. Consider increasing the value of the `num_workers` argument` to `num_workers=11` in the `DataLoader` to improve performance.\n"
     ]
    },
    {
     "name": "stdout",
     "output_type": "stream",
     "text": [
      "Epoch 4: 100%|██████████| 50/50 [00:00<00:00, 74.27it/s, v_num=118]\n",
      "    Accuracy: 0.1575  =>  Error: 0.8425\n",
      "Testing epochs = 7\n",
      "  Repeat 1/8\n"
     ]
    },
    {
     "name": "stderr",
     "output_type": "stream",
     "text": [
      "C:\\Users\\Nils\\AppData\\Local\\Packages\\PythonSoftwareFoundation.Python.3.12_qbz5n2kfra8p0\\LocalCache\\local-packages\\Python312\\site-packages\\lightning\\pytorch\\trainer\\configuration_validator.py:70: You defined a `validation_step` but have no `val_dataloader`. Skipping val loop.\n",
      "\n",
      "  | Name          | Type             | Params | Mode \n",
      "-----------------------------------------------------------\n",
      "0 | loss          | CrossEntropyLoss | 0      | eval \n",
      "1 | train_metrics | MetricCollection | 0      | train\n",
      "2 | val_metrics   | MetricCollection | 0      | train\n",
      "3 | test_metrics  | MetricCollection | 0      | train\n",
      "4 | model         | Sequential       | 19.7 K | train\n",
      "5 | loss_fn       | NLLLoss          | 0      | train\n",
      "6 | optimizer     | RMSprop          | 0      | train\n",
      "-----------------------------------------------------------\n",
      "19.7 K    Trainable params\n",
      "0         Non-trainable params\n",
      "19.7 K    Total params\n",
      "0.079     Total estimated model params size (MB)\n",
      "30        Modules in train mode\n",
      "1         Modules in eval mode\n",
      "C:\\Users\\Nils\\AppData\\Local\\Packages\\PythonSoftwareFoundation.Python.3.12_qbz5n2kfra8p0\\LocalCache\\local-packages\\Python312\\site-packages\\lightning\\pytorch\\trainer\\connectors\\data_connector.py:425: The 'train_dataloader' does not have many workers which may be a bottleneck. Consider increasing the value of the `num_workers` argument` to `num_workers=11` in the `DataLoader` to improve performance.\n"
     ]
    },
    {
     "name": "stdout",
     "output_type": "stream",
     "text": [
      "Epoch 6: 100%|██████████| 50/50 [00:00<00:00, 60.09it/s, v_num=119]\n",
      "    Accuracy: 0.5250  =>  Error: 0.4750\n",
      "  Repeat 2/8\n"
     ]
    },
    {
     "name": "stderr",
     "output_type": "stream",
     "text": [
      "C:\\Users\\Nils\\AppData\\Local\\Packages\\PythonSoftwareFoundation.Python.3.12_qbz5n2kfra8p0\\LocalCache\\local-packages\\Python312\\site-packages\\lightning\\pytorch\\trainer\\configuration_validator.py:70: You defined a `validation_step` but have no `val_dataloader`. Skipping val loop.\n",
      "\n",
      "  | Name          | Type             | Params | Mode \n",
      "-----------------------------------------------------------\n",
      "0 | loss          | CrossEntropyLoss | 0      | eval \n",
      "1 | train_metrics | MetricCollection | 0      | train\n",
      "2 | val_metrics   | MetricCollection | 0      | train\n",
      "3 | test_metrics  | MetricCollection | 0      | train\n",
      "4 | model         | Sequential       | 19.7 K | train\n",
      "5 | loss_fn       | NLLLoss          | 0      | train\n",
      "6 | optimizer     | RMSprop          | 0      | train\n",
      "-----------------------------------------------------------\n",
      "19.7 K    Trainable params\n",
      "0         Non-trainable params\n",
      "19.7 K    Total params\n",
      "0.079     Total estimated model params size (MB)\n",
      "30        Modules in train mode\n",
      "1         Modules in eval mode\n",
      "C:\\Users\\Nils\\AppData\\Local\\Packages\\PythonSoftwareFoundation.Python.3.12_qbz5n2kfra8p0\\LocalCache\\local-packages\\Python312\\site-packages\\lightning\\pytorch\\trainer\\connectors\\data_connector.py:425: The 'train_dataloader' does not have many workers which may be a bottleneck. Consider increasing the value of the `num_workers` argument` to `num_workers=11` in the `DataLoader` to improve performance.\n"
     ]
    },
    {
     "name": "stdout",
     "output_type": "stream",
     "text": [
      "Epoch 6: 100%|██████████| 50/50 [00:00<00:00, 71.11it/s, v_num=120]\n",
      "    Accuracy: 0.4325  =>  Error: 0.5675\n",
      "  Repeat 3/8\n"
     ]
    },
    {
     "name": "stderr",
     "output_type": "stream",
     "text": [
      "C:\\Users\\Nils\\AppData\\Local\\Packages\\PythonSoftwareFoundation.Python.3.12_qbz5n2kfra8p0\\LocalCache\\local-packages\\Python312\\site-packages\\lightning\\pytorch\\trainer\\configuration_validator.py:70: You defined a `validation_step` but have no `val_dataloader`. Skipping val loop.\n",
      "\n",
      "  | Name          | Type             | Params | Mode \n",
      "-----------------------------------------------------------\n",
      "0 | loss          | CrossEntropyLoss | 0      | eval \n",
      "1 | train_metrics | MetricCollection | 0      | train\n",
      "2 | val_metrics   | MetricCollection | 0      | train\n",
      "3 | test_metrics  | MetricCollection | 0      | train\n",
      "4 | model         | Sequential       | 19.7 K | train\n",
      "5 | loss_fn       | NLLLoss          | 0      | train\n",
      "6 | optimizer     | RMSprop          | 0      | train\n",
      "-----------------------------------------------------------\n",
      "19.7 K    Trainable params\n",
      "0         Non-trainable params\n",
      "19.7 K    Total params\n",
      "0.079     Total estimated model params size (MB)\n",
      "30        Modules in train mode\n",
      "1         Modules in eval mode\n",
      "C:\\Users\\Nils\\AppData\\Local\\Packages\\PythonSoftwareFoundation.Python.3.12_qbz5n2kfra8p0\\LocalCache\\local-packages\\Python312\\site-packages\\lightning\\pytorch\\trainer\\connectors\\data_connector.py:425: The 'train_dataloader' does not have many workers which may be a bottleneck. Consider increasing the value of the `num_workers` argument` to `num_workers=11` in the `DataLoader` to improve performance.\n"
     ]
    },
    {
     "name": "stdout",
     "output_type": "stream",
     "text": [
      "Epoch 6: 100%|██████████| 50/50 [00:00<00:00, 71.31it/s, v_num=121]\n",
      "    Accuracy: 0.6375  =>  Error: 0.3625\n",
      "  Repeat 4/8\n"
     ]
    },
    {
     "name": "stderr",
     "output_type": "stream",
     "text": [
      "C:\\Users\\Nils\\AppData\\Local\\Packages\\PythonSoftwareFoundation.Python.3.12_qbz5n2kfra8p0\\LocalCache\\local-packages\\Python312\\site-packages\\lightning\\pytorch\\trainer\\configuration_validator.py:70: You defined a `validation_step` but have no `val_dataloader`. Skipping val loop.\n",
      "\n",
      "  | Name          | Type             | Params | Mode \n",
      "-----------------------------------------------------------\n",
      "0 | loss          | CrossEntropyLoss | 0      | eval \n",
      "1 | train_metrics | MetricCollection | 0      | train\n",
      "2 | val_metrics   | MetricCollection | 0      | train\n",
      "3 | test_metrics  | MetricCollection | 0      | train\n",
      "4 | model         | Sequential       | 19.7 K | train\n",
      "5 | loss_fn       | NLLLoss          | 0      | train\n",
      "6 | optimizer     | RMSprop          | 0      | train\n",
      "-----------------------------------------------------------\n",
      "19.7 K    Trainable params\n",
      "0         Non-trainable params\n",
      "19.7 K    Total params\n",
      "0.079     Total estimated model params size (MB)\n",
      "30        Modules in train mode\n",
      "1         Modules in eval mode\n",
      "C:\\Users\\Nils\\AppData\\Local\\Packages\\PythonSoftwareFoundation.Python.3.12_qbz5n2kfra8p0\\LocalCache\\local-packages\\Python312\\site-packages\\lightning\\pytorch\\trainer\\connectors\\data_connector.py:425: The 'train_dataloader' does not have many workers which may be a bottleneck. Consider increasing the value of the `num_workers` argument` to `num_workers=11` in the `DataLoader` to improve performance.\n"
     ]
    },
    {
     "name": "stdout",
     "output_type": "stream",
     "text": [
      "Epoch 6: 100%|██████████| 50/50 [00:00<00:00, 71.42it/s, v_num=122]\n",
      "    Accuracy: 0.2175  =>  Error: 0.7825\n",
      "  Repeat 5/8\n"
     ]
    },
    {
     "name": "stderr",
     "output_type": "stream",
     "text": [
      "C:\\Users\\Nils\\AppData\\Local\\Packages\\PythonSoftwareFoundation.Python.3.12_qbz5n2kfra8p0\\LocalCache\\local-packages\\Python312\\site-packages\\lightning\\pytorch\\trainer\\configuration_validator.py:70: You defined a `validation_step` but have no `val_dataloader`. Skipping val loop.\n",
      "\n",
      "  | Name          | Type             | Params | Mode \n",
      "-----------------------------------------------------------\n",
      "0 | loss          | CrossEntropyLoss | 0      | eval \n",
      "1 | train_metrics | MetricCollection | 0      | train\n",
      "2 | val_metrics   | MetricCollection | 0      | train\n",
      "3 | test_metrics  | MetricCollection | 0      | train\n",
      "4 | model         | Sequential       | 19.7 K | train\n",
      "5 | loss_fn       | NLLLoss          | 0      | train\n",
      "6 | optimizer     | RMSprop          | 0      | train\n",
      "-----------------------------------------------------------\n",
      "19.7 K    Trainable params\n",
      "0         Non-trainable params\n",
      "19.7 K    Total params\n",
      "0.079     Total estimated model params size (MB)\n",
      "30        Modules in train mode\n",
      "1         Modules in eval mode\n",
      "C:\\Users\\Nils\\AppData\\Local\\Packages\\PythonSoftwareFoundation.Python.3.12_qbz5n2kfra8p0\\LocalCache\\local-packages\\Python312\\site-packages\\lightning\\pytorch\\trainer\\connectors\\data_connector.py:425: The 'train_dataloader' does not have many workers which may be a bottleneck. Consider increasing the value of the `num_workers` argument` to `num_workers=11` in the `DataLoader` to improve performance.\n"
     ]
    },
    {
     "name": "stdout",
     "output_type": "stream",
     "text": [
      "Epoch 6: 100%|██████████| 50/50 [00:00<00:00, 62.12it/s, v_num=123]\n",
      "    Accuracy: 0.4550  =>  Error: 0.5450\n",
      "  Repeat 6/8\n"
     ]
    },
    {
     "name": "stderr",
     "output_type": "stream",
     "text": [
      "C:\\Users\\Nils\\AppData\\Local\\Packages\\PythonSoftwareFoundation.Python.3.12_qbz5n2kfra8p0\\LocalCache\\local-packages\\Python312\\site-packages\\lightning\\pytorch\\trainer\\configuration_validator.py:70: You defined a `validation_step` but have no `val_dataloader`. Skipping val loop.\n",
      "\n",
      "  | Name          | Type             | Params | Mode \n",
      "-----------------------------------------------------------\n",
      "0 | loss          | CrossEntropyLoss | 0      | eval \n",
      "1 | train_metrics | MetricCollection | 0      | train\n",
      "2 | val_metrics   | MetricCollection | 0      | train\n",
      "3 | test_metrics  | MetricCollection | 0      | train\n",
      "4 | model         | Sequential       | 19.7 K | train\n",
      "5 | loss_fn       | NLLLoss          | 0      | train\n",
      "6 | optimizer     | RMSprop          | 0      | train\n",
      "-----------------------------------------------------------\n",
      "19.7 K    Trainable params\n",
      "0         Non-trainable params\n",
      "19.7 K    Total params\n",
      "0.079     Total estimated model params size (MB)\n",
      "30        Modules in train mode\n",
      "1         Modules in eval mode\n",
      "C:\\Users\\Nils\\AppData\\Local\\Packages\\PythonSoftwareFoundation.Python.3.12_qbz5n2kfra8p0\\LocalCache\\local-packages\\Python312\\site-packages\\lightning\\pytorch\\trainer\\connectors\\data_connector.py:425: The 'train_dataloader' does not have many workers which may be a bottleneck. Consider increasing the value of the `num_workers` argument` to `num_workers=11` in the `DataLoader` to improve performance.\n"
     ]
    },
    {
     "name": "stdout",
     "output_type": "stream",
     "text": [
      "Epoch 6: 100%|██████████| 50/50 [00:00<00:00, 63.77it/s, v_num=124]\n",
      "    Accuracy: 0.5900  =>  Error: 0.4100\n",
      "  Repeat 7/8\n"
     ]
    },
    {
     "name": "stderr",
     "output_type": "stream",
     "text": [
      "C:\\Users\\Nils\\AppData\\Local\\Packages\\PythonSoftwareFoundation.Python.3.12_qbz5n2kfra8p0\\LocalCache\\local-packages\\Python312\\site-packages\\lightning\\pytorch\\trainer\\configuration_validator.py:70: You defined a `validation_step` but have no `val_dataloader`. Skipping val loop.\n",
      "\n",
      "  | Name          | Type             | Params | Mode \n",
      "-----------------------------------------------------------\n",
      "0 | loss          | CrossEntropyLoss | 0      | eval \n",
      "1 | train_metrics | MetricCollection | 0      | train\n",
      "2 | val_metrics   | MetricCollection | 0      | train\n",
      "3 | test_metrics  | MetricCollection | 0      | train\n",
      "4 | model         | Sequential       | 19.7 K | train\n",
      "5 | loss_fn       | NLLLoss          | 0      | train\n",
      "6 | optimizer     | RMSprop          | 0      | train\n",
      "-----------------------------------------------------------\n",
      "19.7 K    Trainable params\n",
      "0         Non-trainable params\n",
      "19.7 K    Total params\n",
      "0.079     Total estimated model params size (MB)\n",
      "30        Modules in train mode\n",
      "1         Modules in eval mode\n",
      "C:\\Users\\Nils\\AppData\\Local\\Packages\\PythonSoftwareFoundation.Python.3.12_qbz5n2kfra8p0\\LocalCache\\local-packages\\Python312\\site-packages\\lightning\\pytorch\\trainer\\connectors\\data_connector.py:425: The 'train_dataloader' does not have many workers which may be a bottleneck. Consider increasing the value of the `num_workers` argument` to `num_workers=11` in the `DataLoader` to improve performance.\n"
     ]
    },
    {
     "name": "stdout",
     "output_type": "stream",
     "text": [
      "Epoch 6: 100%|██████████| 50/50 [00:00<00:00, 62.82it/s, v_num=125]\n",
      "    Accuracy: 0.5825  =>  Error: 0.4175\n",
      "  Repeat 8/8\n"
     ]
    },
    {
     "name": "stderr",
     "output_type": "stream",
     "text": [
      "C:\\Users\\Nils\\AppData\\Local\\Packages\\PythonSoftwareFoundation.Python.3.12_qbz5n2kfra8p0\\LocalCache\\local-packages\\Python312\\site-packages\\lightning\\pytorch\\trainer\\configuration_validator.py:70: You defined a `validation_step` but have no `val_dataloader`. Skipping val loop.\n",
      "\n",
      "  | Name          | Type             | Params | Mode \n",
      "-----------------------------------------------------------\n",
      "0 | loss          | CrossEntropyLoss | 0      | eval \n",
      "1 | train_metrics | MetricCollection | 0      | train\n",
      "2 | val_metrics   | MetricCollection | 0      | train\n",
      "3 | test_metrics  | MetricCollection | 0      | train\n",
      "4 | model         | Sequential       | 19.7 K | train\n",
      "5 | loss_fn       | NLLLoss          | 0      | train\n",
      "6 | optimizer     | RMSprop          | 0      | train\n",
      "-----------------------------------------------------------\n",
      "19.7 K    Trainable params\n",
      "0         Non-trainable params\n",
      "19.7 K    Total params\n",
      "0.079     Total estimated model params size (MB)\n",
      "30        Modules in train mode\n",
      "1         Modules in eval mode\n",
      "C:\\Users\\Nils\\AppData\\Local\\Packages\\PythonSoftwareFoundation.Python.3.12_qbz5n2kfra8p0\\LocalCache\\local-packages\\Python312\\site-packages\\lightning\\pytorch\\trainer\\connectors\\data_connector.py:425: The 'train_dataloader' does not have many workers which may be a bottleneck. Consider increasing the value of the `num_workers` argument` to `num_workers=11` in the `DataLoader` to improve performance.\n"
     ]
    },
    {
     "name": "stdout",
     "output_type": "stream",
     "text": [
      "Epoch 6: 100%|██████████| 50/50 [00:00<00:00, 67.07it/s, v_num=126]\n",
      "    Accuracy: 0.6675  =>  Error: 0.3325\n",
      "Testing epochs = 10\n",
      "  Repeat 1/8\n"
     ]
    },
    {
     "name": "stderr",
     "output_type": "stream",
     "text": [
      "C:\\Users\\Nils\\AppData\\Local\\Packages\\PythonSoftwareFoundation.Python.3.12_qbz5n2kfra8p0\\LocalCache\\local-packages\\Python312\\site-packages\\lightning\\pytorch\\trainer\\configuration_validator.py:70: You defined a `validation_step` but have no `val_dataloader`. Skipping val loop.\n",
      "\n",
      "  | Name          | Type             | Params | Mode \n",
      "-----------------------------------------------------------\n",
      "0 | loss          | CrossEntropyLoss | 0      | eval \n",
      "1 | train_metrics | MetricCollection | 0      | train\n",
      "2 | val_metrics   | MetricCollection | 0      | train\n",
      "3 | test_metrics  | MetricCollection | 0      | train\n",
      "4 | model         | Sequential       | 19.7 K | train\n",
      "5 | loss_fn       | NLLLoss          | 0      | train\n",
      "6 | optimizer     | RMSprop          | 0      | train\n",
      "-----------------------------------------------------------\n",
      "19.7 K    Trainable params\n",
      "0         Non-trainable params\n",
      "19.7 K    Total params\n",
      "0.079     Total estimated model params size (MB)\n",
      "30        Modules in train mode\n",
      "1         Modules in eval mode\n",
      "C:\\Users\\Nils\\AppData\\Local\\Packages\\PythonSoftwareFoundation.Python.3.12_qbz5n2kfra8p0\\LocalCache\\local-packages\\Python312\\site-packages\\lightning\\pytorch\\trainer\\connectors\\data_connector.py:425: The 'train_dataloader' does not have many workers which may be a bottleneck. Consider increasing the value of the `num_workers` argument` to `num_workers=11` in the `DataLoader` to improve performance.\n"
     ]
    },
    {
     "name": "stdout",
     "output_type": "stream",
     "text": [
      "Epoch 9: 100%|██████████| 50/50 [00:00<00:00, 67.56it/s, v_num=127]\n",
      "    Accuracy: 0.7575  =>  Error: 0.2425\n",
      "  Repeat 2/8\n"
     ]
    },
    {
     "name": "stderr",
     "output_type": "stream",
     "text": [
      "C:\\Users\\Nils\\AppData\\Local\\Packages\\PythonSoftwareFoundation.Python.3.12_qbz5n2kfra8p0\\LocalCache\\local-packages\\Python312\\site-packages\\lightning\\pytorch\\trainer\\configuration_validator.py:70: You defined a `validation_step` but have no `val_dataloader`. Skipping val loop.\n",
      "\n",
      "  | Name          | Type             | Params | Mode \n",
      "-----------------------------------------------------------\n",
      "0 | loss          | CrossEntropyLoss | 0      | eval \n",
      "1 | train_metrics | MetricCollection | 0      | train\n",
      "2 | val_metrics   | MetricCollection | 0      | train\n",
      "3 | test_metrics  | MetricCollection | 0      | train\n",
      "4 | model         | Sequential       | 19.7 K | train\n",
      "5 | loss_fn       | NLLLoss          | 0      | train\n",
      "6 | optimizer     | RMSprop          | 0      | train\n",
      "-----------------------------------------------------------\n",
      "19.7 K    Trainable params\n",
      "0         Non-trainable params\n",
      "19.7 K    Total params\n",
      "0.079     Total estimated model params size (MB)\n",
      "30        Modules in train mode\n",
      "1         Modules in eval mode\n",
      "C:\\Users\\Nils\\AppData\\Local\\Packages\\PythonSoftwareFoundation.Python.3.12_qbz5n2kfra8p0\\LocalCache\\local-packages\\Python312\\site-packages\\lightning\\pytorch\\trainer\\connectors\\data_connector.py:425: The 'train_dataloader' does not have many workers which may be a bottleneck. Consider increasing the value of the `num_workers` argument` to `num_workers=11` in the `DataLoader` to improve performance.\n"
     ]
    },
    {
     "name": "stdout",
     "output_type": "stream",
     "text": [
      "Epoch 9: 100%|██████████| 50/50 [00:00<00:00, 70.51it/s, v_num=128]\n",
      "    Accuracy: 0.3825  =>  Error: 0.6175\n",
      "  Repeat 3/8\n"
     ]
    },
    {
     "name": "stderr",
     "output_type": "stream",
     "text": [
      "C:\\Users\\Nils\\AppData\\Local\\Packages\\PythonSoftwareFoundation.Python.3.12_qbz5n2kfra8p0\\LocalCache\\local-packages\\Python312\\site-packages\\lightning\\pytorch\\trainer\\configuration_validator.py:70: You defined a `validation_step` but have no `val_dataloader`. Skipping val loop.\n",
      "\n",
      "  | Name          | Type             | Params | Mode \n",
      "-----------------------------------------------------------\n",
      "0 | loss          | CrossEntropyLoss | 0      | eval \n",
      "1 | train_metrics | MetricCollection | 0      | train\n",
      "2 | val_metrics   | MetricCollection | 0      | train\n",
      "3 | test_metrics  | MetricCollection | 0      | train\n",
      "4 | model         | Sequential       | 19.7 K | train\n",
      "5 | loss_fn       | NLLLoss          | 0      | train\n",
      "6 | optimizer     | RMSprop          | 0      | train\n",
      "-----------------------------------------------------------\n",
      "19.7 K    Trainable params\n",
      "0         Non-trainable params\n",
      "19.7 K    Total params\n",
      "0.079     Total estimated model params size (MB)\n",
      "30        Modules in train mode\n",
      "1         Modules in eval mode\n",
      "C:\\Users\\Nils\\AppData\\Local\\Packages\\PythonSoftwareFoundation.Python.3.12_qbz5n2kfra8p0\\LocalCache\\local-packages\\Python312\\site-packages\\lightning\\pytorch\\trainer\\connectors\\data_connector.py:425: The 'train_dataloader' does not have many workers which may be a bottleneck. Consider increasing the value of the `num_workers` argument` to `num_workers=11` in the `DataLoader` to improve performance.\n"
     ]
    },
    {
     "name": "stdout",
     "output_type": "stream",
     "text": [
      "Epoch 9: 100%|██████████| 50/50 [00:00<00:00, 68.60it/s, v_num=129]\n",
      "    Accuracy: 0.1775  =>  Error: 0.8225\n",
      "  Repeat 4/8\n"
     ]
    },
    {
     "name": "stderr",
     "output_type": "stream",
     "text": [
      "C:\\Users\\Nils\\AppData\\Local\\Packages\\PythonSoftwareFoundation.Python.3.12_qbz5n2kfra8p0\\LocalCache\\local-packages\\Python312\\site-packages\\lightning\\pytorch\\trainer\\configuration_validator.py:70: You defined a `validation_step` but have no `val_dataloader`. Skipping val loop.\n",
      "\n",
      "  | Name          | Type             | Params | Mode \n",
      "-----------------------------------------------------------\n",
      "0 | loss          | CrossEntropyLoss | 0      | eval \n",
      "1 | train_metrics | MetricCollection | 0      | train\n",
      "2 | val_metrics   | MetricCollection | 0      | train\n",
      "3 | test_metrics  | MetricCollection | 0      | train\n",
      "4 | model         | Sequential       | 19.7 K | train\n",
      "5 | loss_fn       | NLLLoss          | 0      | train\n",
      "6 | optimizer     | RMSprop          | 0      | train\n",
      "-----------------------------------------------------------\n",
      "19.7 K    Trainable params\n",
      "0         Non-trainable params\n",
      "19.7 K    Total params\n",
      "0.079     Total estimated model params size (MB)\n",
      "30        Modules in train mode\n",
      "1         Modules in eval mode\n",
      "C:\\Users\\Nils\\AppData\\Local\\Packages\\PythonSoftwareFoundation.Python.3.12_qbz5n2kfra8p0\\LocalCache\\local-packages\\Python312\\site-packages\\lightning\\pytorch\\trainer\\connectors\\data_connector.py:425: The 'train_dataloader' does not have many workers which may be a bottleneck. Consider increasing the value of the `num_workers` argument` to `num_workers=11` in the `DataLoader` to improve performance.\n"
     ]
    },
    {
     "name": "stdout",
     "output_type": "stream",
     "text": [
      "Epoch 9: 100%|██████████| 50/50 [00:00<00:00, 73.16it/s, v_num=130]\n",
      "    Accuracy: 0.1650  =>  Error: 0.8350\n",
      "  Repeat 5/8\n"
     ]
    },
    {
     "name": "stderr",
     "output_type": "stream",
     "text": [
      "C:\\Users\\Nils\\AppData\\Local\\Packages\\PythonSoftwareFoundation.Python.3.12_qbz5n2kfra8p0\\LocalCache\\local-packages\\Python312\\site-packages\\lightning\\pytorch\\trainer\\configuration_validator.py:70: You defined a `validation_step` but have no `val_dataloader`. Skipping val loop.\n",
      "\n",
      "  | Name          | Type             | Params | Mode \n",
      "-----------------------------------------------------------\n",
      "0 | loss          | CrossEntropyLoss | 0      | eval \n",
      "1 | train_metrics | MetricCollection | 0      | train\n",
      "2 | val_metrics   | MetricCollection | 0      | train\n",
      "3 | test_metrics  | MetricCollection | 0      | train\n",
      "4 | model         | Sequential       | 19.7 K | train\n",
      "5 | loss_fn       | NLLLoss          | 0      | train\n",
      "6 | optimizer     | RMSprop          | 0      | train\n",
      "-----------------------------------------------------------\n",
      "19.7 K    Trainable params\n",
      "0         Non-trainable params\n",
      "19.7 K    Total params\n",
      "0.079     Total estimated model params size (MB)\n",
      "30        Modules in train mode\n",
      "1         Modules in eval mode\n",
      "C:\\Users\\Nils\\AppData\\Local\\Packages\\PythonSoftwareFoundation.Python.3.12_qbz5n2kfra8p0\\LocalCache\\local-packages\\Python312\\site-packages\\lightning\\pytorch\\trainer\\connectors\\data_connector.py:425: The 'train_dataloader' does not have many workers which may be a bottleneck. Consider increasing the value of the `num_workers` argument` to `num_workers=11` in the `DataLoader` to improve performance.\n"
     ]
    },
    {
     "name": "stdout",
     "output_type": "stream",
     "text": [
      "Epoch 9: 100%|██████████| 50/50 [00:00<00:00, 69.15it/s, v_num=131]\n",
      "    Accuracy: 0.6400  =>  Error: 0.3600\n",
      "  Repeat 6/8\n"
     ]
    },
    {
     "name": "stderr",
     "output_type": "stream",
     "text": [
      "C:\\Users\\Nils\\AppData\\Local\\Packages\\PythonSoftwareFoundation.Python.3.12_qbz5n2kfra8p0\\LocalCache\\local-packages\\Python312\\site-packages\\lightning\\pytorch\\trainer\\configuration_validator.py:70: You defined a `validation_step` but have no `val_dataloader`. Skipping val loop.\n",
      "\n",
      "  | Name          | Type             | Params | Mode \n",
      "-----------------------------------------------------------\n",
      "0 | loss          | CrossEntropyLoss | 0      | eval \n",
      "1 | train_metrics | MetricCollection | 0      | train\n",
      "2 | val_metrics   | MetricCollection | 0      | train\n",
      "3 | test_metrics  | MetricCollection | 0      | train\n",
      "4 | model         | Sequential       | 19.7 K | train\n",
      "5 | loss_fn       | NLLLoss          | 0      | train\n",
      "6 | optimizer     | RMSprop          | 0      | train\n",
      "-----------------------------------------------------------\n",
      "19.7 K    Trainable params\n",
      "0         Non-trainable params\n",
      "19.7 K    Total params\n",
      "0.079     Total estimated model params size (MB)\n",
      "30        Modules in train mode\n",
      "1         Modules in eval mode\n",
      "C:\\Users\\Nils\\AppData\\Local\\Packages\\PythonSoftwareFoundation.Python.3.12_qbz5n2kfra8p0\\LocalCache\\local-packages\\Python312\\site-packages\\lightning\\pytorch\\trainer\\connectors\\data_connector.py:425: The 'train_dataloader' does not have many workers which may be a bottleneck. Consider increasing the value of the `num_workers` argument` to `num_workers=11` in the `DataLoader` to improve performance.\n"
     ]
    },
    {
     "name": "stdout",
     "output_type": "stream",
     "text": [
      "Epoch 9: 100%|██████████| 50/50 [00:00<00:00, 61.89it/s, v_num=132]\n",
      "    Accuracy: 0.5625  =>  Error: 0.4375\n",
      "  Repeat 7/8\n"
     ]
    },
    {
     "name": "stderr",
     "output_type": "stream",
     "text": [
      "C:\\Users\\Nils\\AppData\\Local\\Packages\\PythonSoftwareFoundation.Python.3.12_qbz5n2kfra8p0\\LocalCache\\local-packages\\Python312\\site-packages\\lightning\\pytorch\\trainer\\configuration_validator.py:70: You defined a `validation_step` but have no `val_dataloader`. Skipping val loop.\n",
      "\n",
      "  | Name          | Type             | Params | Mode \n",
      "-----------------------------------------------------------\n",
      "0 | loss          | CrossEntropyLoss | 0      | eval \n",
      "1 | train_metrics | MetricCollection | 0      | train\n",
      "2 | val_metrics   | MetricCollection | 0      | train\n",
      "3 | test_metrics  | MetricCollection | 0      | train\n",
      "4 | model         | Sequential       | 19.7 K | train\n",
      "5 | loss_fn       | NLLLoss          | 0      | train\n",
      "6 | optimizer     | RMSprop          | 0      | train\n",
      "-----------------------------------------------------------\n",
      "19.7 K    Trainable params\n",
      "0         Non-trainable params\n",
      "19.7 K    Total params\n",
      "0.079     Total estimated model params size (MB)\n",
      "30        Modules in train mode\n",
      "1         Modules in eval mode\n",
      "C:\\Users\\Nils\\AppData\\Local\\Packages\\PythonSoftwareFoundation.Python.3.12_qbz5n2kfra8p0\\LocalCache\\local-packages\\Python312\\site-packages\\lightning\\pytorch\\trainer\\connectors\\data_connector.py:425: The 'train_dataloader' does not have many workers which may be a bottleneck. Consider increasing the value of the `num_workers` argument` to `num_workers=11` in the `DataLoader` to improve performance.\n"
     ]
    },
    {
     "name": "stdout",
     "output_type": "stream",
     "text": [
      "Epoch 9: 100%|██████████| 50/50 [00:00<00:00, 72.87it/s, v_num=133]\n",
      "    Accuracy: 0.6325  =>  Error: 0.3675\n",
      "  Repeat 8/8\n"
     ]
    },
    {
     "name": "stderr",
     "output_type": "stream",
     "text": [
      "C:\\Users\\Nils\\AppData\\Local\\Packages\\PythonSoftwareFoundation.Python.3.12_qbz5n2kfra8p0\\LocalCache\\local-packages\\Python312\\site-packages\\lightning\\pytorch\\trainer\\configuration_validator.py:70: You defined a `validation_step` but have no `val_dataloader`. Skipping val loop.\n",
      "\n",
      "  | Name          | Type             | Params | Mode \n",
      "-----------------------------------------------------------\n",
      "0 | loss          | CrossEntropyLoss | 0      | eval \n",
      "1 | train_metrics | MetricCollection | 0      | train\n",
      "2 | val_metrics   | MetricCollection | 0      | train\n",
      "3 | test_metrics  | MetricCollection | 0      | train\n",
      "4 | model         | Sequential       | 19.7 K | train\n",
      "5 | loss_fn       | NLLLoss          | 0      | train\n",
      "6 | optimizer     | RMSprop          | 0      | train\n",
      "-----------------------------------------------------------\n",
      "19.7 K    Trainable params\n",
      "0         Non-trainable params\n",
      "19.7 K    Total params\n",
      "0.079     Total estimated model params size (MB)\n",
      "30        Modules in train mode\n",
      "1         Modules in eval mode\n",
      "C:\\Users\\Nils\\AppData\\Local\\Packages\\PythonSoftwareFoundation.Python.3.12_qbz5n2kfra8p0\\LocalCache\\local-packages\\Python312\\site-packages\\lightning\\pytorch\\trainer\\connectors\\data_connector.py:425: The 'train_dataloader' does not have many workers which may be a bottleneck. Consider increasing the value of the `num_workers` argument` to `num_workers=11` in the `DataLoader` to improve performance.\n"
     ]
    },
    {
     "name": "stdout",
     "output_type": "stream",
     "text": [
      "Epoch 9: 100%|██████████| 50/50 [00:00<00:00, 68.58it/s, v_num=134]\n",
      "    Accuracy: 0.5450  =>  Error: 0.4550\n",
      "Testing epochs = 15\n",
      "  Repeat 1/8\n"
     ]
    },
    {
     "name": "stderr",
     "output_type": "stream",
     "text": [
      "C:\\Users\\Nils\\AppData\\Local\\Packages\\PythonSoftwareFoundation.Python.3.12_qbz5n2kfra8p0\\LocalCache\\local-packages\\Python312\\site-packages\\lightning\\pytorch\\trainer\\configuration_validator.py:70: You defined a `validation_step` but have no `val_dataloader`. Skipping val loop.\n",
      "\n",
      "  | Name          | Type             | Params | Mode \n",
      "-----------------------------------------------------------\n",
      "0 | loss          | CrossEntropyLoss | 0      | eval \n",
      "1 | train_metrics | MetricCollection | 0      | train\n",
      "2 | val_metrics   | MetricCollection | 0      | train\n",
      "3 | test_metrics  | MetricCollection | 0      | train\n",
      "4 | model         | Sequential       | 19.7 K | train\n",
      "5 | loss_fn       | NLLLoss          | 0      | train\n",
      "6 | optimizer     | RMSprop          | 0      | train\n",
      "-----------------------------------------------------------\n",
      "19.7 K    Trainable params\n",
      "0         Non-trainable params\n",
      "19.7 K    Total params\n",
      "0.079     Total estimated model params size (MB)\n",
      "30        Modules in train mode\n",
      "1         Modules in eval mode\n",
      "C:\\Users\\Nils\\AppData\\Local\\Packages\\PythonSoftwareFoundation.Python.3.12_qbz5n2kfra8p0\\LocalCache\\local-packages\\Python312\\site-packages\\lightning\\pytorch\\trainer\\connectors\\data_connector.py:425: The 'train_dataloader' does not have many workers which may be a bottleneck. Consider increasing the value of the `num_workers` argument` to `num_workers=11` in the `DataLoader` to improve performance.\n"
     ]
    },
    {
     "name": "stdout",
     "output_type": "stream",
     "text": [
      "Epoch 14: 100%|██████████| 50/50 [00:00<00:00, 74.16it/s, v_num=135]\n",
      "    Accuracy: 0.1675  =>  Error: 0.8325\n",
      "  Repeat 2/8\n"
     ]
    },
    {
     "name": "stderr",
     "output_type": "stream",
     "text": [
      "C:\\Users\\Nils\\AppData\\Local\\Packages\\PythonSoftwareFoundation.Python.3.12_qbz5n2kfra8p0\\LocalCache\\local-packages\\Python312\\site-packages\\lightning\\pytorch\\trainer\\configuration_validator.py:70: You defined a `validation_step` but have no `val_dataloader`. Skipping val loop.\n",
      "\n",
      "  | Name          | Type             | Params | Mode \n",
      "-----------------------------------------------------------\n",
      "0 | loss          | CrossEntropyLoss | 0      | eval \n",
      "1 | train_metrics | MetricCollection | 0      | train\n",
      "2 | val_metrics   | MetricCollection | 0      | train\n",
      "3 | test_metrics  | MetricCollection | 0      | train\n",
      "4 | model         | Sequential       | 19.7 K | train\n",
      "5 | loss_fn       | NLLLoss          | 0      | train\n",
      "6 | optimizer     | RMSprop          | 0      | train\n",
      "-----------------------------------------------------------\n",
      "19.7 K    Trainable params\n",
      "0         Non-trainable params\n",
      "19.7 K    Total params\n",
      "0.079     Total estimated model params size (MB)\n",
      "30        Modules in train mode\n",
      "1         Modules in eval mode\n",
      "C:\\Users\\Nils\\AppData\\Local\\Packages\\PythonSoftwareFoundation.Python.3.12_qbz5n2kfra8p0\\LocalCache\\local-packages\\Python312\\site-packages\\lightning\\pytorch\\trainer\\connectors\\data_connector.py:425: The 'train_dataloader' does not have many workers which may be a bottleneck. Consider increasing the value of the `num_workers` argument` to `num_workers=11` in the `DataLoader` to improve performance.\n"
     ]
    },
    {
     "name": "stdout",
     "output_type": "stream",
     "text": [
      "Epoch 14: 100%|██████████| 50/50 [00:00<00:00, 72.66it/s, v_num=136]\n",
      "    Accuracy: 0.5600  =>  Error: 0.4400\n",
      "  Repeat 3/8\n"
     ]
    },
    {
     "name": "stderr",
     "output_type": "stream",
     "text": [
      "C:\\Users\\Nils\\AppData\\Local\\Packages\\PythonSoftwareFoundation.Python.3.12_qbz5n2kfra8p0\\LocalCache\\local-packages\\Python312\\site-packages\\lightning\\pytorch\\trainer\\configuration_validator.py:70: You defined a `validation_step` but have no `val_dataloader`. Skipping val loop.\n",
      "\n",
      "  | Name          | Type             | Params | Mode \n",
      "-----------------------------------------------------------\n",
      "0 | loss          | CrossEntropyLoss | 0      | eval \n",
      "1 | train_metrics | MetricCollection | 0      | train\n",
      "2 | val_metrics   | MetricCollection | 0      | train\n",
      "3 | test_metrics  | MetricCollection | 0      | train\n",
      "4 | model         | Sequential       | 19.7 K | train\n",
      "5 | loss_fn       | NLLLoss          | 0      | train\n",
      "6 | optimizer     | RMSprop          | 0      | train\n",
      "-----------------------------------------------------------\n",
      "19.7 K    Trainable params\n",
      "0         Non-trainable params\n",
      "19.7 K    Total params\n",
      "0.079     Total estimated model params size (MB)\n",
      "30        Modules in train mode\n",
      "1         Modules in eval mode\n",
      "C:\\Users\\Nils\\AppData\\Local\\Packages\\PythonSoftwareFoundation.Python.3.12_qbz5n2kfra8p0\\LocalCache\\local-packages\\Python312\\site-packages\\lightning\\pytorch\\trainer\\connectors\\data_connector.py:425: The 'train_dataloader' does not have many workers which may be a bottleneck. Consider increasing the value of the `num_workers` argument` to `num_workers=11` in the `DataLoader` to improve performance.\n"
     ]
    },
    {
     "name": "stdout",
     "output_type": "stream",
     "text": [
      "Epoch 14: 100%|██████████| 50/50 [00:00<00:00, 73.51it/s, v_num=137]\n",
      "    Accuracy: 0.4725  =>  Error: 0.5275\n",
      "  Repeat 4/8\n"
     ]
    },
    {
     "name": "stderr",
     "output_type": "stream",
     "text": [
      "C:\\Users\\Nils\\AppData\\Local\\Packages\\PythonSoftwareFoundation.Python.3.12_qbz5n2kfra8p0\\LocalCache\\local-packages\\Python312\\site-packages\\lightning\\pytorch\\trainer\\configuration_validator.py:70: You defined a `validation_step` but have no `val_dataloader`. Skipping val loop.\n",
      "\n",
      "  | Name          | Type             | Params | Mode \n",
      "-----------------------------------------------------------\n",
      "0 | loss          | CrossEntropyLoss | 0      | eval \n",
      "1 | train_metrics | MetricCollection | 0      | train\n",
      "2 | val_metrics   | MetricCollection | 0      | train\n",
      "3 | test_metrics  | MetricCollection | 0      | train\n",
      "4 | model         | Sequential       | 19.7 K | train\n",
      "5 | loss_fn       | NLLLoss          | 0      | train\n",
      "6 | optimizer     | RMSprop          | 0      | train\n",
      "-----------------------------------------------------------\n",
      "19.7 K    Trainable params\n",
      "0         Non-trainable params\n",
      "19.7 K    Total params\n",
      "0.079     Total estimated model params size (MB)\n",
      "30        Modules in train mode\n",
      "1         Modules in eval mode\n",
      "C:\\Users\\Nils\\AppData\\Local\\Packages\\PythonSoftwareFoundation.Python.3.12_qbz5n2kfra8p0\\LocalCache\\local-packages\\Python312\\site-packages\\lightning\\pytorch\\trainer\\connectors\\data_connector.py:425: The 'train_dataloader' does not have many workers which may be a bottleneck. Consider increasing the value of the `num_workers` argument` to `num_workers=11` in the `DataLoader` to improve performance.\n"
     ]
    },
    {
     "name": "stdout",
     "output_type": "stream",
     "text": [
      "Epoch 14: 100%|██████████| 50/50 [00:00<00:00, 75.62it/s, v_num=138]\n",
      "    Accuracy: 0.6700  =>  Error: 0.3300\n",
      "  Repeat 5/8\n"
     ]
    },
    {
     "name": "stderr",
     "output_type": "stream",
     "text": [
      "C:\\Users\\Nils\\AppData\\Local\\Packages\\PythonSoftwareFoundation.Python.3.12_qbz5n2kfra8p0\\LocalCache\\local-packages\\Python312\\site-packages\\lightning\\pytorch\\trainer\\configuration_validator.py:70: You defined a `validation_step` but have no `val_dataloader`. Skipping val loop.\n",
      "\n",
      "  | Name          | Type             | Params | Mode \n",
      "-----------------------------------------------------------\n",
      "0 | loss          | CrossEntropyLoss | 0      | eval \n",
      "1 | train_metrics | MetricCollection | 0      | train\n",
      "2 | val_metrics   | MetricCollection | 0      | train\n",
      "3 | test_metrics  | MetricCollection | 0      | train\n",
      "4 | model         | Sequential       | 19.7 K | train\n",
      "5 | loss_fn       | NLLLoss          | 0      | train\n",
      "6 | optimizer     | RMSprop          | 0      | train\n",
      "-----------------------------------------------------------\n",
      "19.7 K    Trainable params\n",
      "0         Non-trainable params\n",
      "19.7 K    Total params\n",
      "0.079     Total estimated model params size (MB)\n",
      "30        Modules in train mode\n",
      "1         Modules in eval mode\n",
      "C:\\Users\\Nils\\AppData\\Local\\Packages\\PythonSoftwareFoundation.Python.3.12_qbz5n2kfra8p0\\LocalCache\\local-packages\\Python312\\site-packages\\lightning\\pytorch\\trainer\\connectors\\data_connector.py:425: The 'train_dataloader' does not have many workers which may be a bottleneck. Consider increasing the value of the `num_workers` argument` to `num_workers=11` in the `DataLoader` to improve performance.\n"
     ]
    },
    {
     "name": "stdout",
     "output_type": "stream",
     "text": [
      "Epoch 14: 100%|██████████| 50/50 [00:00<00:00, 55.95it/s, v_num=139]\n",
      "    Accuracy: 0.1900  =>  Error: 0.8100\n",
      "  Repeat 6/8\n"
     ]
    },
    {
     "name": "stderr",
     "output_type": "stream",
     "text": [
      "C:\\Users\\Nils\\AppData\\Local\\Packages\\PythonSoftwareFoundation.Python.3.12_qbz5n2kfra8p0\\LocalCache\\local-packages\\Python312\\site-packages\\lightning\\pytorch\\trainer\\configuration_validator.py:70: You defined a `validation_step` but have no `val_dataloader`. Skipping val loop.\n",
      "\n",
      "  | Name          | Type             | Params | Mode \n",
      "-----------------------------------------------------------\n",
      "0 | loss          | CrossEntropyLoss | 0      | eval \n",
      "1 | train_metrics | MetricCollection | 0      | train\n",
      "2 | val_metrics   | MetricCollection | 0      | train\n",
      "3 | test_metrics  | MetricCollection | 0      | train\n",
      "4 | model         | Sequential       | 19.7 K | train\n",
      "5 | loss_fn       | NLLLoss          | 0      | train\n",
      "6 | optimizer     | RMSprop          | 0      | train\n",
      "-----------------------------------------------------------\n",
      "19.7 K    Trainable params\n",
      "0         Non-trainable params\n",
      "19.7 K    Total params\n",
      "0.079     Total estimated model params size (MB)\n",
      "30        Modules in train mode\n",
      "1         Modules in eval mode\n",
      "C:\\Users\\Nils\\AppData\\Local\\Packages\\PythonSoftwareFoundation.Python.3.12_qbz5n2kfra8p0\\LocalCache\\local-packages\\Python312\\site-packages\\lightning\\pytorch\\trainer\\connectors\\data_connector.py:425: The 'train_dataloader' does not have many workers which may be a bottleneck. Consider increasing the value of the `num_workers` argument` to `num_workers=11` in the `DataLoader` to improve performance.\n"
     ]
    },
    {
     "name": "stdout",
     "output_type": "stream",
     "text": [
      "Epoch 14: 100%|██████████| 50/50 [00:00<00:00, 68.12it/s, v_num=140]\n",
      "    Accuracy: 0.1800  =>  Error: 0.8200\n",
      "  Repeat 7/8\n"
     ]
    },
    {
     "name": "stderr",
     "output_type": "stream",
     "text": [
      "C:\\Users\\Nils\\AppData\\Local\\Packages\\PythonSoftwareFoundation.Python.3.12_qbz5n2kfra8p0\\LocalCache\\local-packages\\Python312\\site-packages\\lightning\\pytorch\\trainer\\configuration_validator.py:70: You defined a `validation_step` but have no `val_dataloader`. Skipping val loop.\n",
      "\n",
      "  | Name          | Type             | Params | Mode \n",
      "-----------------------------------------------------------\n",
      "0 | loss          | CrossEntropyLoss | 0      | eval \n",
      "1 | train_metrics | MetricCollection | 0      | train\n",
      "2 | val_metrics   | MetricCollection | 0      | train\n",
      "3 | test_metrics  | MetricCollection | 0      | train\n",
      "4 | model         | Sequential       | 19.7 K | train\n",
      "5 | loss_fn       | NLLLoss          | 0      | train\n",
      "6 | optimizer     | RMSprop          | 0      | train\n",
      "-----------------------------------------------------------\n",
      "19.7 K    Trainable params\n",
      "0         Non-trainable params\n",
      "19.7 K    Total params\n",
      "0.079     Total estimated model params size (MB)\n",
      "30        Modules in train mode\n",
      "1         Modules in eval mode\n",
      "C:\\Users\\Nils\\AppData\\Local\\Packages\\PythonSoftwareFoundation.Python.3.12_qbz5n2kfra8p0\\LocalCache\\local-packages\\Python312\\site-packages\\lightning\\pytorch\\trainer\\connectors\\data_connector.py:425: The 'train_dataloader' does not have many workers which may be a bottleneck. Consider increasing the value of the `num_workers` argument` to `num_workers=11` in the `DataLoader` to improve performance.\n"
     ]
    },
    {
     "name": "stdout",
     "output_type": "stream",
     "text": [
      "Epoch 14: 100%|██████████| 50/50 [00:00<00:00, 70.31it/s, v_num=141]\n",
      "    Accuracy: 0.8525  =>  Error: 0.1475\n",
      "  Repeat 8/8\n"
     ]
    },
    {
     "name": "stderr",
     "output_type": "stream",
     "text": [
      "C:\\Users\\Nils\\AppData\\Local\\Packages\\PythonSoftwareFoundation.Python.3.12_qbz5n2kfra8p0\\LocalCache\\local-packages\\Python312\\site-packages\\lightning\\pytorch\\trainer\\configuration_validator.py:70: You defined a `validation_step` but have no `val_dataloader`. Skipping val loop.\n",
      "\n",
      "  | Name          | Type             | Params | Mode \n",
      "-----------------------------------------------------------\n",
      "0 | loss          | CrossEntropyLoss | 0      | eval \n",
      "1 | train_metrics | MetricCollection | 0      | train\n",
      "2 | val_metrics   | MetricCollection | 0      | train\n",
      "3 | test_metrics  | MetricCollection | 0      | train\n",
      "4 | model         | Sequential       | 19.7 K | train\n",
      "5 | loss_fn       | NLLLoss          | 0      | train\n",
      "6 | optimizer     | RMSprop          | 0      | train\n",
      "-----------------------------------------------------------\n",
      "19.7 K    Trainable params\n",
      "0         Non-trainable params\n",
      "19.7 K    Total params\n",
      "0.079     Total estimated model params size (MB)\n",
      "30        Modules in train mode\n",
      "1         Modules in eval mode\n",
      "C:\\Users\\Nils\\AppData\\Local\\Packages\\PythonSoftwareFoundation.Python.3.12_qbz5n2kfra8p0\\LocalCache\\local-packages\\Python312\\site-packages\\lightning\\pytorch\\trainer\\connectors\\data_connector.py:425: The 'train_dataloader' does not have many workers which may be a bottleneck. Consider increasing the value of the `num_workers` argument` to `num_workers=11` in the `DataLoader` to improve performance.\n"
     ]
    },
    {
     "name": "stdout",
     "output_type": "stream",
     "text": [
      "Epoch 14: 100%|██████████| 50/50 [00:00<00:00, 68.21it/s, v_num=142]\n",
      "    Accuracy: 0.6850  =>  Error: 0.3150\n",
      "Testing epochs = 20\n",
      "  Repeat 1/8\n"
     ]
    },
    {
     "name": "stderr",
     "output_type": "stream",
     "text": [
      "C:\\Users\\Nils\\AppData\\Local\\Packages\\PythonSoftwareFoundation.Python.3.12_qbz5n2kfra8p0\\LocalCache\\local-packages\\Python312\\site-packages\\lightning\\pytorch\\trainer\\configuration_validator.py:70: You defined a `validation_step` but have no `val_dataloader`. Skipping val loop.\n",
      "\n",
      "  | Name          | Type             | Params | Mode \n",
      "-----------------------------------------------------------\n",
      "0 | loss          | CrossEntropyLoss | 0      | eval \n",
      "1 | train_metrics | MetricCollection | 0      | train\n",
      "2 | val_metrics   | MetricCollection | 0      | train\n",
      "3 | test_metrics  | MetricCollection | 0      | train\n",
      "4 | model         | Sequential       | 19.7 K | train\n",
      "5 | loss_fn       | NLLLoss          | 0      | train\n",
      "6 | optimizer     | RMSprop          | 0      | train\n",
      "-----------------------------------------------------------\n",
      "19.7 K    Trainable params\n",
      "0         Non-trainable params\n",
      "19.7 K    Total params\n",
      "0.079     Total estimated model params size (MB)\n",
      "30        Modules in train mode\n",
      "1         Modules in eval mode\n",
      "C:\\Users\\Nils\\AppData\\Local\\Packages\\PythonSoftwareFoundation.Python.3.12_qbz5n2kfra8p0\\LocalCache\\local-packages\\Python312\\site-packages\\lightning\\pytorch\\trainer\\connectors\\data_connector.py:425: The 'train_dataloader' does not have many workers which may be a bottleneck. Consider increasing the value of the `num_workers` argument` to `num_workers=11` in the `DataLoader` to improve performance.\n"
     ]
    },
    {
     "name": "stdout",
     "output_type": "stream",
     "text": [
      "Epoch 19: 100%|██████████| 50/50 [00:00<00:00, 71.11it/s, v_num=143]\n",
      "    Accuracy: 0.1675  =>  Error: 0.8325\n",
      "  Repeat 2/8\n"
     ]
    },
    {
     "name": "stderr",
     "output_type": "stream",
     "text": [
      "C:\\Users\\Nils\\AppData\\Local\\Packages\\PythonSoftwareFoundation.Python.3.12_qbz5n2kfra8p0\\LocalCache\\local-packages\\Python312\\site-packages\\lightning\\pytorch\\trainer\\configuration_validator.py:70: You defined a `validation_step` but have no `val_dataloader`. Skipping val loop.\n",
      "\n",
      "  | Name          | Type             | Params | Mode \n",
      "-----------------------------------------------------------\n",
      "0 | loss          | CrossEntropyLoss | 0      | eval \n",
      "1 | train_metrics | MetricCollection | 0      | train\n",
      "2 | val_metrics   | MetricCollection | 0      | train\n",
      "3 | test_metrics  | MetricCollection | 0      | train\n",
      "4 | model         | Sequential       | 19.7 K | train\n",
      "5 | loss_fn       | NLLLoss          | 0      | train\n",
      "6 | optimizer     | RMSprop          | 0      | train\n",
      "-----------------------------------------------------------\n",
      "19.7 K    Trainable params\n",
      "0         Non-trainable params\n",
      "19.7 K    Total params\n",
      "0.079     Total estimated model params size (MB)\n",
      "30        Modules in train mode\n",
      "1         Modules in eval mode\n",
      "C:\\Users\\Nils\\AppData\\Local\\Packages\\PythonSoftwareFoundation.Python.3.12_qbz5n2kfra8p0\\LocalCache\\local-packages\\Python312\\site-packages\\lightning\\pytorch\\trainer\\connectors\\data_connector.py:425: The 'train_dataloader' does not have many workers which may be a bottleneck. Consider increasing the value of the `num_workers` argument` to `num_workers=11` in the `DataLoader` to improve performance.\n"
     ]
    },
    {
     "name": "stdout",
     "output_type": "stream",
     "text": [
      "Epoch 19: 100%|██████████| 50/50 [00:00<00:00, 64.69it/s, v_num=144]\n",
      "    Accuracy: 0.8275  =>  Error: 0.1725\n",
      "  Repeat 3/8\n"
     ]
    },
    {
     "name": "stderr",
     "output_type": "stream",
     "text": [
      "C:\\Users\\Nils\\AppData\\Local\\Packages\\PythonSoftwareFoundation.Python.3.12_qbz5n2kfra8p0\\LocalCache\\local-packages\\Python312\\site-packages\\lightning\\pytorch\\trainer\\configuration_validator.py:70: You defined a `validation_step` but have no `val_dataloader`. Skipping val loop.\n",
      "\n",
      "  | Name          | Type             | Params | Mode \n",
      "-----------------------------------------------------------\n",
      "0 | loss          | CrossEntropyLoss | 0      | eval \n",
      "1 | train_metrics | MetricCollection | 0      | train\n",
      "2 | val_metrics   | MetricCollection | 0      | train\n",
      "3 | test_metrics  | MetricCollection | 0      | train\n",
      "4 | model         | Sequential       | 19.7 K | train\n",
      "5 | loss_fn       | NLLLoss          | 0      | train\n",
      "6 | optimizer     | RMSprop          | 0      | train\n",
      "-----------------------------------------------------------\n",
      "19.7 K    Trainable params\n",
      "0         Non-trainable params\n",
      "19.7 K    Total params\n",
      "0.079     Total estimated model params size (MB)\n",
      "30        Modules in train mode\n",
      "1         Modules in eval mode\n",
      "C:\\Users\\Nils\\AppData\\Local\\Packages\\PythonSoftwareFoundation.Python.3.12_qbz5n2kfra8p0\\LocalCache\\local-packages\\Python312\\site-packages\\lightning\\pytorch\\trainer\\connectors\\data_connector.py:425: The 'train_dataloader' does not have many workers which may be a bottleneck. Consider increasing the value of the `num_workers` argument` to `num_workers=11` in the `DataLoader` to improve performance.\n"
     ]
    },
    {
     "name": "stdout",
     "output_type": "stream",
     "text": [
      "Epoch 19: 100%|██████████| 50/50 [00:00<00:00, 61.82it/s, v_num=145]\n",
      "    Accuracy: 0.7700  =>  Error: 0.2300\n",
      "  Repeat 4/8\n"
     ]
    },
    {
     "name": "stderr",
     "output_type": "stream",
     "text": [
      "C:\\Users\\Nils\\AppData\\Local\\Packages\\PythonSoftwareFoundation.Python.3.12_qbz5n2kfra8p0\\LocalCache\\local-packages\\Python312\\site-packages\\lightning\\pytorch\\trainer\\configuration_validator.py:70: You defined a `validation_step` but have no `val_dataloader`. Skipping val loop.\n",
      "\n",
      "  | Name          | Type             | Params | Mode \n",
      "-----------------------------------------------------------\n",
      "0 | loss          | CrossEntropyLoss | 0      | eval \n",
      "1 | train_metrics | MetricCollection | 0      | train\n",
      "2 | val_metrics   | MetricCollection | 0      | train\n",
      "3 | test_metrics  | MetricCollection | 0      | train\n",
      "4 | model         | Sequential       | 19.7 K | train\n",
      "5 | loss_fn       | NLLLoss          | 0      | train\n",
      "6 | optimizer     | RMSprop          | 0      | train\n",
      "-----------------------------------------------------------\n",
      "19.7 K    Trainable params\n",
      "0         Non-trainable params\n",
      "19.7 K    Total params\n",
      "0.079     Total estimated model params size (MB)\n",
      "30        Modules in train mode\n",
      "1         Modules in eval mode\n",
      "C:\\Users\\Nils\\AppData\\Local\\Packages\\PythonSoftwareFoundation.Python.3.12_qbz5n2kfra8p0\\LocalCache\\local-packages\\Python312\\site-packages\\lightning\\pytorch\\trainer\\connectors\\data_connector.py:425: The 'train_dataloader' does not have many workers which may be a bottleneck. Consider increasing the value of the `num_workers` argument` to `num_workers=11` in the `DataLoader` to improve performance.\n"
     ]
    },
    {
     "name": "stdout",
     "output_type": "stream",
     "text": [
      "Epoch 19: 100%|██████████| 50/50 [00:00<00:00, 61.74it/s, v_num=146]\n",
      "    Accuracy: 0.6900  =>  Error: 0.3100\n",
      "  Repeat 5/8\n"
     ]
    },
    {
     "name": "stderr",
     "output_type": "stream",
     "text": [
      "C:\\Users\\Nils\\AppData\\Local\\Packages\\PythonSoftwareFoundation.Python.3.12_qbz5n2kfra8p0\\LocalCache\\local-packages\\Python312\\site-packages\\lightning\\pytorch\\trainer\\configuration_validator.py:70: You defined a `validation_step` but have no `val_dataloader`. Skipping val loop.\n",
      "\n",
      "  | Name          | Type             | Params | Mode \n",
      "-----------------------------------------------------------\n",
      "0 | loss          | CrossEntropyLoss | 0      | eval \n",
      "1 | train_metrics | MetricCollection | 0      | train\n",
      "2 | val_metrics   | MetricCollection | 0      | train\n",
      "3 | test_metrics  | MetricCollection | 0      | train\n",
      "4 | model         | Sequential       | 19.7 K | train\n",
      "5 | loss_fn       | NLLLoss          | 0      | train\n",
      "6 | optimizer     | RMSprop          | 0      | train\n",
      "-----------------------------------------------------------\n",
      "19.7 K    Trainable params\n",
      "0         Non-trainable params\n",
      "19.7 K    Total params\n",
      "0.079     Total estimated model params size (MB)\n",
      "30        Modules in train mode\n",
      "1         Modules in eval mode\n",
      "C:\\Users\\Nils\\AppData\\Local\\Packages\\PythonSoftwareFoundation.Python.3.12_qbz5n2kfra8p0\\LocalCache\\local-packages\\Python312\\site-packages\\lightning\\pytorch\\trainer\\connectors\\data_connector.py:425: The 'train_dataloader' does not have many workers which may be a bottleneck. Consider increasing the value of the `num_workers` argument` to `num_workers=11` in the `DataLoader` to improve performance.\n"
     ]
    },
    {
     "name": "stdout",
     "output_type": "stream",
     "text": [
      "Epoch 19: 100%|██████████| 50/50 [00:00<00:00, 69.73it/s, v_num=147]\n",
      "    Accuracy: 0.8450  =>  Error: 0.1550\n",
      "  Repeat 6/8\n"
     ]
    },
    {
     "name": "stderr",
     "output_type": "stream",
     "text": [
      "C:\\Users\\Nils\\AppData\\Local\\Packages\\PythonSoftwareFoundation.Python.3.12_qbz5n2kfra8p0\\LocalCache\\local-packages\\Python312\\site-packages\\lightning\\pytorch\\trainer\\configuration_validator.py:70: You defined a `validation_step` but have no `val_dataloader`. Skipping val loop.\n",
      "\n",
      "  | Name          | Type             | Params | Mode \n",
      "-----------------------------------------------------------\n",
      "0 | loss          | CrossEntropyLoss | 0      | eval \n",
      "1 | train_metrics | MetricCollection | 0      | train\n",
      "2 | val_metrics   | MetricCollection | 0      | train\n",
      "3 | test_metrics  | MetricCollection | 0      | train\n",
      "4 | model         | Sequential       | 19.7 K | train\n",
      "5 | loss_fn       | NLLLoss          | 0      | train\n",
      "6 | optimizer     | RMSprop          | 0      | train\n",
      "-----------------------------------------------------------\n",
      "19.7 K    Trainable params\n",
      "0         Non-trainable params\n",
      "19.7 K    Total params\n",
      "0.079     Total estimated model params size (MB)\n",
      "30        Modules in train mode\n",
      "1         Modules in eval mode\n",
      "C:\\Users\\Nils\\AppData\\Local\\Packages\\PythonSoftwareFoundation.Python.3.12_qbz5n2kfra8p0\\LocalCache\\local-packages\\Python312\\site-packages\\lightning\\pytorch\\trainer\\connectors\\data_connector.py:425: The 'train_dataloader' does not have many workers which may be a bottleneck. Consider increasing the value of the `num_workers` argument` to `num_workers=11` in the `DataLoader` to improve performance.\n"
     ]
    },
    {
     "name": "stdout",
     "output_type": "stream",
     "text": [
      "Epoch 19: 100%|██████████| 50/50 [00:00<00:00, 72.34it/s, v_num=148]\n",
      "    Accuracy: 0.8650  =>  Error: 0.1350\n",
      "  Repeat 7/8\n"
     ]
    },
    {
     "name": "stderr",
     "output_type": "stream",
     "text": [
      "C:\\Users\\Nils\\AppData\\Local\\Packages\\PythonSoftwareFoundation.Python.3.12_qbz5n2kfra8p0\\LocalCache\\local-packages\\Python312\\site-packages\\lightning\\pytorch\\trainer\\configuration_validator.py:70: You defined a `validation_step` but have no `val_dataloader`. Skipping val loop.\n",
      "\n",
      "  | Name          | Type             | Params | Mode \n",
      "-----------------------------------------------------------\n",
      "0 | loss          | CrossEntropyLoss | 0      | eval \n",
      "1 | train_metrics | MetricCollection | 0      | train\n",
      "2 | val_metrics   | MetricCollection | 0      | train\n",
      "3 | test_metrics  | MetricCollection | 0      | train\n",
      "4 | model         | Sequential       | 19.7 K | train\n",
      "5 | loss_fn       | NLLLoss          | 0      | train\n",
      "6 | optimizer     | RMSprop          | 0      | train\n",
      "-----------------------------------------------------------\n",
      "19.7 K    Trainable params\n",
      "0         Non-trainable params\n",
      "19.7 K    Total params\n",
      "0.079     Total estimated model params size (MB)\n",
      "30        Modules in train mode\n",
      "1         Modules in eval mode\n",
      "C:\\Users\\Nils\\AppData\\Local\\Packages\\PythonSoftwareFoundation.Python.3.12_qbz5n2kfra8p0\\LocalCache\\local-packages\\Python312\\site-packages\\lightning\\pytorch\\trainer\\connectors\\data_connector.py:425: The 'train_dataloader' does not have many workers which may be a bottleneck. Consider increasing the value of the `num_workers` argument` to `num_workers=11` in the `DataLoader` to improve performance.\n"
     ]
    },
    {
     "name": "stdout",
     "output_type": "stream",
     "text": [
      "Epoch 19: 100%|██████████| 50/50 [00:00<00:00, 67.94it/s, v_num=149]\n",
      "    Accuracy: 0.7175  =>  Error: 0.2825\n",
      "  Repeat 8/8\n"
     ]
    },
    {
     "name": "stderr",
     "output_type": "stream",
     "text": [
      "C:\\Users\\Nils\\AppData\\Local\\Packages\\PythonSoftwareFoundation.Python.3.12_qbz5n2kfra8p0\\LocalCache\\local-packages\\Python312\\site-packages\\lightning\\pytorch\\trainer\\configuration_validator.py:70: You defined a `validation_step` but have no `val_dataloader`. Skipping val loop.\n",
      "\n",
      "  | Name          | Type             | Params | Mode \n",
      "-----------------------------------------------------------\n",
      "0 | loss          | CrossEntropyLoss | 0      | eval \n",
      "1 | train_metrics | MetricCollection | 0      | train\n",
      "2 | val_metrics   | MetricCollection | 0      | train\n",
      "3 | test_metrics  | MetricCollection | 0      | train\n",
      "4 | model         | Sequential       | 19.7 K | train\n",
      "5 | loss_fn       | NLLLoss          | 0      | train\n",
      "6 | optimizer     | RMSprop          | 0      | train\n",
      "-----------------------------------------------------------\n",
      "19.7 K    Trainable params\n",
      "0         Non-trainable params\n",
      "19.7 K    Total params\n",
      "0.079     Total estimated model params size (MB)\n",
      "30        Modules in train mode\n",
      "1         Modules in eval mode\n",
      "C:\\Users\\Nils\\AppData\\Local\\Packages\\PythonSoftwareFoundation.Python.3.12_qbz5n2kfra8p0\\LocalCache\\local-packages\\Python312\\site-packages\\lightning\\pytorch\\trainer\\connectors\\data_connector.py:425: The 'train_dataloader' does not have many workers which may be a bottleneck. Consider increasing the value of the `num_workers` argument` to `num_workers=11` in the `DataLoader` to improve performance.\n"
     ]
    },
    {
     "name": "stdout",
     "output_type": "stream",
     "text": [
      "Epoch 19: 100%|██████████| 50/50 [00:00<00:00, 58.53it/s, v_num=150]\n",
      "    Accuracy: 0.9000  =>  Error: 0.1000\n",
      "Testing epochs = 30\n",
      "  Repeat 1/8\n"
     ]
    },
    {
     "name": "stderr",
     "output_type": "stream",
     "text": [
      "C:\\Users\\Nils\\AppData\\Local\\Packages\\PythonSoftwareFoundation.Python.3.12_qbz5n2kfra8p0\\LocalCache\\local-packages\\Python312\\site-packages\\lightning\\pytorch\\trainer\\configuration_validator.py:70: You defined a `validation_step` but have no `val_dataloader`. Skipping val loop.\n",
      "\n",
      "  | Name          | Type             | Params | Mode \n",
      "-----------------------------------------------------------\n",
      "0 | loss          | CrossEntropyLoss | 0      | eval \n",
      "1 | train_metrics | MetricCollection | 0      | train\n",
      "2 | val_metrics   | MetricCollection | 0      | train\n",
      "3 | test_metrics  | MetricCollection | 0      | train\n",
      "4 | model         | Sequential       | 19.7 K | train\n",
      "5 | loss_fn       | NLLLoss          | 0      | train\n",
      "6 | optimizer     | RMSprop          | 0      | train\n",
      "-----------------------------------------------------------\n",
      "19.7 K    Trainable params\n",
      "0         Non-trainable params\n",
      "19.7 K    Total params\n",
      "0.079     Total estimated model params size (MB)\n",
      "30        Modules in train mode\n",
      "1         Modules in eval mode\n",
      "C:\\Users\\Nils\\AppData\\Local\\Packages\\PythonSoftwareFoundation.Python.3.12_qbz5n2kfra8p0\\LocalCache\\local-packages\\Python312\\site-packages\\lightning\\pytorch\\trainer\\connectors\\data_connector.py:425: The 'train_dataloader' does not have many workers which may be a bottleneck. Consider increasing the value of the `num_workers` argument` to `num_workers=11` in the `DataLoader` to improve performance.\n"
     ]
    },
    {
     "name": "stdout",
     "output_type": "stream",
     "text": [
      "Epoch 29: 100%|██████████| 50/50 [00:00<00:00, 68.17it/s, v_num=151]\n",
      "    Accuracy: 0.8775  =>  Error: 0.1225\n",
      "  Repeat 2/8\n"
     ]
    },
    {
     "name": "stderr",
     "output_type": "stream",
     "text": [
      "C:\\Users\\Nils\\AppData\\Local\\Packages\\PythonSoftwareFoundation.Python.3.12_qbz5n2kfra8p0\\LocalCache\\local-packages\\Python312\\site-packages\\lightning\\pytorch\\trainer\\configuration_validator.py:70: You defined a `validation_step` but have no `val_dataloader`. Skipping val loop.\n",
      "\n",
      "  | Name          | Type             | Params | Mode \n",
      "-----------------------------------------------------------\n",
      "0 | loss          | CrossEntropyLoss | 0      | eval \n",
      "1 | train_metrics | MetricCollection | 0      | train\n",
      "2 | val_metrics   | MetricCollection | 0      | train\n",
      "3 | test_metrics  | MetricCollection | 0      | train\n",
      "4 | model         | Sequential       | 19.7 K | train\n",
      "5 | loss_fn       | NLLLoss          | 0      | train\n",
      "6 | optimizer     | RMSprop          | 0      | train\n",
      "-----------------------------------------------------------\n",
      "19.7 K    Trainable params\n",
      "0         Non-trainable params\n",
      "19.7 K    Total params\n",
      "0.079     Total estimated model params size (MB)\n",
      "30        Modules in train mode\n",
      "1         Modules in eval mode\n",
      "C:\\Users\\Nils\\AppData\\Local\\Packages\\PythonSoftwareFoundation.Python.3.12_qbz5n2kfra8p0\\LocalCache\\local-packages\\Python312\\site-packages\\lightning\\pytorch\\trainer\\connectors\\data_connector.py:425: The 'train_dataloader' does not have many workers which may be a bottleneck. Consider increasing the value of the `num_workers` argument` to `num_workers=11` in the `DataLoader` to improve performance.\n"
     ]
    },
    {
     "name": "stdout",
     "output_type": "stream",
     "text": [
      "Epoch 29: 100%|██████████| 50/50 [00:00<00:00, 69.63it/s, v_num=152]\n",
      "    Accuracy: 0.1650  =>  Error: 0.8350\n",
      "  Repeat 3/8\n"
     ]
    },
    {
     "name": "stderr",
     "output_type": "stream",
     "text": [
      "C:\\Users\\Nils\\AppData\\Local\\Packages\\PythonSoftwareFoundation.Python.3.12_qbz5n2kfra8p0\\LocalCache\\local-packages\\Python312\\site-packages\\lightning\\pytorch\\trainer\\configuration_validator.py:70: You defined a `validation_step` but have no `val_dataloader`. Skipping val loop.\n",
      "\n",
      "  | Name          | Type             | Params | Mode \n",
      "-----------------------------------------------------------\n",
      "0 | loss          | CrossEntropyLoss | 0      | eval \n",
      "1 | train_metrics | MetricCollection | 0      | train\n",
      "2 | val_metrics   | MetricCollection | 0      | train\n",
      "3 | test_metrics  | MetricCollection | 0      | train\n",
      "4 | model         | Sequential       | 19.7 K | train\n",
      "5 | loss_fn       | NLLLoss          | 0      | train\n",
      "6 | optimizer     | RMSprop          | 0      | train\n",
      "-----------------------------------------------------------\n",
      "19.7 K    Trainable params\n",
      "0         Non-trainable params\n",
      "19.7 K    Total params\n",
      "0.079     Total estimated model params size (MB)\n",
      "30        Modules in train mode\n",
      "1         Modules in eval mode\n",
      "C:\\Users\\Nils\\AppData\\Local\\Packages\\PythonSoftwareFoundation.Python.3.12_qbz5n2kfra8p0\\LocalCache\\local-packages\\Python312\\site-packages\\lightning\\pytorch\\trainer\\connectors\\data_connector.py:425: The 'train_dataloader' does not have many workers which may be a bottleneck. Consider increasing the value of the `num_workers` argument` to `num_workers=11` in the `DataLoader` to improve performance.\n"
     ]
    },
    {
     "name": "stdout",
     "output_type": "stream",
     "text": [
      "Epoch 29: 100%|██████████| 50/50 [00:00<00:00, 61.42it/s, v_num=153]\n",
      "    Accuracy: 0.9000  =>  Error: 0.1000\n",
      "  Repeat 4/8\n"
     ]
    },
    {
     "name": "stderr",
     "output_type": "stream",
     "text": [
      "C:\\Users\\Nils\\AppData\\Local\\Packages\\PythonSoftwareFoundation.Python.3.12_qbz5n2kfra8p0\\LocalCache\\local-packages\\Python312\\site-packages\\lightning\\pytorch\\trainer\\configuration_validator.py:70: You defined a `validation_step` but have no `val_dataloader`. Skipping val loop.\n",
      "\n",
      "  | Name          | Type             | Params | Mode \n",
      "-----------------------------------------------------------\n",
      "0 | loss          | CrossEntropyLoss | 0      | eval \n",
      "1 | train_metrics | MetricCollection | 0      | train\n",
      "2 | val_metrics   | MetricCollection | 0      | train\n",
      "3 | test_metrics  | MetricCollection | 0      | train\n",
      "4 | model         | Sequential       | 19.7 K | train\n",
      "5 | loss_fn       | NLLLoss          | 0      | train\n",
      "6 | optimizer     | RMSprop          | 0      | train\n",
      "-----------------------------------------------------------\n",
      "19.7 K    Trainable params\n",
      "0         Non-trainable params\n",
      "19.7 K    Total params\n",
      "0.079     Total estimated model params size (MB)\n",
      "30        Modules in train mode\n",
      "1         Modules in eval mode\n",
      "C:\\Users\\Nils\\AppData\\Local\\Packages\\PythonSoftwareFoundation.Python.3.12_qbz5n2kfra8p0\\LocalCache\\local-packages\\Python312\\site-packages\\lightning\\pytorch\\trainer\\connectors\\data_connector.py:425: The 'train_dataloader' does not have many workers which may be a bottleneck. Consider increasing the value of the `num_workers` argument` to `num_workers=11` in the `DataLoader` to improve performance.\n"
     ]
    },
    {
     "name": "stdout",
     "output_type": "stream",
     "text": [
      "Epoch 29: 100%|██████████| 50/50 [00:00<00:00, 67.20it/s, v_num=154]\n",
      "    Accuracy: 0.7775  =>  Error: 0.2225\n",
      "  Repeat 5/8\n"
     ]
    },
    {
     "name": "stderr",
     "output_type": "stream",
     "text": [
      "C:\\Users\\Nils\\AppData\\Local\\Packages\\PythonSoftwareFoundation.Python.3.12_qbz5n2kfra8p0\\LocalCache\\local-packages\\Python312\\site-packages\\lightning\\pytorch\\trainer\\configuration_validator.py:70: You defined a `validation_step` but have no `val_dataloader`. Skipping val loop.\n",
      "\n",
      "  | Name          | Type             | Params | Mode \n",
      "-----------------------------------------------------------\n",
      "0 | loss          | CrossEntropyLoss | 0      | eval \n",
      "1 | train_metrics | MetricCollection | 0      | train\n",
      "2 | val_metrics   | MetricCollection | 0      | train\n",
      "3 | test_metrics  | MetricCollection | 0      | train\n",
      "4 | model         | Sequential       | 19.7 K | train\n",
      "5 | loss_fn       | NLLLoss          | 0      | train\n",
      "6 | optimizer     | RMSprop          | 0      | train\n",
      "-----------------------------------------------------------\n",
      "19.7 K    Trainable params\n",
      "0         Non-trainable params\n",
      "19.7 K    Total params\n",
      "0.079     Total estimated model params size (MB)\n",
      "30        Modules in train mode\n",
      "1         Modules in eval mode\n",
      "C:\\Users\\Nils\\AppData\\Local\\Packages\\PythonSoftwareFoundation.Python.3.12_qbz5n2kfra8p0\\LocalCache\\local-packages\\Python312\\site-packages\\lightning\\pytorch\\trainer\\connectors\\data_connector.py:425: The 'train_dataloader' does not have many workers which may be a bottleneck. Consider increasing the value of the `num_workers` argument` to `num_workers=11` in the `DataLoader` to improve performance.\n"
     ]
    },
    {
     "name": "stdout",
     "output_type": "stream",
     "text": [
      "Epoch 29: 100%|██████████| 50/50 [00:00<00:00, 61.74it/s, v_num=155]\n",
      "    Accuracy: 0.8950  =>  Error: 0.1050\n",
      "  Repeat 6/8\n"
     ]
    },
    {
     "name": "stderr",
     "output_type": "stream",
     "text": [
      "C:\\Users\\Nils\\AppData\\Local\\Packages\\PythonSoftwareFoundation.Python.3.12_qbz5n2kfra8p0\\LocalCache\\local-packages\\Python312\\site-packages\\lightning\\pytorch\\trainer\\configuration_validator.py:70: You defined a `validation_step` but have no `val_dataloader`. Skipping val loop.\n",
      "\n",
      "  | Name          | Type             | Params | Mode \n",
      "-----------------------------------------------------------\n",
      "0 | loss          | CrossEntropyLoss | 0      | eval \n",
      "1 | train_metrics | MetricCollection | 0      | train\n",
      "2 | val_metrics   | MetricCollection | 0      | train\n",
      "3 | test_metrics  | MetricCollection | 0      | train\n",
      "4 | model         | Sequential       | 19.7 K | train\n",
      "5 | loss_fn       | NLLLoss          | 0      | train\n",
      "6 | optimizer     | RMSprop          | 0      | train\n",
      "-----------------------------------------------------------\n",
      "19.7 K    Trainable params\n",
      "0         Non-trainable params\n",
      "19.7 K    Total params\n",
      "0.079     Total estimated model params size (MB)\n",
      "30        Modules in train mode\n",
      "1         Modules in eval mode\n",
      "C:\\Users\\Nils\\AppData\\Local\\Packages\\PythonSoftwareFoundation.Python.3.12_qbz5n2kfra8p0\\LocalCache\\local-packages\\Python312\\site-packages\\lightning\\pytorch\\trainer\\connectors\\data_connector.py:425: The 'train_dataloader' does not have many workers which may be a bottleneck. Consider increasing the value of the `num_workers` argument` to `num_workers=11` in the `DataLoader` to improve performance.\n"
     ]
    },
    {
     "name": "stdout",
     "output_type": "stream",
     "text": [
      "Epoch 29: 100%|██████████| 50/50 [00:00<00:00, 73.73it/s, v_num=156]\n",
      "    Accuracy: 0.8825  =>  Error: 0.1175\n",
      "  Repeat 7/8\n"
     ]
    },
    {
     "name": "stderr",
     "output_type": "stream",
     "text": [
      "C:\\Users\\Nils\\AppData\\Local\\Packages\\PythonSoftwareFoundation.Python.3.12_qbz5n2kfra8p0\\LocalCache\\local-packages\\Python312\\site-packages\\lightning\\pytorch\\trainer\\configuration_validator.py:70: You defined a `validation_step` but have no `val_dataloader`. Skipping val loop.\n",
      "\n",
      "  | Name          | Type             | Params | Mode \n",
      "-----------------------------------------------------------\n",
      "0 | loss          | CrossEntropyLoss | 0      | eval \n",
      "1 | train_metrics | MetricCollection | 0      | train\n",
      "2 | val_metrics   | MetricCollection | 0      | train\n",
      "3 | test_metrics  | MetricCollection | 0      | train\n",
      "4 | model         | Sequential       | 19.7 K | train\n",
      "5 | loss_fn       | NLLLoss          | 0      | train\n",
      "6 | optimizer     | RMSprop          | 0      | train\n",
      "-----------------------------------------------------------\n",
      "19.7 K    Trainable params\n",
      "0         Non-trainable params\n",
      "19.7 K    Total params\n",
      "0.079     Total estimated model params size (MB)\n",
      "30        Modules in train mode\n",
      "1         Modules in eval mode\n",
      "C:\\Users\\Nils\\AppData\\Local\\Packages\\PythonSoftwareFoundation.Python.3.12_qbz5n2kfra8p0\\LocalCache\\local-packages\\Python312\\site-packages\\lightning\\pytorch\\trainer\\connectors\\data_connector.py:425: The 'train_dataloader' does not have many workers which may be a bottleneck. Consider increasing the value of the `num_workers` argument` to `num_workers=11` in the `DataLoader` to improve performance.\n"
     ]
    },
    {
     "name": "stdout",
     "output_type": "stream",
     "text": [
      "Epoch 29: 100%|██████████| 50/50 [00:00<00:00, 73.40it/s, v_num=157]\n",
      "    Accuracy: 0.1900  =>  Error: 0.8100\n",
      "  Repeat 8/8\n"
     ]
    },
    {
     "name": "stderr",
     "output_type": "stream",
     "text": [
      "C:\\Users\\Nils\\AppData\\Local\\Packages\\PythonSoftwareFoundation.Python.3.12_qbz5n2kfra8p0\\LocalCache\\local-packages\\Python312\\site-packages\\lightning\\pytorch\\trainer\\configuration_validator.py:70: You defined a `validation_step` but have no `val_dataloader`. Skipping val loop.\n",
      "\n",
      "  | Name          | Type             | Params | Mode \n",
      "-----------------------------------------------------------\n",
      "0 | loss          | CrossEntropyLoss | 0      | eval \n",
      "1 | train_metrics | MetricCollection | 0      | train\n",
      "2 | val_metrics   | MetricCollection | 0      | train\n",
      "3 | test_metrics  | MetricCollection | 0      | train\n",
      "4 | model         | Sequential       | 19.7 K | train\n",
      "5 | loss_fn       | NLLLoss          | 0      | train\n",
      "6 | optimizer     | RMSprop          | 0      | train\n",
      "-----------------------------------------------------------\n",
      "19.7 K    Trainable params\n",
      "0         Non-trainable params\n",
      "19.7 K    Total params\n",
      "0.079     Total estimated model params size (MB)\n",
      "30        Modules in train mode\n",
      "1         Modules in eval mode\n",
      "C:\\Users\\Nils\\AppData\\Local\\Packages\\PythonSoftwareFoundation.Python.3.12_qbz5n2kfra8p0\\LocalCache\\local-packages\\Python312\\site-packages\\lightning\\pytorch\\trainer\\connectors\\data_connector.py:425: The 'train_dataloader' does not have many workers which may be a bottleneck. Consider increasing the value of the `num_workers` argument` to `num_workers=11` in the `DataLoader` to improve performance.\n"
     ]
    },
    {
     "name": "stdout",
     "output_type": "stream",
     "text": [
      "Epoch 29: 100%|██████████| 50/50 [00:00<00:00, 76.42it/s, v_num=158]\n",
      "    Accuracy: 0.8450  =>  Error: 0.1550\n"
     ]
    },
    {
     "name": "stderr",
     "output_type": "stream",
     "text": [
      "C:\\Users\\Nils\\AppData\\Local\\Temp\\ipykernel_24980\\1151967944.py:38: MatplotlibDeprecationWarning: The 'labels' parameter of boxplot() has been renamed 'tick_labels' since Matplotlib 3.9; support for the old name will be dropped in 3.11.\n",
      "  plt.boxplot(errors_by_epoch, labels=[str(e) for e in epoch_values], patch_artist=True)\n"
     ]
    },
    {
     "data": {
      "image/png": "[encoded data removed]",
      "text/plain": [
       "<Figure size 1000x600 with 1 Axes>"
      ]
     },
     "metadata": {},
     "output_type": "display_data"
    },
    {
     "name": "stdout",
     "output_type": "stream",
     "text": [
      "\n",
      "epochs = 1, Sorted Errors (8 values):\n",
      "[0.71, 0.75, 0.79, 0.8225, 0.8325, 0.835, 0.835, 0.8425]\n",
      "\n",
      "epochs = 3, Sorted Errors (8 values):\n",
      "[0.7025, 0.7175, 0.7224999999999999, 0.81, 0.8225, 0.835, 0.8425, 0.85]\n",
      "\n",
      "epochs = 5, Sorted Errors (8 values):\n",
      "[0.505, 0.5075000000000001, 0.7050000000000001, 0.8200000000000001, 0.8225, 0.825, 0.835, 0.8425]\n",
      "\n",
      "epochs = 7, Sorted Errors (8 values):\n",
      "[0.3325, 0.36250000000000004, 0.41000000000000003, 0.4175, 0.475, 0.5449999999999999, 0.5675, 0.7825]\n",
      "\n",
      "epochs = 10, Sorted Errors (8 values):\n",
      "[0.24250000000000005, 0.36, 0.36750000000000005, 0.4375, 0.45499999999999996, 0.6174999999999999, 0.8225, 0.835]\n",
      "\n",
      "epochs = 15, Sorted Errors (8 values):\n",
      "[0.14749999999999996, 0.31499999999999995, 0.32999999999999996, 0.43999999999999995, 0.5275000000000001, 0.81, 0.8200000000000001, 0.8325]\n",
      "\n",
      "epochs = 20, Sorted Errors (8 values):\n",
      "[0.09999999999999998, 0.135, 0.15500000000000003, 0.1725, 0.22999999999999998, 0.2825, 0.31000000000000005, 0.8325]\n",
      "\n",
      "epochs = 30, Sorted Errors (8 values):\n",
      "[0.09999999999999998, 0.10499999999999998, 0.11750000000000005, 0.12250000000000005, 0.15500000000000003, 0.22250000000000003, 0.81, 0.835]\n"
     ]
    }
   ],
   "source": [
    "#CV + tune CNN\n",
    "import numpy as np\n",
    "import matplotlib.pyplot as plt\n",
    "from sklearn.model_selection import train_test_split\n",
    "from sklearn.metrics import accuracy_score\n",
    "import torch\n",
    "\n",
    "# Define the number of epochs to test\n",
    "epoch_values = [1, 3, 5, 7, 10, 15, 20,30]\n",
    "repeats = 8\n",
    "errors_by_epoch = []\n",
    "\n",
    "# Load data\n",
    "images, labels = read_mnist_txt(\"Numbers.txt\")\n",
    "\n",
    "for epochs in epoch_values:\n",
    "    print(f\"Testing epochs = {epochs}\")\n",
    "    error_list = []\n",
    "\n",
    "    for repeat in range(repeats):\n",
    "        print(f\"  Repeat {repeat + 1}/{repeats}\")\n",
    "        \n",
    "        train_images, test_images, train_labels, test_labels = train_test_split(\n",
    "            images, labels, test_size=0.2, random_state=42 + repeat  # slight variation in data\n",
    "        )\n",
    "\n",
    "        classifier = train_cnn(train_images, train_labels, lr=0.001, epochs=epochs)\n",
    "        predictions = predict_with__cnn(classifier, test_images)\n",
    "        \n",
    "        acc = accuracy_score(test_labels, predictions)\n",
    "        error = 1 - acc\n",
    "        print(f\"    Accuracy: {acc:.4f}  =>  Error: {error:.4f}\")\n",
    "        error_list.append(error)\n",
    "\n",
    "    errors_by_epoch.append(error_list)\n",
    "\n",
    "# Plotting\n",
    "plt.figure(figsize=(10, 6))\n",
    "plt.boxplot(errors_by_epoch, labels=[str(e) for e in epoch_values], patch_artist=True)\n",
    "plt.title(\"CNN Classification Error vs Number of Epochs\")\n",
    "plt.xlabel(\"Number of Epochs\")\n",
    "plt.ylabel(\"Classification Error (1 - Accuracy)\")\n",
    "plt.grid(True)\n",
    "plt.show()\n",
    "\n",
    "# Print sorted errors\n",
    "for i, e in enumerate(epoch_values):\n",
    "    sorted_errors = sorted(errors_by_epoch[i])\n",
    "    print(f\"\\nepochs = {e}, Sorted Errors ({len(sorted_errors)} values):\")\n",
    "    print(sorted_errors)\n"
   ]
  },
  {
   "cell_type": "code",
   "execution_count": 2,
   "id": "984c4377",
   "metadata": {},
   "outputs": [
    {
     "ename": "NameError",
     "evalue": "name 'errors_by_epoch' is not defined",
     "output_type": "error",
     "traceback": [
      "\u001b[1;31m---------------------------------------------------------------------------\u001b[0m",
      "\u001b[1;31mNameError\u001b[0m                                 Traceback (most recent call last)",
      "Cell \u001b[1;32mIn[2], line 1\u001b[0m\n\u001b[1;32m----> 1\u001b[0m cnn_mean_errors \u001b[38;5;241m=\u001b[39m [np\u001b[38;5;241m.\u001b[39mmean(errs) \u001b[38;5;28;01mfor\u001b[39;00m errs \u001b[38;5;129;01min\u001b[39;00m \u001b[43merrors_by_epoch\u001b[49m]\n\u001b[0;32m      3\u001b[0m plt\u001b[38;5;241m.\u001b[39mfigure(figsize\u001b[38;5;241m=\u001b[39m(\u001b[38;5;241m8\u001b[39m, \u001b[38;5;241m5\u001b[39m))\n\u001b[0;32m      4\u001b[0m plt\u001b[38;5;241m.\u001b[39mplot(epoch_values, cnn_mean_errors, marker\u001b[38;5;241m=\u001b[39m\u001b[38;5;124m'\u001b[39m\u001b[38;5;124mo\u001b[39m\u001b[38;5;124m'\u001b[39m, linestyle\u001b[38;5;241m=\u001b[39m\u001b[38;5;124m'\u001b[39m\u001b[38;5;124m-\u001b[39m\u001b[38;5;124m'\u001b[39m, color\u001b[38;5;241m=\u001b[39m\u001b[38;5;124m'\u001b[39m\u001b[38;5;124mblue\u001b[39m\u001b[38;5;124m'\u001b[39m)\n",
      "\u001b[1;31mNameError\u001b[0m: name 'errors_by_epoch' is not defined"
     ]
    }
   ],
   "source": [
    "cnn_mean_errors = [np.mean(errs) for errs in errors_by_epoch]\n",
    "\n",
    "plt.figure(figsize=(8, 5))\n",
    "plt.plot(epoch_values, cnn_mean_errors, marker='o', linestyle='-', color='blue')\n",
    "plt.title(\"Mean Classification Error vs. Epochs (CNN)\")\n",
    "plt.xlabel(\"Number of Epochs\")\n",
    "plt.ylabel(\"Mean Classification Error\")\n",
    "plt.grid(True)\n",
    "plt.show()\n"
   ]
  }
 ],
 "metadata": {
  "kernelspec": {
   "display_name": "Python 3",
   "language": "python",
   "name": "python3"
  },
  "language_info": {
   "codemirror_mode": {
    "name": "ipython",
    "version": 3
   },
   "file_extension": ".py",
   "mimetype": "text/x-python",
   "name": "python",
   "nbconvert_exporter": "python",
   "pygments_lexer": "ipython3",
   "version": "3.12.9"
  }
 },
 "nbformat": 4,
 "nbformat_minor": 5
}
